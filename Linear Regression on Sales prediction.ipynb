#!/usr/bin/env python
# coding: utf-8

# In[2]:


import pandas as pd


# In[3]:


import matplotlib.pyplot as plt
get_ipython().run_line_magic('matpllotlib', 'inline')


# In[4]:


data = pd.read_csv('Advertising.csv')


# In[5]:


data.head()


# In[6]:


data.tail()


# In[7]:


data.info()


# In[8]:


data.isna().sum()


# In[9]:


plt.scatter(data['TV'],data['sales'])


# In[10]:


fig, axs=plt.subplots(1,3,sharey=True)
data.plot(kind='scatter',x='TV',y='sales',ax=axs[0],figsize=(16,8))
data.plot(kind='hist', x='radio', y='sales', ax=axs[1])
data.plot(kind='bar', x='newspaper', y='sales', ax=axs[2])


# In[11]:


#feature_cols = ['TV']
X = data[['TV']]
y = data[['sales']]


# In[12]:


from sklearn.linear_model import LinearRegression
regr=LinearRegression()
regr.fit(X,y)


# In[13]:


print(regr.intercept_)
print(regr.coef_)


# In[14]:


predicted_N=regr.predict(X)
predicted_N


# In[15]:


data.plot(kind='scatter', x='TV', y='sales')
plt.plot(X,predicted_N,c='red')


# In[18]:


predicted_N=regr.predict([[50]])
predicted_N


# In[19]:


predicted_N=regr.predict([[60]])
predicted_N


# In[20]:


X_new = pd.DataFrame({'TV': [50]})
X_new.head()


# In[21]:


regr.predict(X_new)


# In[ ]:





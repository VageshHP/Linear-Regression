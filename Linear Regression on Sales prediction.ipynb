<!DOCTYPE html>
<html>
<head><meta charset="utf-8" />

<title>practice_LR</title>

<script src="https://cdnjs.cloudflare.com/ajax/libs/require.js/2.1.10/require.min.js"></script>
<script src="https://cdnjs.cloudflare.com/ajax/libs/jquery/2.0.3/jquery.min.js"></script>



<style type="text/css">
    /*!
*
* Twitter Bootstrap
*
*/
/*!
 * Bootstrap v3.3.7 (http://getbootstrap.com)
 * Copyright 2011-2016 Twitter, Inc.
 * Licensed under MIT (https://github.com/twbs/bootstrap/blob/master/LICENSE)
 */
/*! normalize.css v3.0.3 | MIT License | github.com/necolas/normalize.css */
html {
  font-family: sans-serif;
  -ms-text-size-adjust: 100%;
  -webkit-text-size-adjust: 100%;
}
body {
  margin: 0;
}
article,
aside,
details,
figcaption,
figure,
footer,
header,
hgroup,
main,
menu,
nav,
section,
summary {
  display: block;
}
audio,
canvas,
progress,
video {
  display: inline-block;
  vertical-align: baseline;
}
audio:not([controls]) {
  display: none;
  height: 0;
}
[hidden],
template {
  display: none;
}
a {
  background-color: transparent;
}
a:active,
a:hover {
  outline: 0;
}
abbr[title] {
  border-bottom: 1px dotted;
}
b,
strong {
  font-weight: bold;
}
dfn {
  font-style: italic;
}
h1 {
  font-size: 2em;
  margin: 0.67em 0;
}
mark {
  background: #ff0;
  color: #000;
}
small {
  font-size: 80%;
}
sub,
sup {
  font-size: 75%;
  line-height: 0;
  position: relative;
  vertical-align: baseline;
}
sup {
  top: -0.5em;
}
sub {
  bottom: -0.25em;
}
img {
  border: 0;
}
svg:not(:root) {
  overflow: hidden;
}
figure {
  margin: 1em 40px;
}
hr {
  box-sizing: content-box;
  height: 0;
}
pre {
  overflow: auto;
}
code,
kbd,
pre,
samp {
  font-family: monospace, monospace;
  font-size: 1em;
}
button,
input,
optgroup,
select,
textarea {
  color: inherit;
  font: inherit;
  margin: 0;
}
button {
  overflow: visible;
}
button,
select {
  text-transform: none;
}
button,
html input[type="button"],
input[type="reset"],
input[type="submit"] {
  -webkit-appearance: button;
  cursor: pointer;
}
button[disabled],
html input[disabled] {
  cursor: default;
}
button::-moz-focus-inner,
input::-moz-focus-inner {
  border: 0;
  padding: 0;
}
input {
  line-height: normal;
}
input[type="checkbox"],
input[type="radio"] {
  box-sizing: border-box;
  padding: 0;
}
input[type="number"]::-webkit-inner-spin-button,
input[type="number"]::-webkit-outer-spin-button {
  height: auto;
}
input[type="search"] {
  -webkit-appearance: textfield;
  box-sizing: content-box;
}
input[type="search"]::-webkit-search-cancel-button,
input[type="search"]::-webkit-search-decoration {
  -webkit-appearance: none;
}
fieldset {
  border: 1px solid #c0c0c0;
  margin: 0 2px;
  padding: 0.35em 0.625em 0.75em;
}
legend {
  border: 0;
  padding: 0;
}
textarea {
  overflow: auto;
}
optgroup {
  font-weight: bold;
}
table {
  border-collapse: collapse;
  border-spacing: 0;
}
td,
th {
  padding: 0;
}
/*! Source: https://github.com/h5bp/html5-boilerplate/blob/master/src/css/main.css */
@media print {
  *,
  *:before,
  *:after {
    background: transparent !important;
    box-shadow: none !important;
    text-shadow: none !important;
  }
  a,
  a:visited {
    text-decoration: underline;
  }
  a[href]:after {
    content: " (" attr(href) ")";
  }
  abbr[title]:after {
    content: " (" attr(title) ")";
  }
  a[href^="#"]:after,
  a[href^="javascript:"]:after {
    content: "";
  }
  pre,
  blockquote {
    border: 1px solid #999;
    page-break-inside: avoid;
  }
  thead {
    display: table-header-group;
  }
  tr,
  img {
    page-break-inside: avoid;
  }
  img {
    max-width: 100% !important;
  }
  p,
  h2,
  h3 {
    orphans: 3;
    widows: 3;
  }
  h2,
  h3 {
    page-break-after: avoid;
  }
  .navbar {
    display: none;
  }
  .btn > .caret,
  .dropup > .btn > .caret {
    border-top-color: #000 !important;
  }
  .label {
    border: 1px solid #000;
  }
  .table {
    border-collapse: collapse !important;
  }
  .table td,
  .table th {
    background-color: #fff !important;
  }
  .table-bordered th,
  .table-bordered td {
    border: 1px solid #ddd !important;
  }
}
@font-face {
  font-family: 'Glyphicons Halflings';
  src: url('../components/bootstrap/fonts/glyphicons-halflings-regular.eot');
  src: url('../components/bootstrap/fonts/glyphicons-halflings-regular.eot?#iefix') format('embedded-opentype'), url('../components/bootstrap/fonts/glyphicons-halflings-regular.woff2') format('woff2'), url('../components/bootstrap/fonts/glyphicons-halflings-regular.woff') format('woff'), url('../components/bootstrap/fonts/glyphicons-halflings-regular.ttf') format('truetype'), url('../components/bootstrap/fonts/glyphicons-halflings-regular.svg#glyphicons_halflingsregular') format('svg');
}
.glyphicon {
  position: relative;
  top: 1px;
  display: inline-block;
  font-family: 'Glyphicons Halflings';
  font-style: normal;
  font-weight: normal;
  line-height: 1;
  -webkit-font-smoothing: antialiased;
  -moz-osx-font-smoothing: grayscale;
}
.glyphicon-asterisk:before {
  content: "\002a";
}
.glyphicon-plus:before {
  content: "\002b";
}
.glyphicon-euro:before,
.glyphicon-eur:before {
  content: "\20ac";
}
.glyphicon-minus:before {
  content: "\2212";
}
.glyphicon-cloud:before {
  content: "\2601";
}
.glyphicon-envelope:before {
  content: "\2709";
}
.glyphicon-pencil:before {
  content: "\270f";
}
.glyphicon-glass:before {
  content: "\e001";
}
.glyphicon-music:before {
  content: "\e002";
}
.glyphicon-search:before {
  content: "\e003";
}
.glyphicon-heart:before {
  content: "\e005";
}
.glyphicon-star:before {
  content: "\e006";
}
.glyphicon-star-empty:before {
  content: "\e007";
}
.glyphicon-user:before {
  content: "\e008";
}
.glyphicon-film:before {
  content: "\e009";
}
.glyphicon-th-large:before {
  content: "\e010";
}
.glyphicon-th:before {
  content: "\e011";
}
.glyphicon-th-list:before {
  content: "\e012";
}
.glyphicon-ok:before {
  content: "\e013";
}
.glyphicon-remove:before {
  content: "\e014";
}
.glyphicon-zoom-in:before {
  content: "\e015";
}
.glyphicon-zoom-out:before {
  content: "\e016";
}
.glyphicon-off:before {
  content: "\e017";
}
.glyphicon-signal:before {
  content: "\e018";
}
.glyphicon-cog:before {
  content: "\e019";
}
.glyphicon-trash:before {
  content: "\e020";
}
.glyphicon-home:before {
  content: "\e021";
}
.glyphicon-file:before {
  content: "\e022";
}
.glyphicon-time:before {
  content: "\e023";
}
.glyphicon-road:before {
  content: "\e024";
}
.glyphicon-download-alt:before {
  content: "\e025";
}
.glyphicon-download:before {
  content: "\e026";
}
.glyphicon-upload:before {
  content: "\e027";
}
.glyphicon-inbox:before {
  content: "\e028";
}
.glyphicon-play-circle:before {
  content: "\e029";
}
.glyphicon-repeat:before {
  content: "\e030";
}
.glyphicon-refresh:before {
  content: "\e031";
}
.glyphicon-list-alt:before {
  content: "\e032";
}
.glyphicon-lock:before {
  content: "\e033";
}
.glyphicon-flag:before {
  content: "\e034";
}
.glyphicon-headphones:before {
  content: "\e035";
}
.glyphicon-volume-off:before {
  content: "\e036";
}
.glyphicon-volume-down:before {
  content: "\e037";
}
.glyphicon-volume-up:before {
  content: "\e038";
}
.glyphicon-qrcode:before {
  content: "\e039";
}
.glyphicon-barcode:before {
  content: "\e040";
}
.glyphicon-tag:before {
  content: "\e041";
}
.glyphicon-tags:before {
  content: "\e042";
}
.glyphicon-book:before {
  content: "\e043";
}
.glyphicon-bookmark:before {
  content: "\e044";
}
.glyphicon-print:before {
  content: "\e045";
}
.glyphicon-camera:before {
  content: "\e046";
}
.glyphicon-font:before {
  content: "\e047";
}
.glyphicon-bold:before {
  content: "\e048";
}
.glyphicon-italic:before {
  content: "\e049";
}
.glyphicon-text-height:before {
  content: "\e050";
}
.glyphicon-text-width:before {
  content: "\e051";
}
.glyphicon-align-left:before {
  content: "\e052";
}
.glyphicon-align-center:before {
  content: "\e053";
}
.glyphicon-align-right:before {
  content: "\e054";
}
.glyphicon-align-justify:before {
  content: "\e055";
}
.glyphicon-list:before {
  content: "\e056";
}
.glyphicon-indent-left:before {
  content: "\e057";
}
.glyphicon-indent-right:before {
  content: "\e058";
}
.glyphicon-facetime-video:before {
  content: "\e059";
}
.glyphicon-picture:before {
  content: "\e060";
}
.glyphicon-map-marker:before {
  content: "\e062";
}
.glyphicon-adjust:before {
  content: "\e063";
}
.glyphicon-tint:before {
  content: "\e064";
}
.glyphicon-edit:before {
  content: "\e065";
}
.glyphicon-share:before {
  content: "\e066";
}
.glyphicon-check:before {
  content: "\e067";
}
.glyphicon-move:before {
  content: "\e068";
}
.glyphicon-step-backward:before {
  content: "\e069";
}
.glyphicon-fast-backward:before {
  content: "\e070";
}
.glyphicon-backward:before {
  content: "\e071";
}
.glyphicon-play:before {
  content: "\e072";
}
.glyphicon-pause:before {
  content: "\e073";
}
.glyphicon-stop:before {
  content: "\e074";
}
.glyphicon-forward:before {
  content: "\e075";
}
.glyphicon-fast-forward:before {
  content: "\e076";
}
.glyphicon-step-forward:before {
  content: "\e077";
}
.glyphicon-eject:before {
  content: "\e078";
}
.glyphicon-chevron-left:before {
  content: "\e079";
}
.glyphicon-chevron-right:before {
  content: "\e080";
}
.glyphicon-plus-sign:before {
  content: "\e081";
}
.glyphicon-minus-sign:before {
  content: "\e082";
}
.glyphicon-remove-sign:before {
  content: "\e083";
}
.glyphicon-ok-sign:before {
  content: "\e084";
}
.glyphicon-question-sign:before {
  content: "\e085";
}
.glyphicon-info-sign:before {
  content: "\e086";
}
.glyphicon-screenshot:before {
  content: "\e087";
}
.glyphicon-remove-circle:before {
  content: "\e088";
}
.glyphicon-ok-circle:before {
  content: "\e089";
}
.glyphicon-ban-circle:before {
  content: "\e090";
}
.glyphicon-arrow-left:before {
  content: "\e091";
}
.glyphicon-arrow-right:before {
  content: "\e092";
}
.glyphicon-arrow-up:before {
  content: "\e093";
}
.glyphicon-arrow-down:before {
  content: "\e094";
}
.glyphicon-share-alt:before {
  content: "\e095";
}
.glyphicon-resize-full:before {
  content: "\e096";
}
.glyphicon-resize-small:before {
  content: "\e097";
}
.glyphicon-exclamation-sign:before {
  content: "\e101";
}
.glyphicon-gift:before {
  content: "\e102";
}
.glyphicon-leaf:before {
  content: "\e103";
}
.glyphicon-fire:before {
  content: "\e104";
}
.glyphicon-eye-open:before {
  content: "\e105";
}
.glyphicon-eye-close:before {
  content: "\e106";
}
.glyphicon-warning-sign:before {
  content: "\e107";
}
.glyphicon-plane:before {
  content: "\e108";
}
.glyphicon-calendar:before {
  content: "\e109";
}
.glyphicon-random:before {
  content: "\e110";
}
.glyphicon-comment:before {
  content: "\e111";
}
.glyphicon-magnet:before {
  content: "\e112";
}
.glyphicon-chevron-up:before {
  content: "\e113";
}
.glyphicon-chevron-down:before {
  content: "\e114";
}
.glyphicon-retweet:before {
  content: "\e115";
}
.glyphicon-shopping-cart:before {
  content: "\e116";
}
.glyphicon-folder-close:before {
  content: "\e117";
}
.glyphicon-folder-open:before {
  content: "\e118";
}
.glyphicon-resize-vertical:before {
  content: "\e119";
}
.glyphicon-resize-horizontal:before {
  content: "\e120";
}
.glyphicon-hdd:before {
  content: "\e121";
}
.glyphicon-bullhorn:before {
  content: "\e122";
}
.glyphicon-bell:before {
  content: "\e123";
}
.glyphicon-certificate:before {
  content: "\e124";
}
.glyphicon-thumbs-up:before {
  content: "\e125";
}
.glyphicon-thumbs-down:before {
  content: "\e126";
}
.glyphicon-hand-right:before {
  content: "\e127";
}
.glyphicon-hand-left:before {
  content: "\e128";
}
.glyphicon-hand-up:before {
  content: "\e129";
}
.glyphicon-hand-down:before {
  content: "\e130";
}
.glyphicon-circle-arrow-right:before {
  content: "\e131";
}
.glyphicon-circle-arrow-left:before {
  content: "\e132";
}
.glyphicon-circle-arrow-up:before {
  content: "\e133";
}
.glyphicon-circle-arrow-down:before {
  content: "\e134";
}
.glyphicon-globe:before {
  content: "\e135";
}
.glyphicon-wrench:before {
  content: "\e136";
}
.glyphicon-tasks:before {
  content: "\e137";
}
.glyphicon-filter:before {
  content: "\e138";
}
.glyphicon-briefcase:before {
  content: "\e139";
}
.glyphicon-fullscreen:before {
  content: "\e140";
}
.glyphicon-dashboard:before {
  content: "\e141";
}
.glyphicon-paperclip:before {
  content: "\e142";
}
.glyphicon-heart-empty:before {
  content: "\e143";
}
.glyphicon-link:before {
  content: "\e144";
}
.glyphicon-phone:before {
  content: "\e145";
}
.glyphicon-pushpin:before {
  content: "\e146";
}
.glyphicon-usd:before {
  content: "\e148";
}
.glyphicon-gbp:before {
  content: "\e149";
}
.glyphicon-sort:before {
  content: "\e150";
}
.glyphicon-sort-by-alphabet:before {
  content: "\e151";
}
.glyphicon-sort-by-alphabet-alt:before {
  content: "\e152";
}
.glyphicon-sort-by-order:before {
  content: "\e153";
}
.glyphicon-sort-by-order-alt:before {
  content: "\e154";
}
.glyphicon-sort-by-attributes:before {
  content: "\e155";
}
.glyphicon-sort-by-attributes-alt:before {
  content: "\e156";
}
.glyphicon-unchecked:before {
  content: "\e157";
}
.glyphicon-expand:before {
  content: "\e158";
}
.glyphicon-collapse-down:before {
  content: "\e159";
}
.glyphicon-collapse-up:before {
  content: "\e160";
}
.glyphicon-log-in:before {
  content: "\e161";
}
.glyphicon-flash:before {
  content: "\e162";
}
.glyphicon-log-out:before {
  content: "\e163";
}
.glyphicon-new-window:before {
  content: "\e164";
}
.glyphicon-record:before {
  content: "\e165";
}
.glyphicon-save:before {
  content: "\e166";
}
.glyphicon-open:before {
  content: "\e167";
}
.glyphicon-saved:before {
  content: "\e168";
}
.glyphicon-import:before {
  content: "\e169";
}
.glyphicon-export:before {
  content: "\e170";
}
.glyphicon-send:before {
  content: "\e171";
}
.glyphicon-floppy-disk:before {
  content: "\e172";
}
.glyphicon-floppy-saved:before {
  content: "\e173";
}
.glyphicon-floppy-remove:before {
  content: "\e174";
}
.glyphicon-floppy-save:before {
  content: "\e175";
}
.glyphicon-floppy-open:before {
  content: "\e176";
}
.glyphicon-credit-card:before {
  content: "\e177";
}
.glyphicon-transfer:before {
  content: "\e178";
}
.glyphicon-cutlery:before {
  content: "\e179";
}
.glyphicon-header:before {
  content: "\e180";
}
.glyphicon-compressed:before {
  content: "\e181";
}
.glyphicon-earphone:before {
  content: "\e182";
}
.glyphicon-phone-alt:before {
  content: "\e183";
}
.glyphicon-tower:before {
  content: "\e184";
}
.glyphicon-stats:before {
  content: "\e185";
}
.glyphicon-sd-video:before {
  content: "\e186";
}
.glyphicon-hd-video:before {
  content: "\e187";
}
.glyphicon-subtitles:before {
  content: "\e188";
}
.glyphicon-sound-stereo:before {
  content: "\e189";
}
.glyphicon-sound-dolby:before {
  content: "\e190";
}
.glyphicon-sound-5-1:before {
  content: "\e191";
}
.glyphicon-sound-6-1:before {
  content: "\e192";
}
.glyphicon-sound-7-1:before {
  content: "\e193";
}
.glyphicon-copyright-mark:before {
  content: "\e194";
}
.glyphicon-registration-mark:before {
  content: "\e195";
}
.glyphicon-cloud-download:before {
  content: "\e197";
}
.glyphicon-cloud-upload:before {
  content: "\e198";
}
.glyphicon-tree-conifer:before {
  content: "\e199";
}
.glyphicon-tree-deciduous:before {
  content: "\e200";
}
.glyphicon-cd:before {
  content: "\e201";
}
.glyphicon-save-file:before {
  content: "\e202";
}
.glyphicon-open-file:before {
  content: "\e203";
}
.glyphicon-level-up:before {
  content: "\e204";
}
.glyphicon-copy:before {
  content: "\e205";
}
.glyphicon-paste:before {
  content: "\e206";
}
.glyphicon-alert:before {
  content: "\e209";
}
.glyphicon-equalizer:before {
  content: "\e210";
}
.glyphicon-king:before {
  content: "\e211";
}
.glyphicon-queen:before {
  content: "\e212";
}
.glyphicon-pawn:before {
  content: "\e213";
}
.glyphicon-bishop:before {
  content: "\e214";
}
.glyphicon-knight:before {
  content: "\e215";
}
.glyphicon-baby-formula:before {
  content: "\e216";
}
.glyphicon-tent:before {
  content: "\26fa";
}
.glyphicon-blackboard:before {
  content: "\e218";
}
.glyphicon-bed:before {
  content: "\e219";
}
.glyphicon-apple:before {
  content: "\f8ff";
}
.glyphicon-erase:before {
  content: "\e221";
}
.glyphicon-hourglass:before {
  content: "\231b";
}
.glyphicon-lamp:before {
  content: "\e223";
}
.glyphicon-duplicate:before {
  content: "\e224";
}
.glyphicon-piggy-bank:before {
  content: "\e225";
}
.glyphicon-scissors:before {
  content: "\e226";
}
.glyphicon-bitcoin:before {
  content: "\e227";
}
.glyphicon-btc:before {
  content: "\e227";
}
.glyphicon-xbt:before {
  content: "\e227";
}
.glyphicon-yen:before {
  content: "\00a5";
}
.glyphicon-jpy:before {
  content: "\00a5";
}
.glyphicon-ruble:before {
  content: "\20bd";
}
.glyphicon-rub:before {
  content: "\20bd";
}
.glyphicon-scale:before {
  content: "\e230";
}
.glyphicon-ice-lolly:before {
  content: "\e231";
}
.glyphicon-ice-lolly-tasted:before {
  content: "\e232";
}
.glyphicon-education:before {
  content: "\e233";
}
.glyphicon-option-horizontal:before {
  content: "\e234";
}
.glyphicon-option-vertical:before {
  content: "\e235";
}
.glyphicon-menu-hamburger:before {
  content: "\e236";
}
.glyphicon-modal-window:before {
  content: "\e237";
}
.glyphicon-oil:before {
  content: "\e238";
}
.glyphicon-grain:before {
  content: "\e239";
}
.glyphicon-sunglasses:before {
  content: "\e240";
}
.glyphicon-text-size:before {
  content: "\e241";
}
.glyphicon-text-color:before {
  content: "\e242";
}
.glyphicon-text-background:before {
  content: "\e243";
}
.glyphicon-object-align-top:before {
  content: "\e244";
}
.glyphicon-object-align-bottom:before {
  content: "\e245";
}
.glyphicon-object-align-horizontal:before {
  content: "\e246";
}
.glyphicon-object-align-left:before {
  content: "\e247";
}
.glyphicon-object-align-vertical:before {
  content: "\e248";
}
.glyphicon-object-align-right:before {
  content: "\e249";
}
.glyphicon-triangle-right:before {
  content: "\e250";
}
.glyphicon-triangle-left:before {
  content: "\e251";
}
.glyphicon-triangle-bottom:before {
  content: "\e252";
}
.glyphicon-triangle-top:before {
  content: "\e253";
}
.glyphicon-console:before {
  content: "\e254";
}
.glyphicon-superscript:before {
  content: "\e255";
}
.glyphicon-subscript:before {
  content: "\e256";
}
.glyphicon-menu-left:before {
  content: "\e257";
}
.glyphicon-menu-right:before {
  content: "\e258";
}
.glyphicon-menu-down:before {
  content: "\e259";
}
.glyphicon-menu-up:before {
  content: "\e260";
}
* {
  -webkit-box-sizing: border-box;
  -moz-box-sizing: border-box;
  box-sizing: border-box;
}
*:before,
*:after {
  -webkit-box-sizing: border-box;
  -moz-box-sizing: border-box;
  box-sizing: border-box;
}
html {
  font-size: 10px;
  -webkit-tap-highlight-color: rgba(0, 0, 0, 0);
}
body {
  font-family: "Helvetica Neue", Helvetica, Arial, sans-serif;
  font-size: 13px;
  line-height: 1.42857143;
  color: #000;
  background-color: #fff;
}
input,
button,
select,
textarea {
  font-family: inherit;
  font-size: inherit;
  line-height: inherit;
}
a {
  color: #337ab7;
  text-decoration: none;
}
a:hover,
a:focus {
  color: #23527c;
  text-decoration: underline;
}
a:focus {
  outline: 5px auto -webkit-focus-ring-color;
  outline-offset: -2px;
}
figure {
  margin: 0;
}
img {
  vertical-align: middle;
}
.img-responsive,
.thumbnail > img,
.thumbnail a > img,
.carousel-inner > .item > img,
.carousel-inner > .item > a > img {
  display: block;
  max-width: 100%;
  height: auto;
}
.img-rounded {
  border-radius: 3px;
}
.img-thumbnail {
  padding: 4px;
  line-height: 1.42857143;
  background-color: #fff;
  border: 1px solid #ddd;
  border-radius: 2px;
  -webkit-transition: all 0.2s ease-in-out;
  -o-transition: all 0.2s ease-in-out;
  transition: all 0.2s ease-in-out;
  display: inline-block;
  max-width: 100%;
  height: auto;
}
.img-circle {
  border-radius: 50%;
}
hr {
  margin-top: 18px;
  margin-bottom: 18px;
  border: 0;
  border-top: 1px solid #eeeeee;
}
.sr-only {
  position: absolute;
  width: 1px;
  height: 1px;
  margin: -1px;
  padding: 0;
  overflow: hidden;
  clip: rect(0, 0, 0, 0);
  border: 0;
}
.sr-only-focusable:active,
.sr-only-focusable:focus {
  position: static;
  width: auto;
  height: auto;
  margin: 0;
  overflow: visible;
  clip: auto;
}
[role="button"] {
  cursor: pointer;
}
h1,
h2,
h3,
h4,
h5,
h6,
.h1,
.h2,
.h3,
.h4,
.h5,
.h6 {
  font-family: inherit;
  font-weight: 500;
  line-height: 1.1;
  color: inherit;
}
h1 small,
h2 small,
h3 small,
h4 small,
h5 small,
h6 small,
.h1 small,
.h2 small,
.h3 small,
.h4 small,
.h5 small,
.h6 small,
h1 .small,
h2 .small,
h3 .small,
h4 .small,
h5 .small,
h6 .small,
.h1 .small,
.h2 .small,
.h3 .small,
.h4 .small,
.h5 .small,
.h6 .small {
  font-weight: normal;
  line-height: 1;
  color: #777777;
}
h1,
.h1,
h2,
.h2,
h3,
.h3 {
  margin-top: 18px;
  margin-bottom: 9px;
}
h1 small,
.h1 small,
h2 small,
.h2 small,
h3 small,
.h3 small,
h1 .small,
.h1 .small,
h2 .small,
.h2 .small,
h3 .small,
.h3 .small {
  font-size: 65%;
}
h4,
.h4,
h5,
.h5,
h6,
.h6 {
  margin-top: 9px;
  margin-bottom: 9px;
}
h4 small,
.h4 small,
h5 small,
.h5 small,
h6 small,
.h6 small,
h4 .small,
.h4 .small,
h5 .small,
.h5 .small,
h6 .small,
.h6 .small {
  font-size: 75%;
}
h1,
.h1 {
  font-size: 33px;
}
h2,
.h2 {
  font-size: 27px;
}
h3,
.h3 {
  font-size: 23px;
}
h4,
.h4 {
  font-size: 17px;
}
h5,
.h5 {
  font-size: 13px;
}
h6,
.h6 {
  font-size: 12px;
}
p {
  margin: 0 0 9px;
}
.lead {
  margin-bottom: 18px;
  font-size: 14px;
  font-weight: 300;
  line-height: 1.4;
}
@media (min-width: 768px) {
  .lead {
    font-size: 19.5px;
  }
}
small,
.small {
  font-size: 92%;
}
mark,
.mark {
  background-color: #fcf8e3;
  padding: .2em;
}
.text-left {
  text-align: left;
}
.text-right {
  text-align: right;
}
.text-center {
  text-align: center;
}
.text-justify {
  text-align: justify;
}
.text-nowrap {
  white-space: nowrap;
}
.text-lowercase {
  text-transform: lowercase;
}
.text-uppercase {
  text-transform: uppercase;
}
.text-capitalize {
  text-transform: capitalize;
}
.text-muted {
  color: #777777;
}
.text-primary {
  color: #337ab7;
}
a.text-primary:hover,
a.text-primary:focus {
  color: #286090;
}
.text-success {
  color: #3c763d;
}
a.text-success:hover,
a.text-success:focus {
  color: #2b542c;
}
.text-info {
  color: #31708f;
}
a.text-info:hover,
a.text-info:focus {
  color: #245269;
}
.text-warning {
  color: #8a6d3b;
}
a.text-warning:hover,
a.text-warning:focus {
  color: #66512c;
}
.text-danger {
  color: #a94442;
}
a.text-danger:hover,
a.text-danger:focus {
  color: #843534;
}
.bg-primary {
  color: #fff;
  background-color: #337ab7;
}
a.bg-primary:hover,
a.bg-primary:focus {
  background-color: #286090;
}
.bg-success {
  background-color: #dff0d8;
}
a.bg-success:hover,
a.bg-success:focus {
  background-color: #c1e2b3;
}
.bg-info {
  background-color: #d9edf7;
}
a.bg-info:hover,
a.bg-info:focus {
  background-color: #afd9ee;
}
.bg-warning {
  background-color: #fcf8e3;
}
a.bg-warning:hover,
a.bg-warning:focus {
  background-color: #f7ecb5;
}
.bg-danger {
  background-color: #f2dede;
}
a.bg-danger:hover,
a.bg-danger:focus {
  background-color: #e4b9b9;
}
.page-header {
  padding-bottom: 8px;
  margin: 36px 0 18px;
  border-bottom: 1px solid #eeeeee;
}
ul,
ol {
  margin-top: 0;
  margin-bottom: 9px;
}
ul ul,
ol ul,
ul ol,
ol ol {
  margin-bottom: 0;
}
.list-unstyled {
  padding-left: 0;
  list-style: none;
}
.list-inline {
  padding-left: 0;
  list-style: none;
  margin-left: -5px;
}
.list-inline > li {
  display: inline-block;
  padding-left: 5px;
  padding-right: 5px;
}
dl {
  margin-top: 0;
  margin-bottom: 18px;
}
dt,
dd {
  line-height: 1.42857143;
}
dt {
  font-weight: bold;
}
dd {
  margin-left: 0;
}
@media (min-width: 541px) {
  .dl-horizontal dt {
    float: left;
    width: 160px;
    clear: left;
    text-align: right;
    overflow: hidden;
    text-overflow: ellipsis;
    white-space: nowrap;
  }
  .dl-horizontal dd {
    margin-left: 180px;
  }
}
abbr[title],
abbr[data-original-title] {
  cursor: help;
  border-bottom: 1px dotted #777777;
}
.initialism {
  font-size: 90%;
  text-transform: uppercase;
}
blockquote {
  padding: 9px 18px;
  margin: 0 0 18px;
  font-size: inherit;
  border-left: 5px solid #eeeeee;
}
blockquote p:last-child,
blockquote ul:last-child,
blockquote ol:last-child {
  margin-bottom: 0;
}
blockquote footer,
blockquote small,
blockquote .small {
  display: block;
  font-size: 80%;
  line-height: 1.42857143;
  color: #777777;
}
blockquote footer:before,
blockquote small:before,
blockquote .small:before {
  content: '\2014 \00A0';
}
.blockquote-reverse,
blockquote.pull-right {
  padding-right: 15px;
  padding-left: 0;
  border-right: 5px solid #eeeeee;
  border-left: 0;
  text-align: right;
}
.blockquote-reverse footer:before,
blockquote.pull-right footer:before,
.blockquote-reverse small:before,
blockquote.pull-right small:before,
.blockquote-reverse .small:before,
blockquote.pull-right .small:before {
  content: '';
}
.blockquote-reverse footer:after,
blockquote.pull-right footer:after,
.blockquote-reverse small:after,
blockquote.pull-right small:after,
.blockquote-reverse .small:after,
blockquote.pull-right .small:after {
  content: '\00A0 \2014';
}
address {
  margin-bottom: 18px;
  font-style: normal;
  line-height: 1.42857143;
}
code,
kbd,
pre,
samp {
  font-family: monospace;
}
code {
  padding: 2px 4px;
  font-size: 90%;
  color: #c7254e;
  background-color: #f9f2f4;
  border-radius: 2px;
}
kbd {
  padding: 2px 4px;
  font-size: 90%;
  color: #888;
  background-color: transparent;
  border-radius: 1px;
  box-shadow: inset 0 -1px 0 rgba(0, 0, 0, 0.25);
}
kbd kbd {
  padding: 0;
  font-size: 100%;
  font-weight: bold;
  box-shadow: none;
}
pre {
  display: block;
  padding: 8.5px;
  margin: 0 0 9px;
  font-size: 12px;
  line-height: 1.42857143;
  word-break: break-all;
  word-wrap: break-word;
  color: #333333;
  background-color: #f5f5f5;
  border: 1px solid #ccc;
  border-radius: 2px;
}
pre code {
  padding: 0;
  font-size: inherit;
  color: inherit;
  white-space: pre-wrap;
  background-color: transparent;
  border-radius: 0;
}
.pre-scrollable {
  max-height: 340px;
  overflow-y: scroll;
}
.container {
  margin-right: auto;
  margin-left: auto;
  padding-left: 0px;
  padding-right: 0px;
}
@media (min-width: 768px) {
  .container {
    width: 768px;
  }
}
@media (min-width: 992px) {
  .container {
    width: 940px;
  }
}
@media (min-width: 1200px) {
  .container {
    width: 1140px;
  }
}
.container-fluid {
  margin-right: auto;
  margin-left: auto;
  padding-left: 0px;
  padding-right: 0px;
}
.row {
  margin-left: 0px;
  margin-right: 0px;
}
.col-xs-1, .col-sm-1, .col-md-1, .col-lg-1, .col-xs-2, .col-sm-2, .col-md-2, .col-lg-2, .col-xs-3, .col-sm-3, .col-md-3, .col-lg-3, .col-xs-4, .col-sm-4, .col-md-4, .col-lg-4, .col-xs-5, .col-sm-5, .col-md-5, .col-lg-5, .col-xs-6, .col-sm-6, .col-md-6, .col-lg-6, .col-xs-7, .col-sm-7, .col-md-7, .col-lg-7, .col-xs-8, .col-sm-8, .col-md-8, .col-lg-8, .col-xs-9, .col-sm-9, .col-md-9, .col-lg-9, .col-xs-10, .col-sm-10, .col-md-10, .col-lg-10, .col-xs-11, .col-sm-11, .col-md-11, .col-lg-11, .col-xs-12, .col-sm-12, .col-md-12, .col-lg-12 {
  position: relative;
  min-height: 1px;
  padding-left: 0px;
  padding-right: 0px;
}
.col-xs-1, .col-xs-2, .col-xs-3, .col-xs-4, .col-xs-5, .col-xs-6, .col-xs-7, .col-xs-8, .col-xs-9, .col-xs-10, .col-xs-11, .col-xs-12 {
  float: left;
}
.col-xs-12 {
  width: 100%;
}
.col-xs-11 {
  width: 91.66666667%;
}
.col-xs-10 {
  width: 83.33333333%;
}
.col-xs-9 {
  width: 75%;
}
.col-xs-8 {
  width: 66.66666667%;
}
.col-xs-7 {
  width: 58.33333333%;
}
.col-xs-6 {
  width: 50%;
}
.col-xs-5 {
  width: 41.66666667%;
}
.col-xs-4 {
  width: 33.33333333%;
}
.col-xs-3 {
  width: 25%;
}
.col-xs-2 {
  width: 16.66666667%;
}
.col-xs-1 {
  width: 8.33333333%;
}
.col-xs-pull-12 {
  right: 100%;
}
.col-xs-pull-11 {
  right: 91.66666667%;
}
.col-xs-pull-10 {
  right: 83.33333333%;
}
.col-xs-pull-9 {
  right: 75%;
}
.col-xs-pull-8 {
  right: 66.66666667%;
}
.col-xs-pull-7 {
  right: 58.33333333%;
}
.col-xs-pull-6 {
  right: 50%;
}
.col-xs-pull-5 {
  right: 41.66666667%;
}
.col-xs-pull-4 {
  right: 33.33333333%;
}
.col-xs-pull-3 {
  right: 25%;
}
.col-xs-pull-2 {
  right: 16.66666667%;
}
.col-xs-pull-1 {
  right: 8.33333333%;
}
.col-xs-pull-0 {
  right: auto;
}
.col-xs-push-12 {
  left: 100%;
}
.col-xs-push-11 {
  left: 91.66666667%;
}
.col-xs-push-10 {
  left: 83.33333333%;
}
.col-xs-push-9 {
  left: 75%;
}
.col-xs-push-8 {
  left: 66.66666667%;
}
.col-xs-push-7 {
  left: 58.33333333%;
}
.col-xs-push-6 {
  left: 50%;
}
.col-xs-push-5 {
  left: 41.66666667%;
}
.col-xs-push-4 {
  left: 33.33333333%;
}
.col-xs-push-3 {
  left: 25%;
}
.col-xs-push-2 {
  left: 16.66666667%;
}
.col-xs-push-1 {
  left: 8.33333333%;
}
.col-xs-push-0 {
  left: auto;
}
.col-xs-offset-12 {
  margin-left: 100%;
}
.col-xs-offset-11 {
  margin-left: 91.66666667%;
}
.col-xs-offset-10 {
  margin-left: 83.33333333%;
}
.col-xs-offset-9 {
  margin-left: 75%;
}
.col-xs-offset-8 {
  margin-left: 66.66666667%;
}
.col-xs-offset-7 {
  margin-left: 58.33333333%;
}
.col-xs-offset-6 {
  margin-left: 50%;
}
.col-xs-offset-5 {
  margin-left: 41.66666667%;
}
.col-xs-offset-4 {
  margin-left: 33.33333333%;
}
.col-xs-offset-3 {
  margin-left: 25%;
}
.col-xs-offset-2 {
  margin-left: 16.66666667%;
}
.col-xs-offset-1 {
  margin-left: 8.33333333%;
}
.col-xs-offset-0 {
  margin-left: 0%;
}
@media (min-width: 768px) {
  .col-sm-1, .col-sm-2, .col-sm-3, .col-sm-4, .col-sm-5, .col-sm-6, .col-sm-7, .col-sm-8, .col-sm-9, .col-sm-10, .col-sm-11, .col-sm-12 {
    float: left;
  }
  .col-sm-12 {
    width: 100%;
  }
  .col-sm-11 {
    width: 91.66666667%;
  }
  .col-sm-10 {
    width: 83.33333333%;
  }
  .col-sm-9 {
    width: 75%;
  }
  .col-sm-8 {
    width: 66.66666667%;
  }
  .col-sm-7 {
    width: 58.33333333%;
  }
  .col-sm-6 {
    width: 50%;
  }
  .col-sm-5 {
    width: 41.66666667%;
  }
  .col-sm-4 {
    width: 33.33333333%;
  }
  .col-sm-3 {
    width: 25%;
  }
  .col-sm-2 {
    width: 16.66666667%;
  }
  .col-sm-1 {
    width: 8.33333333%;
  }
  .col-sm-pull-12 {
    right: 100%;
  }
  .col-sm-pull-11 {
    right: 91.66666667%;
  }
  .col-sm-pull-10 {
    right: 83.33333333%;
  }
  .col-sm-pull-9 {
    right: 75%;
  }
  .col-sm-pull-8 {
    right: 66.66666667%;
  }
  .col-sm-pull-7 {
    right: 58.33333333%;
  }
  .col-sm-pull-6 {
    right: 50%;
  }
  .col-sm-pull-5 {
    right: 41.66666667%;
  }
  .col-sm-pull-4 {
    right: 33.33333333%;
  }
  .col-sm-pull-3 {
    right: 25%;
  }
  .col-sm-pull-2 {
    right: 16.66666667%;
  }
  .col-sm-pull-1 {
    right: 8.33333333%;
  }
  .col-sm-pull-0 {
    right: auto;
  }
  .col-sm-push-12 {
    left: 100%;
  }
  .col-sm-push-11 {
    left: 91.66666667%;
  }
  .col-sm-push-10 {
    left: 83.33333333%;
  }
  .col-sm-push-9 {
    left: 75%;
  }
  .col-sm-push-8 {
    left: 66.66666667%;
  }
  .col-sm-push-7 {
    left: 58.33333333%;
  }
  .col-sm-push-6 {
    left: 50%;
  }
  .col-sm-push-5 {
    left: 41.66666667%;
  }
  .col-sm-push-4 {
    left: 33.33333333%;
  }
  .col-sm-push-3 {
    left: 25%;
  }
  .col-sm-push-2 {
    left: 16.66666667%;
  }
  .col-sm-push-1 {
    left: 8.33333333%;
  }
  .col-sm-push-0 {
    left: auto;
  }
  .col-sm-offset-12 {
    margin-left: 100%;
  }
  .col-sm-offset-11 {
    margin-left: 91.66666667%;
  }
  .col-sm-offset-10 {
    margin-left: 83.33333333%;
  }
  .col-sm-offset-9 {
    margin-left: 75%;
  }
  .col-sm-offset-8 {
    margin-left: 66.66666667%;
  }
  .col-sm-offset-7 {
    margin-left: 58.33333333%;
  }
  .col-sm-offset-6 {
    margin-left: 50%;
  }
  .col-sm-offset-5 {
    margin-left: 41.66666667%;
  }
  .col-sm-offset-4 {
    margin-left: 33.33333333%;
  }
  .col-sm-offset-3 {
    margin-left: 25%;
  }
  .col-sm-offset-2 {
    margin-left: 16.66666667%;
  }
  .col-sm-offset-1 {
    margin-left: 8.33333333%;
  }
  .col-sm-offset-0 {
    margin-left: 0%;
  }
}
@media (min-width: 992px) {
  .col-md-1, .col-md-2, .col-md-3, .col-md-4, .col-md-5, .col-md-6, .col-md-7, .col-md-8, .col-md-9, .col-md-10, .col-md-11, .col-md-12 {
    float: left;
  }
  .col-md-12 {
    width: 100%;
  }
  .col-md-11 {
    width: 91.66666667%;
  }
  .col-md-10 {
    width: 83.33333333%;
  }
  .col-md-9 {
    width: 75%;
  }
  .col-md-8 {
    width: 66.66666667%;
  }
  .col-md-7 {
    width: 58.33333333%;
  }
  .col-md-6 {
    width: 50%;
  }
  .col-md-5 {
    width: 41.66666667%;
  }
  .col-md-4 {
    width: 33.33333333%;
  }
  .col-md-3 {
    width: 25%;
  }
  .col-md-2 {
    width: 16.66666667%;
  }
  .col-md-1 {
    width: 8.33333333%;
  }
  .col-md-pull-12 {
    right: 100%;
  }
  .col-md-pull-11 {
    right: 91.66666667%;
  }
  .col-md-pull-10 {
    right: 83.33333333%;
  }
  .col-md-pull-9 {
    right: 75%;
  }
  .col-md-pull-8 {
    right: 66.66666667%;
  }
  .col-md-pull-7 {
    right: 58.33333333%;
  }
  .col-md-pull-6 {
    right: 50%;
  }
  .col-md-pull-5 {
    right: 41.66666667%;
  }
  .col-md-pull-4 {
    right: 33.33333333%;
  }
  .col-md-pull-3 {
    right: 25%;
  }
  .col-md-pull-2 {
    right: 16.66666667%;
  }
  .col-md-pull-1 {
    right: 8.33333333%;
  }
  .col-md-pull-0 {
    right: auto;
  }
  .col-md-push-12 {
    left: 100%;
  }
  .col-md-push-11 {
    left: 91.66666667%;
  }
  .col-md-push-10 {
    left: 83.33333333%;
  }
  .col-md-push-9 {
    left: 75%;
  }
  .col-md-push-8 {
    left: 66.66666667%;
  }
  .col-md-push-7 {
    left: 58.33333333%;
  }
  .col-md-push-6 {
    left: 50%;
  }
  .col-md-push-5 {
    left: 41.66666667%;
  }
  .col-md-push-4 {
    left: 33.33333333%;
  }
  .col-md-push-3 {
    left: 25%;
  }
  .col-md-push-2 {
    left: 16.66666667%;
  }
  .col-md-push-1 {
    left: 8.33333333%;
  }
  .col-md-push-0 {
    left: auto;
  }
  .col-md-offset-12 {
    margin-left: 100%;
  }
  .col-md-offset-11 {
    margin-left: 91.66666667%;
  }
  .col-md-offset-10 {
    margin-left: 83.33333333%;
  }
  .col-md-offset-9 {
    margin-left: 75%;
  }
  .col-md-offset-8 {
    margin-left: 66.66666667%;
  }
  .col-md-offset-7 {
    margin-left: 58.33333333%;
  }
  .col-md-offset-6 {
    margin-left: 50%;
  }
  .col-md-offset-5 {
    margin-left: 41.66666667%;
  }
  .col-md-offset-4 {
    margin-left: 33.33333333%;
  }
  .col-md-offset-3 {
    margin-left: 25%;
  }
  .col-md-offset-2 {
    margin-left: 16.66666667%;
  }
  .col-md-offset-1 {
    margin-left: 8.33333333%;
  }
  .col-md-offset-0 {
    margin-left: 0%;
  }
}
@media (min-width: 1200px) {
  .col-lg-1, .col-lg-2, .col-lg-3, .col-lg-4, .col-lg-5, .col-lg-6, .col-lg-7, .col-lg-8, .col-lg-9, .col-lg-10, .col-lg-11, .col-lg-12 {
    float: left;
  }
  .col-lg-12 {
    width: 100%;
  }
  .col-lg-11 {
    width: 91.66666667%;
  }
  .col-lg-10 {
    width: 83.33333333%;
  }
  .col-lg-9 {
    width: 75%;
  }
  .col-lg-8 {
    width: 66.66666667%;
  }
  .col-lg-7 {
    width: 58.33333333%;
  }
  .col-lg-6 {
    width: 50%;
  }
  .col-lg-5 {
    width: 41.66666667%;
  }
  .col-lg-4 {
    width: 33.33333333%;
  }
  .col-lg-3 {
    width: 25%;
  }
  .col-lg-2 {
    width: 16.66666667%;
  }
  .col-lg-1 {
    width: 8.33333333%;
  }
  .col-lg-pull-12 {
    right: 100%;
  }
  .col-lg-pull-11 {
    right: 91.66666667%;
  }
  .col-lg-pull-10 {
    right: 83.33333333%;
  }
  .col-lg-pull-9 {
    right: 75%;
  }
  .col-lg-pull-8 {
    right: 66.66666667%;
  }
  .col-lg-pull-7 {
    right: 58.33333333%;
  }
  .col-lg-pull-6 {
    right: 50%;
  }
  .col-lg-pull-5 {
    right: 41.66666667%;
  }
  .col-lg-pull-4 {
    right: 33.33333333%;
  }
  .col-lg-pull-3 {
    right: 25%;
  }
  .col-lg-pull-2 {
    right: 16.66666667%;
  }
  .col-lg-pull-1 {
    right: 8.33333333%;
  }
  .col-lg-pull-0 {
    right: auto;
  }
  .col-lg-push-12 {
    left: 100%;
  }
  .col-lg-push-11 {
    left: 91.66666667%;
  }
  .col-lg-push-10 {
    left: 83.33333333%;
  }
  .col-lg-push-9 {
    left: 75%;
  }
  .col-lg-push-8 {
    left: 66.66666667%;
  }
  .col-lg-push-7 {
    left: 58.33333333%;
  }
  .col-lg-push-6 {
    left: 50%;
  }
  .col-lg-push-5 {
    left: 41.66666667%;
  }
  .col-lg-push-4 {
    left: 33.33333333%;
  }
  .col-lg-push-3 {
    left: 25%;
  }
  .col-lg-push-2 {
    left: 16.66666667%;
  }
  .col-lg-push-1 {
    left: 8.33333333%;
  }
  .col-lg-push-0 {
    left: auto;
  }
  .col-lg-offset-12 {
    margin-left: 100%;
  }
  .col-lg-offset-11 {
    margin-left: 91.66666667%;
  }
  .col-lg-offset-10 {
    margin-left: 83.33333333%;
  }
  .col-lg-offset-9 {
    margin-left: 75%;
  }
  .col-lg-offset-8 {
    margin-left: 66.66666667%;
  }
  .col-lg-offset-7 {
    margin-left: 58.33333333%;
  }
  .col-lg-offset-6 {
    margin-left: 50%;
  }
  .col-lg-offset-5 {
    margin-left: 41.66666667%;
  }
  .col-lg-offset-4 {
    margin-left: 33.33333333%;
  }
  .col-lg-offset-3 {
    margin-left: 25%;
  }
  .col-lg-offset-2 {
    margin-left: 16.66666667%;
  }
  .col-lg-offset-1 {
    margin-left: 8.33333333%;
  }
  .col-lg-offset-0 {
    margin-left: 0%;
  }
}
table {
  background-color: transparent;
}
caption {
  padding-top: 8px;
  padding-bottom: 8px;
  color: #777777;
  text-align: left;
}
th {
  text-align: left;
}
.table {
  width: 100%;
  max-width: 100%;
  margin-bottom: 18px;
}
.table > thead > tr > th,
.table > tbody > tr > th,
.table > tfoot > tr > th,
.table > thead > tr > td,
.table > tbody > tr > td,
.table > tfoot > tr > td {
  padding: 8px;
  line-height: 1.42857143;
  vertical-align: top;
  border-top: 1px solid #ddd;
}
.table > thead > tr > th {
  vertical-align: bottom;
  border-bottom: 2px solid #ddd;
}
.table > caption + thead > tr:first-child > th,
.table > colgroup + thead > tr:first-child > th,
.table > thead:first-child > tr:first-child > th,
.table > caption + thead > tr:first-child > td,
.table > colgroup + thead > tr:first-child > td,
.table > thead:first-child > tr:first-child > td {
  border-top: 0;
}
.table > tbody + tbody {
  border-top: 2px solid #ddd;
}
.table .table {
  background-color: #fff;
}
.table-condensed > thead > tr > th,
.table-condensed > tbody > tr > th,
.table-condensed > tfoot > tr > th,
.table-condensed > thead > tr > td,
.table-condensed > tbody > tr > td,
.table-condensed > tfoot > tr > td {
  padding: 5px;
}
.table-bordered {
  border: 1px solid #ddd;
}
.table-bordered > thead > tr > th,
.table-bordered > tbody > tr > th,
.table-bordered > tfoot > tr > th,
.table-bordered > thead > tr > td,
.table-bordered > tbody > tr > td,
.table-bordered > tfoot > tr > td {
  border: 1px solid #ddd;
}
.table-bordered > thead > tr > th,
.table-bordered > thead > tr > td {
  border-bottom-width: 2px;
}
.table-striped > tbody > tr:nth-of-type(odd) {
  background-color: #f9f9f9;
}
.table-hover > tbody > tr:hover {
  background-color: #f5f5f5;
}
table col[class*="col-"] {
  position: static;
  float: none;
  display: table-column;
}
table td[class*="col-"],
table th[class*="col-"] {
  position: static;
  float: none;
  display: table-cell;
}
.table > thead > tr > td.active,
.table > tbody > tr > td.active,
.table > tfoot > tr > td.active,
.table > thead > tr > th.active,
.table > tbody > tr > th.active,
.table > tfoot > tr > th.active,
.table > thead > tr.active > td,
.table > tbody > tr.active > td,
.table > tfoot > tr.active > td,
.table > thead > tr.active > th,
.table > tbody > tr.active > th,
.table > tfoot > tr.active > th {
  background-color: #f5f5f5;
}
.table-hover > tbody > tr > td.active:hover,
.table-hover > tbody > tr > th.active:hover,
.table-hover > tbody > tr.active:hover > td,
.table-hover > tbody > tr:hover > .active,
.table-hover > tbody > tr.active:hover > th {
  background-color: #e8e8e8;
}
.table > thead > tr > td.success,
.table > tbody > tr > td.success,
.table > tfoot > tr > td.success,
.table > thead > tr > th.success,
.table > tbody > tr > th.success,
.table > tfoot > tr > th.success,
.table > thead > tr.success > td,
.table > tbody > tr.success > td,
.table > tfoot > tr.success > td,
.table > thead > tr.success > th,
.table > tbody > tr.success > th,
.table > tfoot > tr.success > th {
  background-color: #dff0d8;
}
.table-hover > tbody > tr > td.success:hover,
.table-hover > tbody > tr > th.success:hover,
.table-hover > tbody > tr.success:hover > td,
.table-hover > tbody > tr:hover > .success,
.table-hover > tbody > tr.success:hover > th {
  background-color: #d0e9c6;
}
.table > thead > tr > td.info,
.table > tbody > tr > td.info,
.table > tfoot > tr > td.info,
.table > thead > tr > th.info,
.table > tbody > tr > th.info,
.table > tfoot > tr > th.info,
.table > thead > tr.info > td,
.table > tbody > tr.info > td,
.table > tfoot > tr.info > td,
.table > thead > tr.info > th,
.table > tbody > tr.info > th,
.table > tfoot > tr.info > th {
  background-color: #d9edf7;
}
.table-hover > tbody > tr > td.info:hover,
.table-hover > tbody > tr > th.info:hover,
.table-hover > tbody > tr.info:hover > td,
.table-hover > tbody > tr:hover > .info,
.table-hover > tbody > tr.info:hover > th {
  background-color: #c4e3f3;
}
.table > thead > tr > td.warning,
.table > tbody > tr > td.warning,
.table > tfoot > tr > td.warning,
.table > thead > tr > th.warning,
.table > tbody > tr > th.warning,
.table > tfoot > tr > th.warning,
.table > thead > tr.warning > td,
.table > tbody > tr.warning > td,
.table > tfoot > tr.warning > td,
.table > thead > tr.warning > th,
.table > tbody > tr.warning > th,
.table > tfoot > tr.warning > th {
  background-color: #fcf8e3;
}
.table-hover > tbody > tr > td.warning:hover,
.table-hover > tbody > tr > th.warning:hover,
.table-hover > tbody > tr.warning:hover > td,
.table-hover > tbody > tr:hover > .warning,
.table-hover > tbody > tr.warning:hover > th {
  background-color: #faf2cc;
}
.table > thead > tr > td.danger,
.table > tbody > tr > td.danger,
.table > tfoot > tr > td.danger,
.table > thead > tr > th.danger,
.table > tbody > tr > th.danger,
.table > tfoot > tr > th.danger,
.table > thead > tr.danger > td,
.table > tbody > tr.danger > td,
.table > tfoot > tr.danger > td,
.table > thead > tr.danger > th,
.table > tbody > tr.danger > th,
.table > tfoot > tr.danger > th {
  background-color: #f2dede;
}
.table-hover > tbody > tr > td.danger:hover,
.table-hover > tbody > tr > th.danger:hover,
.table-hover > tbody > tr.danger:hover > td,
.table-hover > tbody > tr:hover > .danger,
.table-hover > tbody > tr.danger:hover > th {
  background-color: #ebcccc;
}
.table-responsive {
  overflow-x: auto;
  min-height: 0.01%;
}
@media screen and (max-width: 767px) {
  .table-responsive {
    width: 100%;
    margin-bottom: 13.5px;
    overflow-y: hidden;
    -ms-overflow-style: -ms-autohiding-scrollbar;
    border: 1px solid #ddd;
  }
  .table-responsive > .table {
    margin-bottom: 0;
  }
  .table-responsive > .table > thead > tr > th,
  .table-responsive > .table > tbody > tr > th,
  .table-responsive > .table > tfoot > tr > th,
  .table-responsive > .table > thead > tr > td,
  .table-responsive > .table > tbody > tr > td,
  .table-responsive > .table > tfoot > tr > td {
    white-space: nowrap;
  }
  .table-responsive > .table-bordered {
    border: 0;
  }
  .table-responsive > .table-bordered > thead > tr > th:first-child,
  .table-responsive > .table-bordered > tbody > tr > th:first-child,
  .table-responsive > .table-bordered > tfoot > tr > th:first-child,
  .table-responsive > .table-bordered > thead > tr > td:first-child,
  .table-responsive > .table-bordered > tbody > tr > td:first-child,
  .table-responsive > .table-bordered > tfoot > tr > td:first-child {
    border-left: 0;
  }
  .table-responsive > .table-bordered > thead > tr > th:last-child,
  .table-responsive > .table-bordered > tbody > tr > th:last-child,
  .table-responsive > .table-bordered > tfoot > tr > th:last-child,
  .table-responsive > .table-bordered > thead > tr > td:last-child,
  .table-responsive > .table-bordered > tbody > tr > td:last-child,
  .table-responsive > .table-bordered > tfoot > tr > td:last-child {
    border-right: 0;
  }
  .table-responsive > .table-bordered > tbody > tr:last-child > th,
  .table-responsive > .table-bordered > tfoot > tr:last-child > th,
  .table-responsive > .table-bordered > tbody > tr:last-child > td,
  .table-responsive > .table-bordered > tfoot > tr:last-child > td {
    border-bottom: 0;
  }
}
fieldset {
  padding: 0;
  margin: 0;
  border: 0;
  min-width: 0;
}
legend {
  display: block;
  width: 100%;
  padding: 0;
  margin-bottom: 18px;
  font-size: 19.5px;
  line-height: inherit;
  color: #333333;
  border: 0;
  border-bottom: 1px solid #e5e5e5;
}
label {
  display: inline-block;
  max-width: 100%;
  margin-bottom: 5px;
  font-weight: bold;
}
input[type="search"] {
  -webkit-box-sizing: border-box;
  -moz-box-sizing: border-box;
  box-sizing: border-box;
}
input[type="radio"],
input[type="checkbox"] {
  margin: 4px 0 0;
  margin-top: 1px \9;
  line-height: normal;
}
input[type="file"] {
  display: block;
}
input[type="range"] {
  display: block;
  width: 100%;
}
select[multiple],
select[size] {
  height: auto;
}
input[type="file"]:focus,
input[type="radio"]:focus,
input[type="checkbox"]:focus {
  outline: 5px auto -webkit-focus-ring-color;
  outline-offset: -2px;
}
output {
  display: block;
  padding-top: 7px;
  font-size: 13px;
  line-height: 1.42857143;
  color: #555555;
}
.form-control {
  display: block;
  width: 100%;
  height: 32px;
  padding: 6px 12px;
  font-size: 13px;
  line-height: 1.42857143;
  color: #555555;
  background-color: #fff;
  background-image: none;
  border: 1px solid #ccc;
  border-radius: 2px;
  -webkit-box-shadow: inset 0 1px 1px rgba(0, 0, 0, 0.075);
  box-shadow: inset 0 1px 1px rgba(0, 0, 0, 0.075);
  -webkit-transition: border-color ease-in-out .15s, box-shadow ease-in-out .15s;
  -o-transition: border-color ease-in-out .15s, box-shadow ease-in-out .15s;
  transition: border-color ease-in-out .15s, box-shadow ease-in-out .15s;
}
.form-control:focus {
  border-color: #66afe9;
  outline: 0;
  -webkit-box-shadow: inset 0 1px 1px rgba(0,0,0,.075), 0 0 8px rgba(102, 175, 233, 0.6);
  box-shadow: inset 0 1px 1px rgba(0,0,0,.075), 0 0 8px rgba(102, 175, 233, 0.6);
}
.form-control::-moz-placeholder {
  color: #999;
  opacity: 1;
}
.form-control:-ms-input-placeholder {
  color: #999;
}
.form-control::-webkit-input-placeholder {
  color: #999;
}
.form-control::-ms-expand {
  border: 0;
  background-color: transparent;
}
.form-control[disabled],
.form-control[readonly],
fieldset[disabled] .form-control {
  background-color: #eeeeee;
  opacity: 1;
}
.form-control[disabled],
fieldset[disabled] .form-control {
  cursor: not-allowed;
}
textarea.form-control {
  height: auto;
}
input[type="search"] {
  -webkit-appearance: none;
}
@media screen and (-webkit-min-device-pixel-ratio: 0) {
  input[type="date"].form-control,
  input[type="time"].form-control,
  input[type="datetime-local"].form-control,
  input[type="month"].form-control {
    line-height: 32px;
  }
  input[type="date"].input-sm,
  input[type="time"].input-sm,
  input[type="datetime-local"].input-sm,
  input[type="month"].input-sm,
  .input-group-sm input[type="date"],
  .input-group-sm input[type="time"],
  .input-group-sm input[type="datetime-local"],
  .input-group-sm input[type="month"] {
    line-height: 30px;
  }
  input[type="date"].input-lg,
  input[type="time"].input-lg,
  input[type="datetime-local"].input-lg,
  input[type="month"].input-lg,
  .input-group-lg input[type="date"],
  .input-group-lg input[type="time"],
  .input-group-lg input[type="datetime-local"],
  .input-group-lg input[type="month"] {
    line-height: 45px;
  }
}
.form-group {
  margin-bottom: 15px;
}
.radio,
.checkbox {
  position: relative;
  display: block;
  margin-top: 10px;
  margin-bottom: 10px;
}
.radio label,
.checkbox label {
  min-height: 18px;
  padding-left: 20px;
  margin-bottom: 0;
  font-weight: normal;
  cursor: pointer;
}
.radio input[type="radio"],
.radio-inline input[type="radio"],
.checkbox input[type="checkbox"],
.checkbox-inline input[type="checkbox"] {
  position: absolute;
  margin-left: -20px;
  margin-top: 4px \9;
}
.radio + .radio,
.checkbox + .checkbox {
  margin-top: -5px;
}
.radio-inline,
.checkbox-inline {
  position: relative;
  display: inline-block;
  padding-left: 20px;
  margin-bottom: 0;
  vertical-align: middle;
  font-weight: normal;
  cursor: pointer;
}
.radio-inline + .radio-inline,
.checkbox-inline + .checkbox-inline {
  margin-top: 0;
  margin-left: 10px;
}
input[type="radio"][disabled],
input[type="checkbox"][disabled],
input[type="radio"].disabled,
input[type="checkbox"].disabled,
fieldset[disabled] input[type="radio"],
fieldset[disabled] input[type="checkbox"] {
  cursor: not-allowed;
}
.radio-inline.disabled,
.checkbox-inline.disabled,
fieldset[disabled] .radio-inline,
fieldset[disabled] .checkbox-inline {
  cursor: not-allowed;
}
.radio.disabled label,
.checkbox.disabled label,
fieldset[disabled] .radio label,
fieldset[disabled] .checkbox label {
  cursor: not-allowed;
}
.form-control-static {
  padding-top: 7px;
  padding-bottom: 7px;
  margin-bottom: 0;
  min-height: 31px;
}
.form-control-static.input-lg,
.form-control-static.input-sm {
  padding-left: 0;
  padding-right: 0;
}
.input-sm {
  height: 30px;
  padding: 5px 10px;
  font-size: 12px;
  line-height: 1.5;
  border-radius: 1px;
}
select.input-sm {
  height: 30px;
  line-height: 30px;
}
textarea.input-sm,
select[multiple].input-sm {
  height: auto;
}
.form-group-sm .form-control {
  height: 30px;
  padding: 5px 10px;
  font-size: 12px;
  line-height: 1.5;
  border-radius: 1px;
}
.form-group-sm select.form-control {
  height: 30px;
  line-height: 30px;
}
.form-group-sm textarea.form-control,
.form-group-sm select[multiple].form-control {
  height: auto;
}
.form-group-sm .form-control-static {
  height: 30px;
  min-height: 30px;
  padding: 6px 10px;
  font-size: 12px;
  line-height: 1.5;
}
.input-lg {
  height: 45px;
  padding: 10px 16px;
  font-size: 17px;
  line-height: 1.3333333;
  border-radius: 3px;
}
select.input-lg {
  height: 45px;
  line-height: 45px;
}
textarea.input-lg,
select[multiple].input-lg {
  height: auto;
}
.form-group-lg .form-control {
  height: 45px;
  padding: 10px 16px;
  font-size: 17px;
  line-height: 1.3333333;
  border-radius: 3px;
}
.form-group-lg select.form-control {
  height: 45px;
  line-height: 45px;
}
.form-group-lg textarea.form-control,
.form-group-lg select[multiple].form-control {
  height: auto;
}
.form-group-lg .form-control-static {
  height: 45px;
  min-height: 35px;
  padding: 11px 16px;
  font-size: 17px;
  line-height: 1.3333333;
}
.has-feedback {
  position: relative;
}
.has-feedback .form-control {
  padding-right: 40px;
}
.form-control-feedback {
  position: absolute;
  top: 0;
  right: 0;
  z-index: 2;
  display: block;
  width: 32px;
  height: 32px;
  line-height: 32px;
  text-align: center;
  pointer-events: none;
}
.input-lg + .form-control-feedback,
.input-group-lg + .form-control-feedback,
.form-group-lg .form-control + .form-control-feedback {
  width: 45px;
  height: 45px;
  line-height: 45px;
}
.input-sm + .form-control-feedback,
.input-group-sm + .form-control-feedback,
.form-group-sm .form-control + .form-control-feedback {
  width: 30px;
  height: 30px;
  line-height: 30px;
}
.has-success .help-block,
.has-success .control-label,
.has-success .radio,
.has-success .checkbox,
.has-success .radio-inline,
.has-success .checkbox-inline,
.has-success.radio label,
.has-success.checkbox label,
.has-success.radio-inline label,
.has-success.checkbox-inline label {
  color: #3c763d;
}
.has-success .form-control {
  border-color: #3c763d;
  -webkit-box-shadow: inset 0 1px 1px rgba(0, 0, 0, 0.075);
  box-shadow: inset 0 1px 1px rgba(0, 0, 0, 0.075);
}
.has-success .form-control:focus {
  border-color: #2b542c;
  -webkit-box-shadow: inset 0 1px 1px rgba(0, 0, 0, 0.075), 0 0 6px #67b168;
  box-shadow: inset 0 1px 1px rgba(0, 0, 0, 0.075), 0 0 6px #67b168;
}
.has-success .input-group-addon {
  color: #3c763d;
  border-color: #3c763d;
  background-color: #dff0d8;
}
.has-success .form-control-feedback {
  color: #3c763d;
}
.has-warning .help-block,
.has-warning .control-label,
.has-warning .radio,
.has-warning .checkbox,
.has-warning .radio-inline,
.has-warning .checkbox-inline,
.has-warning.radio label,
.has-warning.checkbox label,
.has-warning.radio-inline label,
.has-warning.checkbox-inline label {
  color: #8a6d3b;
}
.has-warning .form-control {
  border-color: #8a6d3b;
  -webkit-box-shadow: inset 0 1px 1px rgba(0, 0, 0, 0.075);
  box-shadow: inset 0 1px 1px rgba(0, 0, 0, 0.075);
}
.has-warning .form-control:focus {
  border-color: #66512c;
  -webkit-box-shadow: inset 0 1px 1px rgba(0, 0, 0, 0.075), 0 0 6px #c0a16b;
  box-shadow: inset 0 1px 1px rgba(0, 0, 0, 0.075), 0 0 6px #c0a16b;
}
.has-warning .input-group-addon {
  color: #8a6d3b;
  border-color: #8a6d3b;
  background-color: #fcf8e3;
}
.has-warning .form-control-feedback {
  color: #8a6d3b;
}
.has-error .help-block,
.has-error .control-label,
.has-error .radio,
.has-error .checkbox,
.has-error .radio-inline,
.has-error .checkbox-inline,
.has-error.radio label,
.has-error.checkbox label,
.has-error.radio-inline label,
.has-error.checkbox-inline label {
  color: #a94442;
}
.has-error .form-control {
  border-color: #a94442;
  -webkit-box-shadow: inset 0 1px 1px rgba(0, 0, 0, 0.075);
  box-shadow: inset 0 1px 1px rgba(0, 0, 0, 0.075);
}
.has-error .form-control:focus {
  border-color: #843534;
  -webkit-box-shadow: inset 0 1px 1px rgba(0, 0, 0, 0.075), 0 0 6px #ce8483;
  box-shadow: inset 0 1px 1px rgba(0, 0, 0, 0.075), 0 0 6px #ce8483;
}
.has-error .input-group-addon {
  color: #a94442;
  border-color: #a94442;
  background-color: #f2dede;
}
.has-error .form-control-feedback {
  color: #a94442;
}
.has-feedback label ~ .form-control-feedback {
  top: 23px;
}
.has-feedback label.sr-only ~ .form-control-feedback {
  top: 0;
}
.help-block {
  display: block;
  margin-top: 5px;
  margin-bottom: 10px;
  color: #404040;
}
@media (min-width: 768px) {
  .form-inline .form-group {
    display: inline-block;
    margin-bottom: 0;
    vertical-align: middle;
  }
  .form-inline .form-control {
    display: inline-block;
    width: auto;
    vertical-align: middle;
  }
  .form-inline .form-control-static {
    display: inline-block;
  }
  .form-inline .input-group {
    display: inline-table;
    vertical-align: middle;
  }
  .form-inline .input-group .input-group-addon,
  .form-inline .input-group .input-group-btn,
  .form-inline .input-group .form-control {
    width: auto;
  }
  .form-inline .input-group > .form-control {
    width: 100%;
  }
  .form-inline .control-label {
    margin-bottom: 0;
    vertical-align: middle;
  }
  .form-inline .radio,
  .form-inline .checkbox {
    display: inline-block;
    margin-top: 0;
    margin-bottom: 0;
    vertical-align: middle;
  }
  .form-inline .radio label,
  .form-inline .checkbox label {
    padding-left: 0;
  }
  .form-inline .radio input[type="radio"],
  .form-inline .checkbox input[type="checkbox"] {
    position: relative;
    margin-left: 0;
  }
  .form-inline .has-feedback .form-control-feedback {
    top: 0;
  }
}
.form-horizontal .radio,
.form-horizontal .checkbox,
.form-horizontal .radio-inline,
.form-horizontal .checkbox-inline {
  margin-top: 0;
  margin-bottom: 0;
  padding-top: 7px;
}
.form-horizontal .radio,
.form-horizontal .checkbox {
  min-height: 25px;
}
.form-horizontal .form-group {
  margin-left: 0px;
  margin-right: 0px;
}
@media (min-width: 768px) {
  .form-horizontal .control-label {
    text-align: right;
    margin-bottom: 0;
    padding-top: 7px;
  }
}
.form-horizontal .has-feedback .form-control-feedback {
  right: 0px;
}
@media (min-width: 768px) {
  .form-horizontal .form-group-lg .control-label {
    padding-top: 11px;
    font-size: 17px;
  }
}
@media (min-width: 768px) {
  .form-horizontal .form-group-sm .control-label {
    padding-top: 6px;
    font-size: 12px;
  }
}
.btn {
  display: inline-block;
  margin-bottom: 0;
  font-weight: normal;
  text-align: center;
  vertical-align: middle;
  touch-action: manipulation;
  cursor: pointer;
  background-image: none;
  border: 1px solid transparent;
  white-space: nowrap;
  padding: 6px 12px;
  font-size: 13px;
  line-height: 1.42857143;
  border-radius: 2px;
  -webkit-user-select: none;
  -moz-user-select: none;
  -ms-user-select: none;
  user-select: none;
}
.btn:focus,
.btn:active:focus,
.btn.active:focus,
.btn.focus,
.btn:active.focus,
.btn.active.focus {
  outline: 5px auto -webkit-focus-ring-color;
  outline-offset: -2px;
}
.btn:hover,
.btn:focus,
.btn.focus {
  color: #333;
  text-decoration: none;
}
.btn:active,
.btn.active {
  outline: 0;
  background-image: none;
  -webkit-box-shadow: inset 0 3px 5px rgba(0, 0, 0, 0.125);
  box-shadow: inset 0 3px 5px rgba(0, 0, 0, 0.125);
}
.btn.disabled,
.btn[disabled],
fieldset[disabled] .btn {
  cursor: not-allowed;
  opacity: 0.65;
  filter: alpha(opacity=65);
  -webkit-box-shadow: none;
  box-shadow: none;
}
a.btn.disabled,
fieldset[disabled] a.btn {
  pointer-events: none;
}
.btn-default {
  color: #333;
  background-color: #fff;
  border-color: #ccc;
}
.btn-default:focus,
.btn-default.focus {
  color: #333;
  background-color: #e6e6e6;
  border-color: #8c8c8c;
}
.btn-default:hover {
  color: #333;
  background-color: #e6e6e6;
  border-color: #adadad;
}
.btn-default:active,
.btn-default.active,
.open > .dropdown-toggle.btn-default {
  color: #333;
  background-color: #e6e6e6;
  border-color: #adadad;
}
.btn-default:active:hover,
.btn-default.active:hover,
.open > .dropdown-toggle.btn-default:hover,
.btn-default:active:focus,
.btn-default.active:focus,
.open > .dropdown-toggle.btn-default:focus,
.btn-default:active.focus,
.btn-default.active.focus,
.open > .dropdown-toggle.btn-default.focus {
  color: #333;
  background-color: #d4d4d4;
  border-color: #8c8c8c;
}
.btn-default:active,
.btn-default.active,
.open > .dropdown-toggle.btn-default {
  background-image: none;
}
.btn-default.disabled:hover,
.btn-default[disabled]:hover,
fieldset[disabled] .btn-default:hover,
.btn-default.disabled:focus,
.btn-default[disabled]:focus,
fieldset[disabled] .btn-default:focus,
.btn-default.disabled.focus,
.btn-default[disabled].focus,
fieldset[disabled] .btn-default.focus {
  background-color: #fff;
  border-color: #ccc;
}
.btn-default .badge {
  color: #fff;
  background-color: #333;
}
.btn-primary {
  color: #fff;
  background-color: #337ab7;
  border-color: #2e6da4;
}
.btn-primary:focus,
.btn-primary.focus {
  color: #fff;
  background-color: #286090;
  border-color: #122b40;
}
.btn-primary:hover {
  color: #fff;
  background-color: #286090;
  border-color: #204d74;
}
.btn-primary:active,
.btn-primary.active,
.open > .dropdown-toggle.btn-primary {
  color: #fff;
  background-color: #286090;
  border-color: #204d74;
}
.btn-primary:active:hover,
.btn-primary.active:hover,
.open > .dropdown-toggle.btn-primary:hover,
.btn-primary:active:focus,
.btn-primary.active:focus,
.open > .dropdown-toggle.btn-primary:focus,
.btn-primary:active.focus,
.btn-primary.active.focus,
.open > .dropdown-toggle.btn-primary.focus {
  color: #fff;
  background-color: #204d74;
  border-color: #122b40;
}
.btn-primary:active,
.btn-primary.active,
.open > .dropdown-toggle.btn-primary {
  background-image: none;
}
.btn-primary.disabled:hover,
.btn-primary[disabled]:hover,
fieldset[disabled] .btn-primary:hover,
.btn-primary.disabled:focus,
.btn-primary[disabled]:focus,
fieldset[disabled] .btn-primary:focus,
.btn-primary.disabled.focus,
.btn-primary[disabled].focus,
fieldset[disabled] .btn-primary.focus {
  background-color: #337ab7;
  border-color: #2e6da4;
}
.btn-primary .badge {
  color: #337ab7;
  background-color: #fff;
}
.btn-success {
  color: #fff;
  background-color: #5cb85c;
  border-color: #4cae4c;
}
.btn-success:focus,
.btn-success.focus {
  color: #fff;
  background-color: #449d44;
  border-color: #255625;
}
.btn-success:hover {
  color: #fff;
  background-color: #449d44;
  border-color: #398439;
}
.btn-success:active,
.btn-success.active,
.open > .dropdown-toggle.btn-success {
  color: #fff;
  background-color: #449d44;
  border-color: #398439;
}
.btn-success:active:hover,
.btn-success.active:hover,
.open > .dropdown-toggle.btn-success:hover,
.btn-success:active:focus,
.btn-success.active:focus,
.open > .dropdown-toggle.btn-success:focus,
.btn-success:active.focus,
.btn-success.active.focus,
.open > .dropdown-toggle.btn-success.focus {
  color: #fff;
  background-color: #398439;
  border-color: #255625;
}
.btn-success:active,
.btn-success.active,
.open > .dropdown-toggle.btn-success {
  background-image: none;
}
.btn-success.disabled:hover,
.btn-success[disabled]:hover,
fieldset[disabled] .btn-success:hover,
.btn-success.disabled:focus,
.btn-success[disabled]:focus,
fieldset[disabled] .btn-success:focus,
.btn-success.disabled.focus,
.btn-success[disabled].focus,
fieldset[disabled] .btn-success.focus {
  background-color: #5cb85c;
  border-color: #4cae4c;
}
.btn-success .badge {
  color: #5cb85c;
  background-color: #fff;
}
.btn-info {
  color: #fff;
  background-color: #5bc0de;
  border-color: #46b8da;
}
.btn-info:focus,
.btn-info.focus {
  color: #fff;
  background-color: #31b0d5;
  border-color: #1b6d85;
}
.btn-info:hover {
  color: #fff;
  background-color: #31b0d5;
  border-color: #269abc;
}
.btn-info:active,
.btn-info.active,
.open > .dropdown-toggle.btn-info {
  color: #fff;
  background-color: #31b0d5;
  border-color: #269abc;
}
.btn-info:active:hover,
.btn-info.active:hover,
.open > .dropdown-toggle.btn-info:hover,
.btn-info:active:focus,
.btn-info.active:focus,
.open > .dropdown-toggle.btn-info:focus,
.btn-info:active.focus,
.btn-info.active.focus,
.open > .dropdown-toggle.btn-info.focus {
  color: #fff;
  background-color: #269abc;
  border-color: #1b6d85;
}
.btn-info:active,
.btn-info.active,
.open > .dropdown-toggle.btn-info {
  background-image: none;
}
.btn-info.disabled:hover,
.btn-info[disabled]:hover,
fieldset[disabled] .btn-info:hover,
.btn-info.disabled:focus,
.btn-info[disabled]:focus,
fieldset[disabled] .btn-info:focus,
.btn-info.disabled.focus,
.btn-info[disabled].focus,
fieldset[disabled] .btn-info.focus {
  background-color: #5bc0de;
  border-color: #46b8da;
}
.btn-info .badge {
  color: #5bc0de;
  background-color: #fff;
}
.btn-warning {
  color: #fff;
  background-color: #f0ad4e;
  border-color: #eea236;
}
.btn-warning:focus,
.btn-warning.focus {
  color: #fff;
  background-color: #ec971f;
  border-color: #985f0d;
}
.btn-warning:hover {
  color: #fff;
  background-color: #ec971f;
  border-color: #d58512;
}
.btn-warning:active,
.btn-warning.active,
.open > .dropdown-toggle.btn-warning {
  color: #fff;
  background-color: #ec971f;
  border-color: #d58512;
}
.btn-warning:active:hover,
.btn-warning.active:hover,
.open > .dropdown-toggle.btn-warning:hover,
.btn-warning:active:focus,
.btn-warning.active:focus,
.open > .dropdown-toggle.btn-warning:focus,
.btn-warning:active.focus,
.btn-warning.active.focus,
.open > .dropdown-toggle.btn-warning.focus {
  color: #fff;
  background-color: #d58512;
  border-color: #985f0d;
}
.btn-warning:active,
.btn-warning.active,
.open > .dropdown-toggle.btn-warning {
  background-image: none;
}
.btn-warning.disabled:hover,
.btn-warning[disabled]:hover,
fieldset[disabled] .btn-warning:hover,
.btn-warning.disabled:focus,
.btn-warning[disabled]:focus,
fieldset[disabled] .btn-warning:focus,
.btn-warning.disabled.focus,
.btn-warning[disabled].focus,
fieldset[disabled] .btn-warning.focus {
  background-color: #f0ad4e;
  border-color: #eea236;
}
.btn-warning .badge {
  color: #f0ad4e;
  background-color: #fff;
}
.btn-danger {
  color: #fff;
  background-color: #d9534f;
  border-color: #d43f3a;
}
.btn-danger:focus,
.btn-danger.focus {
  color: #fff;
  background-color: #c9302c;
  border-color: #761c19;
}
.btn-danger:hover {
  color: #fff;
  background-color: #c9302c;
  border-color: #ac2925;
}
.btn-danger:active,
.btn-danger.active,
.open > .dropdown-toggle.btn-danger {
  color: #fff;
  background-color: #c9302c;
  border-color: #ac2925;
}
.btn-danger:active:hover,
.btn-danger.active:hover,
.open > .dropdown-toggle.btn-danger:hover,
.btn-danger:active:focus,
.btn-danger.active:focus,
.open > .dropdown-toggle.btn-danger:focus,
.btn-danger:active.focus,
.btn-danger.active.focus,
.open > .dropdown-toggle.btn-danger.focus {
  color: #fff;
  background-color: #ac2925;
  border-color: #761c19;
}
.btn-danger:active,
.btn-danger.active,
.open > .dropdown-toggle.btn-danger {
  background-image: none;
}
.btn-danger.disabled:hover,
.btn-danger[disabled]:hover,
fieldset[disabled] .btn-danger:hover,
.btn-danger.disabled:focus,
.btn-danger[disabled]:focus,
fieldset[disabled] .btn-danger:focus,
.btn-danger.disabled.focus,
.btn-danger[disabled].focus,
fieldset[disabled] .btn-danger.focus {
  background-color: #d9534f;
  border-color: #d43f3a;
}
.btn-danger .badge {
  color: #d9534f;
  background-color: #fff;
}
.btn-link {
  color: #337ab7;
  font-weight: normal;
  border-radius: 0;
}
.btn-link,
.btn-link:active,
.btn-link.active,
.btn-link[disabled],
fieldset[disabled] .btn-link {
  background-color: transparent;
  -webkit-box-shadow: none;
  box-shadow: none;
}
.btn-link,
.btn-link:hover,
.btn-link:focus,
.btn-link:active {
  border-color: transparent;
}
.btn-link:hover,
.btn-link:focus {
  color: #23527c;
  text-decoration: underline;
  background-color: transparent;
}
.btn-link[disabled]:hover,
fieldset[disabled] .btn-link:hover,
.btn-link[disabled]:focus,
fieldset[disabled] .btn-link:focus {
  color: #777777;
  text-decoration: none;
}
.btn-lg,
.btn-group-lg > .btn {
  padding: 10px 16px;
  font-size: 17px;
  line-height: 1.3333333;
  border-radius: 3px;
}
.btn-sm,
.btn-group-sm > .btn {
  padding: 5px 10px;
  font-size: 12px;
  line-height: 1.5;
  border-radius: 1px;
}
.btn-xs,
.btn-group-xs > .btn {
  padding: 1px 5px;
  font-size: 12px;
  line-height: 1.5;
  border-radius: 1px;
}
.btn-block {
  display: block;
  width: 100%;
}
.btn-block + .btn-block {
  margin-top: 5px;
}
input[type="submit"].btn-block,
input[type="reset"].btn-block,
input[type="button"].btn-block {
  width: 100%;
}
.fade {
  opacity: 0;
  -webkit-transition: opacity 0.15s linear;
  -o-transition: opacity 0.15s linear;
  transition: opacity 0.15s linear;
}
.fade.in {
  opacity: 1;
}
.collapse {
  display: none;
}
.collapse.in {
  display: block;
}
tr.collapse.in {
  display: table-row;
}
tbody.collapse.in {
  display: table-row-group;
}
.collapsing {
  position: relative;
  height: 0;
  overflow: hidden;
  -webkit-transition-property: height, visibility;
  transition-property: height, visibility;
  -webkit-transition-duration: 0.35s;
  transition-duration: 0.35s;
  -webkit-transition-timing-function: ease;
  transition-timing-function: ease;
}
.caret {
  display: inline-block;
  width: 0;
  height: 0;
  margin-left: 2px;
  vertical-align: middle;
  border-top: 4px dashed;
  border-top: 4px solid \9;
  border-right: 4px solid transparent;
  border-left: 4px solid transparent;
}
.dropup,
.dropdown {
  position: relative;
}
.dropdown-toggle:focus {
  outline: 0;
}
.dropdown-menu {
  position: absolute;
  top: 100%;
  left: 0;
  z-index: 1000;
  display: none;
  float: left;
  min-width: 160px;
  padding: 5px 0;
  margin: 2px 0 0;
  list-style: none;
  font-size: 13px;
  text-align: left;
  background-color: #fff;
  border: 1px solid #ccc;
  border: 1px solid rgba(0, 0, 0, 0.15);
  border-radius: 2px;
  -webkit-box-shadow: 0 6px 12px rgba(0, 0, 0, 0.175);
  box-shadow: 0 6px 12px rgba(0, 0, 0, 0.175);
  background-clip: padding-box;
}
.dropdown-menu.pull-right {
  right: 0;
  left: auto;
}
.dropdown-menu .divider {
  height: 1px;
  margin: 8px 0;
  overflow: hidden;
  background-color: #e5e5e5;
}
.dropdown-menu > li > a {
  display: block;
  padding: 3px 20px;
  clear: both;
  font-weight: normal;
  line-height: 1.42857143;
  color: #333333;
  white-space: nowrap;
}
.dropdown-menu > li > a:hover,
.dropdown-menu > li > a:focus {
  text-decoration: none;
  color: #262626;
  background-color: #f5f5f5;
}
.dropdown-menu > .active > a,
.dropdown-menu > .active > a:hover,
.dropdown-menu > .active > a:focus {
  color: #fff;
  text-decoration: none;
  outline: 0;
  background-color: #337ab7;
}
.dropdown-menu > .disabled > a,
.dropdown-menu > .disabled > a:hover,
.dropdown-menu > .disabled > a:focus {
  color: #777777;
}
.dropdown-menu > .disabled > a:hover,
.dropdown-menu > .disabled > a:focus {
  text-decoration: none;
  background-color: transparent;
  background-image: none;
  filter: progid:DXImageTransform.Microsoft.gradient(enabled = false);
  cursor: not-allowed;
}
.open > .dropdown-menu {
  display: block;
}
.open > a {
  outline: 0;
}
.dropdown-menu-right {
  left: auto;
  right: 0;
}
.dropdown-menu-left {
  left: 0;
  right: auto;
}
.dropdown-header {
  display: block;
  padding: 3px 20px;
  font-size: 12px;
  line-height: 1.42857143;
  color: #777777;
  white-space: nowrap;
}
.dropdown-backdrop {
  position: fixed;
  left: 0;
  right: 0;
  bottom: 0;
  top: 0;
  z-index: 990;
}
.pull-right > .dropdown-menu {
  right: 0;
  left: auto;
}
.dropup .caret,
.navbar-fixed-bottom .dropdown .caret {
  border-top: 0;
  border-bottom: 4px dashed;
  border-bottom: 4px solid \9;
  content: "";
}
.dropup .dropdown-menu,
.navbar-fixed-bottom .dropdown .dropdown-menu {
  top: auto;
  bottom: 100%;
  margin-bottom: 2px;
}
@media (min-width: 541px) {
  .navbar-right .dropdown-menu {
    left: auto;
    right: 0;
  }
  .navbar-right .dropdown-menu-left {
    left: 0;
    right: auto;
  }
}
.btn-group,
.btn-group-vertical {
  position: relative;
  display: inline-block;
  vertical-align: middle;
}
.btn-group > .btn,
.btn-group-vertical > .btn {
  position: relative;
  float: left;
}
.btn-group > .btn:hover,
.btn-group-vertical > .btn:hover,
.btn-group > .btn:focus,
.btn-group-vertical > .btn:focus,
.btn-group > .btn:active,
.btn-group-vertical > .btn:active,
.btn-group > .btn.active,
.btn-group-vertical > .btn.active {
  z-index: 2;
}
.btn-group .btn + .btn,
.btn-group .btn + .btn-group,
.btn-group .btn-group + .btn,
.btn-group .btn-group + .btn-group {
  margin-left: -1px;
}
.btn-toolbar {
  margin-left: -5px;
}
.btn-toolbar .btn,
.btn-toolbar .btn-group,
.btn-toolbar .input-group {
  float: left;
}
.btn-toolbar > .btn,
.btn-toolbar > .btn-group,
.btn-toolbar > .input-group {
  margin-left: 5px;
}
.btn-group > .btn:not(:first-child):not(:last-child):not(.dropdown-toggle) {
  border-radius: 0;
}
.btn-group > .btn:first-child {
  margin-left: 0;
}
.btn-group > .btn:first-child:not(:last-child):not(.dropdown-toggle) {
  border-bottom-right-radius: 0;
  border-top-right-radius: 0;
}
.btn-group > .btn:last-child:not(:first-child),
.btn-group > .dropdown-toggle:not(:first-child) {
  border-bottom-left-radius: 0;
  border-top-left-radius: 0;
}
.btn-group > .btn-group {
  float: left;
}
.btn-group > .btn-group:not(:first-child):not(:last-child) > .btn {
  border-radius: 0;
}
.btn-group > .btn-group:first-child:not(:last-child) > .btn:last-child,
.btn-group > .btn-group:first-child:not(:last-child) > .dropdown-toggle {
  border-bottom-right-radius: 0;
  border-top-right-radius: 0;
}
.btn-group > .btn-group:last-child:not(:first-child) > .btn:first-child {
  border-bottom-left-radius: 0;
  border-top-left-radius: 0;
}
.btn-group .dropdown-toggle:active,
.btn-group.open .dropdown-toggle {
  outline: 0;
}
.btn-group > .btn + .dropdown-toggle {
  padding-left: 8px;
  padding-right: 8px;
}
.btn-group > .btn-lg + .dropdown-toggle {
  padding-left: 12px;
  padding-right: 12px;
}
.btn-group.open .dropdown-toggle {
  -webkit-box-shadow: inset 0 3px 5px rgba(0, 0, 0, 0.125);
  box-shadow: inset 0 3px 5px rgba(0, 0, 0, 0.125);
}
.btn-group.open .dropdown-toggle.btn-link {
  -webkit-box-shadow: none;
  box-shadow: none;
}
.btn .caret {
  margin-left: 0;
}
.btn-lg .caret {
  border-width: 5px 5px 0;
  border-bottom-width: 0;
}
.dropup .btn-lg .caret {
  border-width: 0 5px 5px;
}
.btn-group-vertical > .btn,
.btn-group-vertical > .btn-group,
.btn-group-vertical > .btn-group > .btn {
  display: block;
  float: none;
  width: 100%;
  max-width: 100%;
}
.btn-group-vertical > .btn-group > .btn {
  float: none;
}
.btn-group-vertical > .btn + .btn,
.btn-group-vertical > .btn + .btn-group,
.btn-group-vertical > .btn-group + .btn,
.btn-group-vertical > .btn-group + .btn-group {
  margin-top: -1px;
  margin-left: 0;
}
.btn-group-vertical > .btn:not(:first-child):not(:last-child) {
  border-radius: 0;
}
.btn-group-vertical > .btn:first-child:not(:last-child) {
  border-top-right-radius: 2px;
  border-top-left-radius: 2px;
  border-bottom-right-radius: 0;
  border-bottom-left-radius: 0;
}
.btn-group-vertical > .btn:last-child:not(:first-child) {
  border-top-right-radius: 0;
  border-top-left-radius: 0;
  border-bottom-right-radius: 2px;
  border-bottom-left-radius: 2px;
}
.btn-group-vertical > .btn-group:not(:first-child):not(:last-child) > .btn {
  border-radius: 0;
}
.btn-group-vertical > .btn-group:first-child:not(:last-child) > .btn:last-child,
.btn-group-vertical > .btn-group:first-child:not(:last-child) > .dropdown-toggle {
  border-bottom-right-radius: 0;
  border-bottom-left-radius: 0;
}
.btn-group-vertical > .btn-group:last-child:not(:first-child) > .btn:first-child {
  border-top-right-radius: 0;
  border-top-left-radius: 0;
}
.btn-group-justified {
  display: table;
  width: 100%;
  table-layout: fixed;
  border-collapse: separate;
}
.btn-group-justified > .btn,
.btn-group-justified > .btn-group {
  float: none;
  display: table-cell;
  width: 1%;
}
.btn-group-justified > .btn-group .btn {
  width: 100%;
}
.btn-group-justified > .btn-group .dropdown-menu {
  left: auto;
}
[data-toggle="buttons"] > .btn input[type="radio"],
[data-toggle="buttons"] > .btn-group > .btn input[type="radio"],
[data-toggle="buttons"] > .btn input[type="checkbox"],
[data-toggle="buttons"] > .btn-group > .btn input[type="checkbox"] {
  position: absolute;
  clip: rect(0, 0, 0, 0);
  pointer-events: none;
}
.input-group {
  position: relative;
  display: table;
  border-collapse: separate;
}
.input-group[class*="col-"] {
  float: none;
  padding-left: 0;
  padding-right: 0;
}
.input-group .form-control {
  position: relative;
  z-index: 2;
  float: left;
  width: 100%;
  margin-bottom: 0;
}
.input-group .form-control:focus {
  z-index: 3;
}
.input-group-lg > .form-control,
.input-group-lg > .input-group-addon,
.input-group-lg > .input-group-btn > .btn {
  height: 45px;
  padding: 10px 16px;
  font-size: 17px;
  line-height: 1.3333333;
  border-radius: 3px;
}
select.input-group-lg > .form-control,
select.input-group-lg > .input-group-addon,
select.input-group-lg > .input-group-btn > .btn {
  height: 45px;
  line-height: 45px;
}
textarea.input-group-lg > .form-control,
textarea.input-group-lg > .input-group-addon,
textarea.input-group-lg > .input-group-btn > .btn,
select[multiple].input-group-lg > .form-control,
select[multiple].input-group-lg > .input-group-addon,
select[multiple].input-group-lg > .input-group-btn > .btn {
  height: auto;
}
.input-group-sm > .form-control,
.input-group-sm > .input-group-addon,
.input-group-sm > .input-group-btn > .btn {
  height: 30px;
  padding: 5px 10px;
  font-size: 12px;
  line-height: 1.5;
  border-radius: 1px;
}
select.input-group-sm > .form-control,
select.input-group-sm > .input-group-addon,
select.input-group-sm > .input-group-btn > .btn {
  height: 30px;
  line-height: 30px;
}
textarea.input-group-sm > .form-control,
textarea.input-group-sm > .input-group-addon,
textarea.input-group-sm > .input-group-btn > .btn,
select[multiple].input-group-sm > .form-control,
select[multiple].input-group-sm > .input-group-addon,
select[multiple].input-group-sm > .input-group-btn > .btn {
  height: auto;
}
.input-group-addon,
.input-group-btn,
.input-group .form-control {
  display: table-cell;
}
.input-group-addon:not(:first-child):not(:last-child),
.input-group-btn:not(:first-child):not(:last-child),
.input-group .form-control:not(:first-child):not(:last-child) {
  border-radius: 0;
}
.input-group-addon,
.input-group-btn {
  width: 1%;
  white-space: nowrap;
  vertical-align: middle;
}
.input-group-addon {
  padding: 6px 12px;
  font-size: 13px;
  font-weight: normal;
  line-height: 1;
  color: #555555;
  text-align: center;
  background-color: #eeeeee;
  border: 1px solid #ccc;
  border-radius: 2px;
}
.input-group-addon.input-sm {
  padding: 5px 10px;
  font-size: 12px;
  border-radius: 1px;
}
.input-group-addon.input-lg {
  padding: 10px 16px;
  font-size: 17px;
  border-radius: 3px;
}
.input-group-addon input[type="radio"],
.input-group-addon input[type="checkbox"] {
  margin-top: 0;
}
.input-group .form-control:first-child,
.input-group-addon:first-child,
.input-group-btn:first-child > .btn,
.input-group-btn:first-child > .btn-group > .btn,
.input-group-btn:first-child > .dropdown-toggle,
.input-group-btn:last-child > .btn:not(:last-child):not(.dropdown-toggle),
.input-group-btn:last-child > .btn-group:not(:last-child) > .btn {
  border-bottom-right-radius: 0;
  border-top-right-radius: 0;
}
.input-group-addon:first-child {
  border-right: 0;
}
.input-group .form-control:last-child,
.input-group-addon:last-child,
.input-group-btn:last-child > .btn,
.input-group-btn:last-child > .btn-group > .btn,
.input-group-btn:last-child > .dropdown-toggle,
.input-group-btn:first-child > .btn:not(:first-child),
.input-group-btn:first-child > .btn-group:not(:first-child) > .btn {
  border-bottom-left-radius: 0;
  border-top-left-radius: 0;
}
.input-group-addon:last-child {
  border-left: 0;
}
.input-group-btn {
  position: relative;
  font-size: 0;
  white-space: nowrap;
}
.input-group-btn > .btn {
  position: relative;
}
.input-group-btn > .btn + .btn {
  margin-left: -1px;
}
.input-group-btn > .btn:hover,
.input-group-btn > .btn:focus,
.input-group-btn > .btn:active {
  z-index: 2;
}
.input-group-btn:first-child > .btn,
.input-group-btn:first-child > .btn-group {
  margin-right: -1px;
}
.input-group-btn:last-child > .btn,
.input-group-btn:last-child > .btn-group {
  z-index: 2;
  margin-left: -1px;
}
.nav {
  margin-bottom: 0;
  padding-left: 0;
  list-style: none;
}
.nav > li {
  position: relative;
  display: block;
}
.nav > li > a {
  position: relative;
  display: block;
  padding: 10px 15px;
}
.nav > li > a:hover,
.nav > li > a:focus {
  text-decoration: none;
  background-color: #eeeeee;
}
.nav > li.disabled > a {
  color: #777777;
}
.nav > li.disabled > a:hover,
.nav > li.disabled > a:focus {
  color: #777777;
  text-decoration: none;
  background-color: transparent;
  cursor: not-allowed;
}
.nav .open > a,
.nav .open > a:hover,
.nav .open > a:focus {
  background-color: #eeeeee;
  border-color: #337ab7;
}
.nav .nav-divider {
  height: 1px;
  margin: 8px 0;
  overflow: hidden;
  background-color: #e5e5e5;
}
.nav > li > a > img {
  max-width: none;
}
.nav-tabs {
  border-bottom: 1px solid #ddd;
}
.nav-tabs > li {
  float: left;
  margin-bottom: -1px;
}
.nav-tabs > li > a {
  margin-right: 2px;
  line-height: 1.42857143;
  border: 1px solid transparent;
  border-radius: 2px 2px 0 0;
}
.nav-tabs > li > a:hover {
  border-color: #eeeeee #eeeeee #ddd;
}
.nav-tabs > li.active > a,
.nav-tabs > li.active > a:hover,
.nav-tabs > li.active > a:focus {
  color: #555555;
  background-color: #fff;
  border: 1px solid #ddd;
  border-bottom-color: transparent;
  cursor: default;
}
.nav-tabs.nav-justified {
  width: 100%;
  border-bottom: 0;
}
.nav-tabs.nav-justified > li {
  float: none;
}
.nav-tabs.nav-justified > li > a {
  text-align: center;
  margin-bottom: 5px;
}
.nav-tabs.nav-justified > .dropdown .dropdown-menu {
  top: auto;
  left: auto;
}
@media (min-width: 768px) {
  .nav-tabs.nav-justified > li {
    display: table-cell;
    width: 1%;
  }
  .nav-tabs.nav-justified > li > a {
    margin-bottom: 0;
  }
}
.nav-tabs.nav-justified > li > a {
  margin-right: 0;
  border-radius: 2px;
}
.nav-tabs.nav-justified > .active > a,
.nav-tabs.nav-justified > .active > a:hover,
.nav-tabs.nav-justified > .active > a:focus {
  border: 1px solid #ddd;
}
@media (min-width: 768px) {
  .nav-tabs.nav-justified > li > a {
    border-bottom: 1px solid #ddd;
    border-radius: 2px 2px 0 0;
  }
  .nav-tabs.nav-justified > .active > a,
  .nav-tabs.nav-justified > .active > a:hover,
  .nav-tabs.nav-justified > .active > a:focus {
    border-bottom-color: #fff;
  }
}
.nav-pills > li {
  float: left;
}
.nav-pills > li > a {
  border-radius: 2px;
}
.nav-pills > li + li {
  margin-left: 2px;
}
.nav-pills > li.active > a,
.nav-pills > li.active > a:hover,
.nav-pills > li.active > a:focus {
  color: #fff;
  background-color: #337ab7;
}
.nav-stacked > li {
  float: none;
}
.nav-stacked > li + li {
  margin-top: 2px;
  margin-left: 0;
}
.nav-justified {
  width: 100%;
}
.nav-justified > li {
  float: none;
}
.nav-justified > li > a {
  text-align: center;
  margin-bottom: 5px;
}
.nav-justified > .dropdown .dropdown-menu {
  top: auto;
  left: auto;
}
@media (min-width: 768px) {
  .nav-justified > li {
    display: table-cell;
    width: 1%;
  }
  .nav-justified > li > a {
    margin-bottom: 0;
  }
}
.nav-tabs-justified {
  border-bottom: 0;
}
.nav-tabs-justified > li > a {
  margin-right: 0;
  border-radius: 2px;
}
.nav-tabs-justified > .active > a,
.nav-tabs-justified > .active > a:hover,
.nav-tabs-justified > .active > a:focus {
  border: 1px solid #ddd;
}
@media (min-width: 768px) {
  .nav-tabs-justified > li > a {
    border-bottom: 1px solid #ddd;
    border-radius: 2px 2px 0 0;
  }
  .nav-tabs-justified > .active > a,
  .nav-tabs-justified > .active > a:hover,
  .nav-tabs-justified > .active > a:focus {
    border-bottom-color: #fff;
  }
}
.tab-content > .tab-pane {
  display: none;
}
.tab-content > .active {
  display: block;
}
.nav-tabs .dropdown-menu {
  margin-top: -1px;
  border-top-right-radius: 0;
  border-top-left-radius: 0;
}
.navbar {
  position: relative;
  min-height: 30px;
  margin-bottom: 18px;
  border: 1px solid transparent;
}
@media (min-width: 541px) {
  .navbar {
    border-radius: 2px;
  }
}
@media (min-width: 541px) {
  .navbar-header {
    float: left;
  }
}
.navbar-collapse {
  overflow-x: visible;
  padding-right: 0px;
  padding-left: 0px;
  border-top: 1px solid transparent;
  box-shadow: inset 0 1px 0 rgba(255, 255, 255, 0.1);
  -webkit-overflow-scrolling: touch;
}
.navbar-collapse.in {
  overflow-y: auto;
}
@media (min-width: 541px) {
  .navbar-collapse {
    width: auto;
    border-top: 0;
    box-shadow: none;
  }
  .navbar-collapse.collapse {
    display: block !important;
    height: auto !important;
    padding-bottom: 0;
    overflow: visible !important;
  }
  .navbar-collapse.in {
    overflow-y: visible;
  }
  .navbar-fixed-top .navbar-collapse,
  .navbar-static-top .navbar-collapse,
  .navbar-fixed-bottom .navbar-collapse {
    padding-left: 0;
    padding-right: 0;
  }
}
.navbar-fixed-top .navbar-collapse,
.navbar-fixed-bottom .navbar-collapse {
  max-height: 340px;
}
@media (max-device-width: 540px) and (orientation: landscape) {
  .navbar-fixed-top .navbar-collapse,
  .navbar-fixed-bottom .navbar-collapse {
    max-height: 200px;
  }
}
.container > .navbar-header,
.container-fluid > .navbar-header,
.container > .navbar-collapse,
.container-fluid > .navbar-collapse {
  margin-right: 0px;
  margin-left: 0px;
}
@media (min-width: 541px) {
  .container > .navbar-header,
  .container-fluid > .navbar-header,
  .container > .navbar-collapse,
  .container-fluid > .navbar-collapse {
    margin-right: 0;
    margin-left: 0;
  }
}
.navbar-static-top {
  z-index: 1000;
  border-width: 0 0 1px;
}
@media (min-width: 541px) {
  .navbar-static-top {
    border-radius: 0;
  }
}
.navbar-fixed-top,
.navbar-fixed-bottom {
  position: fixed;
  right: 0;
  left: 0;
  z-index: 1030;
}
@media (min-width: 541px) {
  .navbar-fixed-top,
  .navbar-fixed-bottom {
    border-radius: 0;
  }
}
.navbar-fixed-top {
  top: 0;
  border-width: 0 0 1px;
}
.navbar-fixed-bottom {
  bottom: 0;
  margin-bottom: 0;
  border-width: 1px 0 0;
}
.navbar-brand {
  float: left;
  padding: 6px 0px;
  font-size: 17px;
  line-height: 18px;
  height: 30px;
}
.navbar-brand:hover,
.navbar-brand:focus {
  text-decoration: none;
}
.navbar-brand > img {
  display: block;
}
@media (min-width: 541px) {
  .navbar > .container .navbar-brand,
  .navbar > .container-fluid .navbar-brand {
    margin-left: 0px;
  }
}
.navbar-toggle {
  position: relative;
  float: right;
  margin-right: 0px;
  padding: 9px 10px;
  margin-top: -2px;
  margin-bottom: -2px;
  background-color: transparent;
  background-image: none;
  border: 1px solid transparent;
  border-radius: 2px;
}
.navbar-toggle:focus {
  outline: 0;
}
.navbar-toggle .icon-bar {
  display: block;
  width: 22px;
  height: 2px;
  border-radius: 1px;
}
.navbar-toggle .icon-bar + .icon-bar {
  margin-top: 4px;
}
@media (min-width: 541px) {
  .navbar-toggle {
    display: none;
  }
}
.navbar-nav {
  margin: 3px 0px;
}
.navbar-nav > li > a {
  padding-top: 10px;
  padding-bottom: 10px;
  line-height: 18px;
}
@media (max-width: 540px) {
  .navbar-nav .open .dropdown-menu {
    position: static;
    float: none;
    width: auto;
    margin-top: 0;
    background-color: transparent;
    border: 0;
    box-shadow: none;
  }
  .navbar-nav .open .dropdown-menu > li > a,
  .navbar-nav .open .dropdown-menu .dropdown-header {
    padding: 5px 15px 5px 25px;
  }
  .navbar-nav .open .dropdown-menu > li > a {
    line-height: 18px;
  }
  .navbar-nav .open .dropdown-menu > li > a:hover,
  .navbar-nav .open .dropdown-menu > li > a:focus {
    background-image: none;
  }
}
@media (min-width: 541px) {
  .navbar-nav {
    float: left;
    margin: 0;
  }
  .navbar-nav > li {
    float: left;
  }
  .navbar-nav > li > a {
    padding-top: 6px;
    padding-bottom: 6px;
  }
}
.navbar-form {
  margin-left: 0px;
  margin-right: 0px;
  padding: 10px 0px;
  border-top: 1px solid transparent;
  border-bottom: 1px solid transparent;
  -webkit-box-shadow: inset 0 1px 0 rgba(255, 255, 255, 0.1), 0 1px 0 rgba(255, 255, 255, 0.1);
  box-shadow: inset 0 1px 0 rgba(255, 255, 255, 0.1), 0 1px 0 rgba(255, 255, 255, 0.1);
  margin-top: -1px;
  margin-bottom: -1px;
}
@media (min-width: 768px) {
  .navbar-form .form-group {
    display: inline-block;
    margin-bottom: 0;
    vertical-align: middle;
  }
  .navbar-form .form-control {
    display: inline-block;
    width: auto;
    vertical-align: middle;
  }
  .navbar-form .form-control-static {
    display: inline-block;
  }
  .navbar-form .input-group {
    display: inline-table;
    vertical-align: middle;
  }
  .navbar-form .input-group .input-group-addon,
  .navbar-form .input-group .input-group-btn,
  .navbar-form .input-group .form-control {
    width: auto;
  }
  .navbar-form .input-group > .form-control {
    width: 100%;
  }
  .navbar-form .control-label {
    margin-bottom: 0;
    vertical-align: middle;
  }
  .navbar-form .radio,
  .navbar-form .checkbox {
    display: inline-block;
    margin-top: 0;
    margin-bottom: 0;
    vertical-align: middle;
  }
  .navbar-form .radio label,
  .navbar-form .checkbox label {
    padding-left: 0;
  }
  .navbar-form .radio input[type="radio"],
  .navbar-form .checkbox input[type="checkbox"] {
    position: relative;
    margin-left: 0;
  }
  .navbar-form .has-feedback .form-control-feedback {
    top: 0;
  }
}
@media (max-width: 540px) {
  .navbar-form .form-group {
    margin-bottom: 5px;
  }
  .navbar-form .form-group:last-child {
    margin-bottom: 0;
  }
}
@media (min-width: 541px) {
  .navbar-form {
    width: auto;
    border: 0;
    margin-left: 0;
    margin-right: 0;
    padding-top: 0;
    padding-bottom: 0;
    -webkit-box-shadow: none;
    box-shadow: none;
  }
}
.navbar-nav > li > .dropdown-menu {
  margin-top: 0;
  border-top-right-radius: 0;
  border-top-left-radius: 0;
}
.navbar-fixed-bottom .navbar-nav > li > .dropdown-menu {
  margin-bottom: 0;
  border-top-right-radius: 2px;
  border-top-left-radius: 2px;
  border-bottom-right-radius: 0;
  border-bottom-left-radius: 0;
}
.navbar-btn {
  margin-top: -1px;
  margin-bottom: -1px;
}
.navbar-btn.btn-sm {
  margin-top: 0px;
  margin-bottom: 0px;
}
.navbar-btn.btn-xs {
  margin-top: 4px;
  margin-bottom: 4px;
}
.navbar-text {
  margin-top: 6px;
  margin-bottom: 6px;
}
@media (min-width: 541px) {
  .navbar-text {
    float: left;
    margin-left: 0px;
    margin-right: 0px;
  }
}
@media (min-width: 541px) {
  .navbar-left {
    float: left !important;
    float: left;
  }
  .navbar-right {
    float: right !important;
    float: right;
    margin-right: 0px;
  }
  .navbar-right ~ .navbar-right {
    margin-right: 0;
  }
}
.navbar-default {
  background-color: #f8f8f8;
  border-color: #e7e7e7;
}
.navbar-default .navbar-brand {
  color: #777;
}
.navbar-default .navbar-brand:hover,
.navbar-default .navbar-brand:focus {
  color: #5e5e5e;
  background-color: transparent;
}
.navbar-default .navbar-text {
  color: #777;
}
.navbar-default .navbar-nav > li > a {
  color: #777;
}
.navbar-default .navbar-nav > li > a:hover,
.navbar-default .navbar-nav > li > a:focus {
  color: #333;
  background-color: transparent;
}
.navbar-default .navbar-nav > .active > a,
.navbar-default .navbar-nav > .active > a:hover,
.navbar-default .navbar-nav > .active > a:focus {
  color: #555;
  background-color: #e7e7e7;
}
.navbar-default .navbar-nav > .disabled > a,
.navbar-default .navbar-nav > .disabled > a:hover,
.navbar-default .navbar-nav > .disabled > a:focus {
  color: #ccc;
  background-color: transparent;
}
.navbar-default .navbar-toggle {
  border-color: #ddd;
}
.navbar-default .navbar-toggle:hover,
.navbar-default .navbar-toggle:focus {
  background-color: #ddd;
}
.navbar-default .navbar-toggle .icon-bar {
  background-color: #888;
}
.navbar-default .navbar-collapse,
.navbar-default .navbar-form {
  border-color: #e7e7e7;
}
.navbar-default .navbar-nav > .open > a,
.navbar-default .navbar-nav > .open > a:hover,
.navbar-default .navbar-nav > .open > a:focus {
  background-color: #e7e7e7;
  color: #555;
}
@media (max-width: 540px) {
  .navbar-default .navbar-nav .open .dropdown-menu > li > a {
    color: #777;
  }
  .navbar-default .navbar-nav .open .dropdown-menu > li > a:hover,
  .navbar-default .navbar-nav .open .dropdown-menu > li > a:focus {
    color: #333;
    background-color: transparent;
  }
  .navbar-default .navbar-nav .open .dropdown-menu > .active > a,
  .navbar-default .navbar-nav .open .dropdown-menu > .active > a:hover,
  .navbar-default .navbar-nav .open .dropdown-menu > .active > a:focus {
    color: #555;
    background-color: #e7e7e7;
  }
  .navbar-default .navbar-nav .open .dropdown-menu > .disabled > a,
  .navbar-default .navbar-nav .open .dropdown-menu > .disabled > a:hover,
  .navbar-default .navbar-nav .open .dropdown-menu > .disabled > a:focus {
    color: #ccc;
    background-color: transparent;
  }
}
.navbar-default .navbar-link {
  color: #777;
}
.navbar-default .navbar-link:hover {
  color: #333;
}
.navbar-default .btn-link {
  color: #777;
}
.navbar-default .btn-link:hover,
.navbar-default .btn-link:focus {
  color: #333;
}
.navbar-default .btn-link[disabled]:hover,
fieldset[disabled] .navbar-default .btn-link:hover,
.navbar-default .btn-link[disabled]:focus,
fieldset[disabled] .navbar-default .btn-link:focus {
  color: #ccc;
}
.navbar-inverse {
  background-color: #222;
  border-color: #080808;
}
.navbar-inverse .navbar-brand {
  color: #9d9d9d;
}
.navbar-inverse .navbar-brand:hover,
.navbar-inverse .navbar-brand:focus {
  color: #fff;
  background-color: transparent;
}
.navbar-inverse .navbar-text {
  color: #9d9d9d;
}
.navbar-inverse .navbar-nav > li > a {
  color: #9d9d9d;
}
.navbar-inverse .navbar-nav > li > a:hover,
.navbar-inverse .navbar-nav > li > a:focus {
  color: #fff;
  background-color: transparent;
}
.navbar-inverse .navbar-nav > .active > a,
.navbar-inverse .navbar-nav > .active > a:hover,
.navbar-inverse .navbar-nav > .active > a:focus {
  color: #fff;
  background-color: #080808;
}
.navbar-inverse .navbar-nav > .disabled > a,
.navbar-inverse .navbar-nav > .disabled > a:hover,
.navbar-inverse .navbar-nav > .disabled > a:focus {
  color: #444;
  background-color: transparent;
}
.navbar-inverse .navbar-toggle {
  border-color: #333;
}
.navbar-inverse .navbar-toggle:hover,
.navbar-inverse .navbar-toggle:focus {
  background-color: #333;
}
.navbar-inverse .navbar-toggle .icon-bar {
  background-color: #fff;
}
.navbar-inverse .navbar-collapse,
.navbar-inverse .navbar-form {
  border-color: #101010;
}
.navbar-inverse .navbar-nav > .open > a,
.navbar-inverse .navbar-nav > .open > a:hover,
.navbar-inverse .navbar-nav > .open > a:focus {
  background-color: #080808;
  color: #fff;
}
@media (max-width: 540px) {
  .navbar-inverse .navbar-nav .open .dropdown-menu > .dropdown-header {
    border-color: #080808;
  }
  .navbar-inverse .navbar-nav .open .dropdown-menu .divider {
    background-color: #080808;
  }
  .navbar-inverse .navbar-nav .open .dropdown-menu > li > a {
    color: #9d9d9d;
  }
  .navbar-inverse .navbar-nav .open .dropdown-menu > li > a:hover,
  .navbar-inverse .navbar-nav .open .dropdown-menu > li > a:focus {
    color: #fff;
    background-color: transparent;
  }
  .navbar-inverse .navbar-nav .open .dropdown-menu > .active > a,
  .navbar-inverse .navbar-nav .open .dropdown-menu > .active > a:hover,
  .navbar-inverse .navbar-nav .open .dropdown-menu > .active > a:focus {
    color: #fff;
    background-color: #080808;
  }
  .navbar-inverse .navbar-nav .open .dropdown-menu > .disabled > a,
  .navbar-inverse .navbar-nav .open .dropdown-menu > .disabled > a:hover,
  .navbar-inverse .navbar-nav .open .dropdown-menu > .disabled > a:focus {
    color: #444;
    background-color: transparent;
  }
}
.navbar-inverse .navbar-link {
  color: #9d9d9d;
}
.navbar-inverse .navbar-link:hover {
  color: #fff;
}
.navbar-inverse .btn-link {
  color: #9d9d9d;
}
.navbar-inverse .btn-link:hover,
.navbar-inverse .btn-link:focus {
  color: #fff;
}
.navbar-inverse .btn-link[disabled]:hover,
fieldset[disabled] .navbar-inverse .btn-link:hover,
.navbar-inverse .btn-link[disabled]:focus,
fieldset[disabled] .navbar-inverse .btn-link:focus {
  color: #444;
}
.breadcrumb {
  padding: 8px 15px;
  margin-bottom: 18px;
  list-style: none;
  background-color: #f5f5f5;
  border-radius: 2px;
}
.breadcrumb > li {
  display: inline-block;
}
.breadcrumb > li + li:before {
  content: "/\00a0";
  padding: 0 5px;
  color: #5e5e5e;
}
.breadcrumb > .active {
  color: #777777;
}
.pagination {
  display: inline-block;
  padding-left: 0;
  margin: 18px 0;
  border-radius: 2px;
}
.pagination > li {
  display: inline;
}
.pagination > li > a,
.pagination > li > span {
  position: relative;
  float: left;
  padding: 6px 12px;
  line-height: 1.42857143;
  text-decoration: none;
  color: #337ab7;
  background-color: #fff;
  border: 1px solid #ddd;
  margin-left: -1px;
}
.pagination > li:first-child > a,
.pagination > li:first-child > span {
  margin-left: 0;
  border-bottom-left-radius: 2px;
  border-top-left-radius: 2px;
}
.pagination > li:last-child > a,
.pagination > li:last-child > span {
  border-bottom-right-radius: 2px;
  border-top-right-radius: 2px;
}
.pagination > li > a:hover,
.pagination > li > span:hover,
.pagination > li > a:focus,
.pagination > li > span:focus {
  z-index: 2;
  color: #23527c;
  background-color: #eeeeee;
  border-color: #ddd;
}
.pagination > .active > a,
.pagination > .active > span,
.pagination > .active > a:hover,
.pagination > .active > span:hover,
.pagination > .active > a:focus,
.pagination > .active > span:focus {
  z-index: 3;
  color: #fff;
  background-color: #337ab7;
  border-color: #337ab7;
  cursor: default;
}
.pagination > .disabled > span,
.pagination > .disabled > span:hover,
.pagination > .disabled > span:focus,
.pagination > .disabled > a,
.pagination > .disabled > a:hover,
.pagination > .disabled > a:focus {
  color: #777777;
  background-color: #fff;
  border-color: #ddd;
  cursor: not-allowed;
}
.pagination-lg > li > a,
.pagination-lg > li > span {
  padding: 10px 16px;
  font-size: 17px;
  line-height: 1.3333333;
}
.pagination-lg > li:first-child > a,
.pagination-lg > li:first-child > span {
  border-bottom-left-radius: 3px;
  border-top-left-radius: 3px;
}
.pagination-lg > li:last-child > a,
.pagination-lg > li:last-child > span {
  border-bottom-right-radius: 3px;
  border-top-right-radius: 3px;
}
.pagination-sm > li > a,
.pagination-sm > li > span {
  padding: 5px 10px;
  font-size: 12px;
  line-height: 1.5;
}
.pagination-sm > li:first-child > a,
.pagination-sm > li:first-child > span {
  border-bottom-left-radius: 1px;
  border-top-left-radius: 1px;
}
.pagination-sm > li:last-child > a,
.pagination-sm > li:last-child > span {
  border-bottom-right-radius: 1px;
  border-top-right-radius: 1px;
}
.pager {
  padding-left: 0;
  margin: 18px 0;
  list-style: none;
  text-align: center;
}
.pager li {
  display: inline;
}
.pager li > a,
.pager li > span {
  display: inline-block;
  padding: 5px 14px;
  background-color: #fff;
  border: 1px solid #ddd;
  border-radius: 15px;
}
.pager li > a:hover,
.pager li > a:focus {
  text-decoration: none;
  background-color: #eeeeee;
}
.pager .next > a,
.pager .next > span {
  float: right;
}
.pager .previous > a,
.pager .previous > span {
  float: left;
}
.pager .disabled > a,
.pager .disabled > a:hover,
.pager .disabled > a:focus,
.pager .disabled > span {
  color: #777777;
  background-color: #fff;
  cursor: not-allowed;
}
.label {
  display: inline;
  padding: .2em .6em .3em;
  font-size: 75%;
  font-weight: bold;
  line-height: 1;
  color: #fff;
  text-align: center;
  white-space: nowrap;
  vertical-align: baseline;
  border-radius: .25em;
}
a.label:hover,
a.label:focus {
  color: #fff;
  text-decoration: none;
  cursor: pointer;
}
.label:empty {
  display: none;
}
.btn .label {
  position: relative;
  top: -1px;
}
.label-default {
  background-color: #777777;
}
.label-default[href]:hover,
.label-default[href]:focus {
  background-color: #5e5e5e;
}
.label-primary {
  background-color: #337ab7;
}
.label-primary[href]:hover,
.label-primary[href]:focus {
  background-color: #286090;
}
.label-success {
  background-color: #5cb85c;
}
.label-success[href]:hover,
.label-success[href]:focus {
  background-color: #449d44;
}
.label-info {
  background-color: #5bc0de;
}
.label-info[href]:hover,
.label-info[href]:focus {
  background-color: #31b0d5;
}
.label-warning {
  background-color: #f0ad4e;
}
.label-warning[href]:hover,
.label-warning[href]:focus {
  background-color: #ec971f;
}
.label-danger {
  background-color: #d9534f;
}
.label-danger[href]:hover,
.label-danger[href]:focus {
  background-color: #c9302c;
}
.badge {
  display: inline-block;
  min-width: 10px;
  padding: 3px 7px;
  font-size: 12px;
  font-weight: bold;
  color: #fff;
  line-height: 1;
  vertical-align: middle;
  white-space: nowrap;
  text-align: center;
  background-color: #777777;
  border-radius: 10px;
}
.badge:empty {
  display: none;
}
.btn .badge {
  position: relative;
  top: -1px;
}
.btn-xs .badge,
.btn-group-xs > .btn .badge {
  top: 0;
  padding: 1px 5px;
}
a.badge:hover,
a.badge:focus {
  color: #fff;
  text-decoration: none;
  cursor: pointer;
}
.list-group-item.active > .badge,
.nav-pills > .active > a > .badge {
  color: #337ab7;
  background-color: #fff;
}
.list-group-item > .badge {
  float: right;
}
.list-group-item > .badge + .badge {
  margin-right: 5px;
}
.nav-pills > li > a > .badge {
  margin-left: 3px;
}
.jumbotron {
  padding-top: 30px;
  padding-bottom: 30px;
  margin-bottom: 30px;
  color: inherit;
  background-color: #eeeeee;
}
.jumbotron h1,
.jumbotron .h1 {
  color: inherit;
}
.jumbotron p {
  margin-bottom: 15px;
  font-size: 20px;
  font-weight: 200;
}
.jumbotron > hr {
  border-top-color: #d5d5d5;
}
.container .jumbotron,
.container-fluid .jumbotron {
  border-radius: 3px;
  padding-left: 0px;
  padding-right: 0px;
}
.jumbotron .container {
  max-width: 100%;
}
@media screen and (min-width: 768px) {
  .jumbotron {
    padding-top: 48px;
    padding-bottom: 48px;
  }
  .container .jumbotron,
  .container-fluid .jumbotron {
    padding-left: 60px;
    padding-right: 60px;
  }
  .jumbotron h1,
  .jumbotron .h1 {
    font-size: 59px;
  }
}
.thumbnail {
  display: block;
  padding: 4px;
  margin-bottom: 18px;
  line-height: 1.42857143;
  background-color: #fff;
  border: 1px solid #ddd;
  border-radius: 2px;
  -webkit-transition: border 0.2s ease-in-out;
  -o-transition: border 0.2s ease-in-out;
  transition: border 0.2s ease-in-out;
}
.thumbnail > img,
.thumbnail a > img {
  margin-left: auto;
  margin-right: auto;
}
a.thumbnail:hover,
a.thumbnail:focus,
a.thumbnail.active {
  border-color: #337ab7;
}
.thumbnail .caption {
  padding: 9px;
  color: #000;
}
.alert {
  padding: 15px;
  margin-bottom: 18px;
  border: 1px solid transparent;
  border-radius: 2px;
}
.alert h4 {
  margin-top: 0;
  color: inherit;
}
.alert .alert-link {
  font-weight: bold;
}
.alert > p,
.alert > ul {
  margin-bottom: 0;
}
.alert > p + p {
  margin-top: 5px;
}
.alert-dismissable,
.alert-dismissible {
  padding-right: 35px;
}
.alert-dismissable .close,
.alert-dismissible .close {
  position: relative;
  top: -2px;
  right: -21px;
  color: inherit;
}
.alert-success {
  background-color: #dff0d8;
  border-color: #d6e9c6;
  color: #3c763d;
}
.alert-success hr {
  border-top-color: #c9e2b3;
}
.alert-success .alert-link {
  color: #2b542c;
}
.alert-info {
  background-color: #d9edf7;
  border-color: #bce8f1;
  color: #31708f;
}
.alert-info hr {
  border-top-color: #a6e1ec;
}
.alert-info .alert-link {
  color: #245269;
}
.alert-warning {
  background-color: #fcf8e3;
  border-color: #faebcc;
  color: #8a6d3b;
}
.alert-warning hr {
  border-top-color: #f7e1b5;
}
.alert-warning .alert-link {
  color: #66512c;
}
.alert-danger {
  background-color: #f2dede;
  border-color: #ebccd1;
  color: #a94442;
}
.alert-danger hr {
  border-top-color: #e4b9c0;
}
.alert-danger .alert-link {
  color: #843534;
}
@-webkit-keyframes progress-bar-stripes {
  from {
    background-position: 40px 0;
  }
  to {
    background-position: 0 0;
  }
}
@keyframes progress-bar-stripes {
  from {
    background-position: 40px 0;
  }
  to {
    background-position: 0 0;
  }
}
.progress {
  overflow: hidden;
  height: 18px;
  margin-bottom: 18px;
  background-color: #f5f5f5;
  border-radius: 2px;
  -webkit-box-shadow: inset 0 1px 2px rgba(0, 0, 0, 0.1);
  box-shadow: inset 0 1px 2px rgba(0, 0, 0, 0.1);
}
.progress-bar {
  float: left;
  width: 0%;
  height: 100%;
  font-size: 12px;
  line-height: 18px;
  color: #fff;
  text-align: center;
  background-color: #337ab7;
  -webkit-box-shadow: inset 0 -1px 0 rgba(0, 0, 0, 0.15);
  box-shadow: inset 0 -1px 0 rgba(0, 0, 0, 0.15);
  -webkit-transition: width 0.6s ease;
  -o-transition: width 0.6s ease;
  transition: width 0.6s ease;
}
.progress-striped .progress-bar,
.progress-bar-striped {
  background-image: -webkit-linear-gradient(45deg, rgba(255, 255, 255, 0.15) 25%, transparent 25%, transparent 50%, rgba(255, 255, 255, 0.15) 50%, rgba(255, 255, 255, 0.15) 75%, transparent 75%, transparent);
  background-image: -o-linear-gradient(45deg, rgba(255, 255, 255, 0.15) 25%, transparent 25%, transparent 50%, rgba(255, 255, 255, 0.15) 50%, rgba(255, 255, 255, 0.15) 75%, transparent 75%, transparent);
  background-image: linear-gradient(45deg, rgba(255, 255, 255, 0.15) 25%, transparent 25%, transparent 50%, rgba(255, 255, 255, 0.15) 50%, rgba(255, 255, 255, 0.15) 75%, transparent 75%, transparent);
  background-size: 40px 40px;
}
.progress.active .progress-bar,
.progress-bar.active {
  -webkit-animation: progress-bar-stripes 2s linear infinite;
  -o-animation: progress-bar-stripes 2s linear infinite;
  animation: progress-bar-stripes 2s linear infinite;
}
.progress-bar-success {
  background-color: #5cb85c;
}
.progress-striped .progress-bar-success {
  background-image: -webkit-linear-gradient(45deg, rgba(255, 255, 255, 0.15) 25%, transparent 25%, transparent 50%, rgba(255, 255, 255, 0.15) 50%, rgba(255, 255, 255, 0.15) 75%, transparent 75%, transparent);
  background-image: -o-linear-gradient(45deg, rgba(255, 255, 255, 0.15) 25%, transparent 25%, transparent 50%, rgba(255, 255, 255, 0.15) 50%, rgba(255, 255, 255, 0.15) 75%, transparent 75%, transparent);
  background-image: linear-gradient(45deg, rgba(255, 255, 255, 0.15) 25%, transparent 25%, transparent 50%, rgba(255, 255, 255, 0.15) 50%, rgba(255, 255, 255, 0.15) 75%, transparent 75%, transparent);
}
.progress-bar-info {
  background-color: #5bc0de;
}
.progress-striped .progress-bar-info {
  background-image: -webkit-linear-gradient(45deg, rgba(255, 255, 255, 0.15) 25%, transparent 25%, transparent 50%, rgba(255, 255, 255, 0.15) 50%, rgba(255, 255, 255, 0.15) 75%, transparent 75%, transparent);
  background-image: -o-linear-gradient(45deg, rgba(255, 255, 255, 0.15) 25%, transparent 25%, transparent 50%, rgba(255, 255, 255, 0.15) 50%, rgba(255, 255, 255, 0.15) 75%, transparent 75%, transparent);
  background-image: linear-gradient(45deg, rgba(255, 255, 255, 0.15) 25%, transparent 25%, transparent 50%, rgba(255, 255, 255, 0.15) 50%, rgba(255, 255, 255, 0.15) 75%, transparent 75%, transparent);
}
.progress-bar-warning {
  background-color: #f0ad4e;
}
.progress-striped .progress-bar-warning {
  background-image: -webkit-linear-gradient(45deg, rgba(255, 255, 255, 0.15) 25%, transparent 25%, transparent 50%, rgba(255, 255, 255, 0.15) 50%, rgba(255, 255, 255, 0.15) 75%, transparent 75%, transparent);
  background-image: -o-linear-gradient(45deg, rgba(255, 255, 255, 0.15) 25%, transparent 25%, transparent 50%, rgba(255, 255, 255, 0.15) 50%, rgba(255, 255, 255, 0.15) 75%, transparent 75%, transparent);
  background-image: linear-gradient(45deg, rgba(255, 255, 255, 0.15) 25%, transparent 25%, transparent 50%, rgba(255, 255, 255, 0.15) 50%, rgba(255, 255, 255, 0.15) 75%, transparent 75%, transparent);
}
.progress-bar-danger {
  background-color: #d9534f;
}
.progress-striped .progress-bar-danger {
  background-image: -webkit-linear-gradient(45deg, rgba(255, 255, 255, 0.15) 25%, transparent 25%, transparent 50%, rgba(255, 255, 255, 0.15) 50%, rgba(255, 255, 255, 0.15) 75%, transparent 75%, transparent);
  background-image: -o-linear-gradient(45deg, rgba(255, 255, 255, 0.15) 25%, transparent 25%, transparent 50%, rgba(255, 255, 255, 0.15) 50%, rgba(255, 255, 255, 0.15) 75%, transparent 75%, transparent);
  background-image: linear-gradient(45deg, rgba(255, 255, 255, 0.15) 25%, transparent 25%, transparent 50%, rgba(255, 255, 255, 0.15) 50%, rgba(255, 255, 255, 0.15) 75%, transparent 75%, transparent);
}
.media {
  margin-top: 15px;
}
.media:first-child {
  margin-top: 0;
}
.media,
.media-body {
  zoom: 1;
  overflow: hidden;
}
.media-body {
  width: 10000px;
}
.media-object {
  display: block;
}
.media-object.img-thumbnail {
  max-width: none;
}
.media-right,
.media > .pull-right {
  padding-left: 10px;
}
.media-left,
.media > .pull-left {
  padding-right: 10px;
}
.media-left,
.media-right,
.media-body {
  display: table-cell;
  vertical-align: top;
}
.media-middle {
  vertical-align: middle;
}
.media-bottom {
  vertical-align: bottom;
}
.media-heading {
  margin-top: 0;
  margin-bottom: 5px;
}
.media-list {
  padding-left: 0;
  list-style: none;
}
.list-group {
  margin-bottom: 20px;
  padding-left: 0;
}
.list-group-item {
  position: relative;
  display: block;
  padding: 10px 15px;
  margin-bottom: -1px;
  background-color: #fff;
  border: 1px solid #ddd;
}
.list-group-item:first-child {
  border-top-right-radius: 2px;
  border-top-left-radius: 2px;
}
.list-group-item:last-child {
  margin-bottom: 0;
  border-bottom-right-radius: 2px;
  border-bottom-left-radius: 2px;
}
a.list-group-item,
button.list-group-item {
  color: #555;
}
a.list-group-item .list-group-item-heading,
button.list-group-item .list-group-item-heading {
  color: #333;
}
a.list-group-item:hover,
button.list-group-item:hover,
a.list-group-item:focus,
button.list-group-item:focus {
  text-decoration: none;
  color: #555;
  background-color: #f5f5f5;
}
button.list-group-item {
  width: 100%;
  text-align: left;
}
.list-group-item.disabled,
.list-group-item.disabled:hover,
.list-group-item.disabled:focus {
  background-color: #eeeeee;
  color: #777777;
  cursor: not-allowed;
}
.list-group-item.disabled .list-group-item-heading,
.list-group-item.disabled:hover .list-group-item-heading,
.list-group-item.disabled:focus .list-group-item-heading {
  color: inherit;
}
.list-group-item.disabled .list-group-item-text,
.list-group-item.disabled:hover .list-group-item-text,
.list-group-item.disabled:focus .list-group-item-text {
  color: #777777;
}
.list-group-item.active,
.list-group-item.active:hover,
.list-group-item.active:focus {
  z-index: 2;
  color: #fff;
  background-color: #337ab7;
  border-color: #337ab7;
}
.list-group-item.active .list-group-item-heading,
.list-group-item.active:hover .list-group-item-heading,
.list-group-item.active:focus .list-group-item-heading,
.list-group-item.active .list-group-item-heading > small,
.list-group-item.active:hover .list-group-item-heading > small,
.list-group-item.active:focus .list-group-item-heading > small,
.list-group-item.active .list-group-item-heading > .small,
.list-group-item.active:hover .list-group-item-heading > .small,
.list-group-item.active:focus .list-group-item-heading > .small {
  color: inherit;
}
.list-group-item.active .list-group-item-text,
.list-group-item.active:hover .list-group-item-text,
.list-group-item.active:focus .list-group-item-text {
  color: #c7ddef;
}
.list-group-item-success {
  color: #3c763d;
  background-color: #dff0d8;
}
a.list-group-item-success,
button.list-group-item-success {
  color: #3c763d;
}
a.list-group-item-success .list-group-item-heading,
button.list-group-item-success .list-group-item-heading {
  color: inherit;
}
a.list-group-item-success:hover,
button.list-group-item-success:hover,
a.list-group-item-success:focus,
button.list-group-item-success:focus {
  color: #3c763d;
  background-color: #d0e9c6;
}
a.list-group-item-success.active,
button.list-group-item-success.active,
a.list-group-item-success.active:hover,
button.list-group-item-success.active:hover,
a.list-group-item-success.active:focus,
button.list-group-item-success.active:focus {
  color: #fff;
  background-color: #3c763d;
  border-color: #3c763d;
}
.list-group-item-info {
  color: #31708f;
  background-color: #d9edf7;
}
a.list-group-item-info,
button.list-group-item-info {
  color: #31708f;
}
a.list-group-item-info .list-group-item-heading,
button.list-group-item-info .list-group-item-heading {
  color: inherit;
}
a.list-group-item-info:hover,
button.list-group-item-info:hover,
a.list-group-item-info:focus,
button.list-group-item-info:focus {
  color: #31708f;
  background-color: #c4e3f3;
}
a.list-group-item-info.active,
button.list-group-item-info.active,
a.list-group-item-info.active:hover,
button.list-group-item-info.active:hover,
a.list-group-item-info.active:focus,
button.list-group-item-info.active:focus {
  color: #fff;
  background-color: #31708f;
  border-color: #31708f;
}
.list-group-item-warning {
  color: #8a6d3b;
  background-color: #fcf8e3;
}
a.list-group-item-warning,
button.list-group-item-warning {
  color: #8a6d3b;
}
a.list-group-item-warning .list-group-item-heading,
button.list-group-item-warning .list-group-item-heading {
  color: inherit;
}
a.list-group-item-warning:hover,
button.list-group-item-warning:hover,
a.list-group-item-warning:focus,
button.list-group-item-warning:focus {
  color: #8a6d3b;
  background-color: #faf2cc;
}
a.list-group-item-warning.active,
button.list-group-item-warning.active,
a.list-group-item-warning.active:hover,
button.list-group-item-warning.active:hover,
a.list-group-item-warning.active:focus,
button.list-group-item-warning.active:focus {
  color: #fff;
  background-color: #8a6d3b;
  border-color: #8a6d3b;
}
.list-group-item-danger {
  color: #a94442;
  background-color: #f2dede;
}
a.list-group-item-danger,
button.list-group-item-danger {
  color: #a94442;
}
a.list-group-item-danger .list-group-item-heading,
button.list-group-item-danger .list-group-item-heading {
  color: inherit;
}
a.list-group-item-danger:hover,
button.list-group-item-danger:hover,
a.list-group-item-danger:focus,
button.list-group-item-danger:focus {
  color: #a94442;
  background-color: #ebcccc;
}
a.list-group-item-danger.active,
button.list-group-item-danger.active,
a.list-group-item-danger.active:hover,
button.list-group-item-danger.active:hover,
a.list-group-item-danger.active:focus,
button.list-group-item-danger.active:focus {
  color: #fff;
  background-color: #a94442;
  border-color: #a94442;
}
.list-group-item-heading {
  margin-top: 0;
  margin-bottom: 5px;
}
.list-group-item-text {
  margin-bottom: 0;
  line-height: 1.3;
}
.panel {
  margin-bottom: 18px;
  background-color: #fff;
  border: 1px solid transparent;
  border-radius: 2px;
  -webkit-box-shadow: 0 1px 1px rgba(0, 0, 0, 0.05);
  box-shadow: 0 1px 1px rgba(0, 0, 0, 0.05);
}
.panel-body {
  padding: 15px;
}
.panel-heading {
  padding: 10px 15px;
  border-bottom: 1px solid transparent;
  border-top-right-radius: 1px;
  border-top-left-radius: 1px;
}
.panel-heading > .dropdown .dropdown-toggle {
  color: inherit;
}
.panel-title {
  margin-top: 0;
  margin-bottom: 0;
  font-size: 15px;
  color: inherit;
}
.panel-title > a,
.panel-title > small,
.panel-title > .small,
.panel-title > small > a,
.panel-title > .small > a {
  color: inherit;
}
.panel-footer {
  padding: 10px 15px;
  background-color: #f5f5f5;
  border-top: 1px solid #ddd;
  border-bottom-right-radius: 1px;
  border-bottom-left-radius: 1px;
}
.panel > .list-group,
.panel > .panel-collapse > .list-group {
  margin-bottom: 0;
}
.panel > .list-group .list-group-item,
.panel > .panel-collapse > .list-group .list-group-item {
  border-width: 1px 0;
  border-radius: 0;
}
.panel > .list-group:first-child .list-group-item:first-child,
.panel > .panel-collapse > .list-group:first-child .list-group-item:first-child {
  border-top: 0;
  border-top-right-radius: 1px;
  border-top-left-radius: 1px;
}
.panel > .list-group:last-child .list-group-item:last-child,
.panel > .panel-collapse > .list-group:last-child .list-group-item:last-child {
  border-bottom: 0;
  border-bottom-right-radius: 1px;
  border-bottom-left-radius: 1px;
}
.panel > .panel-heading + .panel-collapse > .list-group .list-group-item:first-child {
  border-top-right-radius: 0;
  border-top-left-radius: 0;
}
.panel-heading + .list-group .list-group-item:first-child {
  border-top-width: 0;
}
.list-group + .panel-footer {
  border-top-width: 0;
}
.panel > .table,
.panel > .table-responsive > .table,
.panel > .panel-collapse > .table {
  margin-bottom: 0;
}
.panel > .table caption,
.panel > .table-responsive > .table caption,
.panel > .panel-collapse > .table caption {
  padding-left: 15px;
  padding-right: 15px;
}
.panel > .table:first-child,
.panel > .table-responsive:first-child > .table:first-child {
  border-top-right-radius: 1px;
  border-top-left-radius: 1px;
}
.panel > .table:first-child > thead:first-child > tr:first-child,
.panel > .table-responsive:first-child > .table:first-child > thead:first-child > tr:first-child,
.panel > .table:first-child > tbody:first-child > tr:first-child,
.panel > .table-responsive:first-child > .table:first-child > tbody:first-child > tr:first-child {
  border-top-left-radius: 1px;
  border-top-right-radius: 1px;
}
.panel > .table:first-child > thead:first-child > tr:first-child td:first-child,
.panel > .table-responsive:first-child > .table:first-child > thead:first-child > tr:first-child td:first-child,
.panel > .table:first-child > tbody:first-child > tr:first-child td:first-child,
.panel > .table-responsive:first-child > .table:first-child > tbody:first-child > tr:first-child td:first-child,
.panel > .table:first-child > thead:first-child > tr:first-child th:first-child,
.panel > .table-responsive:first-child > .table:first-child > thead:first-child > tr:first-child th:first-child,
.panel > .table:first-child > tbody:first-child > tr:first-child th:first-child,
.panel > .table-responsive:first-child > .table:first-child > tbody:first-child > tr:first-child th:first-child {
  border-top-left-radius: 1px;
}
.panel > .table:first-child > thead:first-child > tr:first-child td:last-child,
.panel > .table-responsive:first-child > .table:first-child > thead:first-child > tr:first-child td:last-child,
.panel > .table:first-child > tbody:first-child > tr:first-child td:last-child,
.panel > .table-responsive:first-child > .table:first-child > tbody:first-child > tr:first-child td:last-child,
.panel > .table:first-child > thead:first-child > tr:first-child th:last-child,
.panel > .table-responsive:first-child > .table:first-child > thead:first-child > tr:first-child th:last-child,
.panel > .table:first-child > tbody:first-child > tr:first-child th:last-child,
.panel > .table-responsive:first-child > .table:first-child > tbody:first-child > tr:first-child th:last-child {
  border-top-right-radius: 1px;
}
.panel > .table:last-child,
.panel > .table-responsive:last-child > .table:last-child {
  border-bottom-right-radius: 1px;
  border-bottom-left-radius: 1px;
}
.panel > .table:last-child > tbody:last-child > tr:last-child,
.panel > .table-responsive:last-child > .table:last-child > tbody:last-child > tr:last-child,
.panel > .table:last-child > tfoot:last-child > tr:last-child,
.panel > .table-responsive:last-child > .table:last-child > tfoot:last-child > tr:last-child {
  border-bottom-left-radius: 1px;
  border-bottom-right-radius: 1px;
}
.panel > .table:last-child > tbody:last-child > tr:last-child td:first-child,
.panel > .table-responsive:last-child > .table:last-child > tbody:last-child > tr:last-child td:first-child,
.panel > .table:last-child > tfoot:last-child > tr:last-child td:first-child,
.panel > .table-responsive:last-child > .table:last-child > tfoot:last-child > tr:last-child td:first-child,
.panel > .table:last-child > tbody:last-child > tr:last-child th:first-child,
.panel > .table-responsive:last-child > .table:last-child > tbody:last-child > tr:last-child th:first-child,
.panel > .table:last-child > tfoot:last-child > tr:last-child th:first-child,
.panel > .table-responsive:last-child > .table:last-child > tfoot:last-child > tr:last-child th:first-child {
  border-bottom-left-radius: 1px;
}
.panel > .table:last-child > tbody:last-child > tr:last-child td:last-child,
.panel > .table-responsive:last-child > .table:last-child > tbody:last-child > tr:last-child td:last-child,
.panel > .table:last-child > tfoot:last-child > tr:last-child td:last-child,
.panel > .table-responsive:last-child > .table:last-child > tfoot:last-child > tr:last-child td:last-child,
.panel > .table:last-child > tbody:last-child > tr:last-child th:last-child,
.panel > .table-responsive:last-child > .table:last-child > tbody:last-child > tr:last-child th:last-child,
.panel > .table:last-child > tfoot:last-child > tr:last-child th:last-child,
.panel > .table-responsive:last-child > .table:last-child > tfoot:last-child > tr:last-child th:last-child {
  border-bottom-right-radius: 1px;
}
.panel > .panel-body + .table,
.panel > .panel-body + .table-responsive,
.panel > .table + .panel-body,
.panel > .table-responsive + .panel-body {
  border-top: 1px solid #ddd;
}
.panel > .table > tbody:first-child > tr:first-child th,
.panel > .table > tbody:first-child > tr:first-child td {
  border-top: 0;
}
.panel > .table-bordered,
.panel > .table-responsive > .table-bordered {
  border: 0;
}
.panel > .table-bordered > thead > tr > th:first-child,
.panel > .table-responsive > .table-bordered > thead > tr > th:first-child,
.panel > .table-bordered > tbody > tr > th:first-child,
.panel > .table-responsive > .table-bordered > tbody > tr > th:first-child,
.panel > .table-bordered > tfoot > tr > th:first-child,
.panel > .table-responsive > .table-bordered > tfoot > tr > th:first-child,
.panel > .table-bordered > thead > tr > td:first-child,
.panel > .table-responsive > .table-bordered > thead > tr > td:first-child,
.panel > .table-bordered > tbody > tr > td:first-child,
.panel > .table-responsive > .table-bordered > tbody > tr > td:first-child,
.panel > .table-bordered > tfoot > tr > td:first-child,
.panel > .table-responsive > .table-bordered > tfoot > tr > td:first-child {
  border-left: 0;
}
.panel > .table-bordered > thead > tr > th:last-child,
.panel > .table-responsive > .table-bordered > thead > tr > th:last-child,
.panel > .table-bordered > tbody > tr > th:last-child,
.panel > .table-responsive > .table-bordered > tbody > tr > th:last-child,
.panel > .table-bordered > tfoot > tr > th:last-child,
.panel > .table-responsive > .table-bordered > tfoot > tr > th:last-child,
.panel > .table-bordered > thead > tr > td:last-child,
.panel > .table-responsive > .table-bordered > thead > tr > td:last-child,
.panel > .table-bordered > tbody > tr > td:last-child,
.panel > .table-responsive > .table-bordered > tbody > tr > td:last-child,
.panel > .table-bordered > tfoot > tr > td:last-child,
.panel > .table-responsive > .table-bordered > tfoot > tr > td:last-child {
  border-right: 0;
}
.panel > .table-bordered > thead > tr:first-child > td,
.panel > .table-responsive > .table-bordered > thead > tr:first-child > td,
.panel > .table-bordered > tbody > tr:first-child > td,
.panel > .table-responsive > .table-bordered > tbody > tr:first-child > td,
.panel > .table-bordered > thead > tr:first-child > th,
.panel > .table-responsive > .table-bordered > thead > tr:first-child > th,
.panel > .table-bordered > tbody > tr:first-child > th,
.panel > .table-responsive > .table-bordered > tbody > tr:first-child > th {
  border-bottom: 0;
}
.panel > .table-bordered > tbody > tr:last-child > td,
.panel > .table-responsive > .table-bordered > tbody > tr:last-child > td,
.panel > .table-bordered > tfoot > tr:last-child > td,
.panel > .table-responsive > .table-bordered > tfoot > tr:last-child > td,
.panel > .table-bordered > tbody > tr:last-child > th,
.panel > .table-responsive > .table-bordered > tbody > tr:last-child > th,
.panel > .table-bordered > tfoot > tr:last-child > th,
.panel > .table-responsive > .table-bordered > tfoot > tr:last-child > th {
  border-bottom: 0;
}
.panel > .table-responsive {
  border: 0;
  margin-bottom: 0;
}
.panel-group {
  margin-bottom: 18px;
}
.panel-group .panel {
  margin-bottom: 0;
  border-radius: 2px;
}
.panel-group .panel + .panel {
  margin-top: 5px;
}
.panel-group .panel-heading {
  border-bottom: 0;
}
.panel-group .panel-heading + .panel-collapse > .panel-body,
.panel-group .panel-heading + .panel-collapse > .list-group {
  border-top: 1px solid #ddd;
}
.panel-group .panel-footer {
  border-top: 0;
}
.panel-group .panel-footer + .panel-collapse .panel-body {
  border-bottom: 1px solid #ddd;
}
.panel-default {
  border-color: #ddd;
}
.panel-default > .panel-heading {
  color: #333333;
  background-color: #f5f5f5;
  border-color: #ddd;
}
.panel-default > .panel-heading + .panel-collapse > .panel-body {
  border-top-color: #ddd;
}
.panel-default > .panel-heading .badge {
  color: #f5f5f5;
  background-color: #333333;
}
.panel-default > .panel-footer + .panel-collapse > .panel-body {
  border-bottom-color: #ddd;
}
.panel-primary {
  border-color: #337ab7;
}
.panel-primary > .panel-heading {
  color: #fff;
  background-color: #337ab7;
  border-color: #337ab7;
}
.panel-primary > .panel-heading + .panel-collapse > .panel-body {
  border-top-color: #337ab7;
}
.panel-primary > .panel-heading .badge {
  color: #337ab7;
  background-color: #fff;
}
.panel-primary > .panel-footer + .panel-collapse > .panel-body {
  border-bottom-color: #337ab7;
}
.panel-success {
  border-color: #d6e9c6;
}
.panel-success > .panel-heading {
  color: #3c763d;
  background-color: #dff0d8;
  border-color: #d6e9c6;
}
.panel-success > .panel-heading + .panel-collapse > .panel-body {
  border-top-color: #d6e9c6;
}
.panel-success > .panel-heading .badge {
  color: #dff0d8;
  background-color: #3c763d;
}
.panel-success > .panel-footer + .panel-collapse > .panel-body {
  border-bottom-color: #d6e9c6;
}
.panel-info {
  border-color: #bce8f1;
}
.panel-info > .panel-heading {
  color: #31708f;
  background-color: #d9edf7;
  border-color: #bce8f1;
}
.panel-info > .panel-heading + .panel-collapse > .panel-body {
  border-top-color: #bce8f1;
}
.panel-info > .panel-heading .badge {
  color: #d9edf7;
  background-color: #31708f;
}
.panel-info > .panel-footer + .panel-collapse > .panel-body {
  border-bottom-color: #bce8f1;
}
.panel-warning {
  border-color: #faebcc;
}
.panel-warning > .panel-heading {
  color: #8a6d3b;
  background-color: #fcf8e3;
  border-color: #faebcc;
}
.panel-warning > .panel-heading + .panel-collapse > .panel-body {
  border-top-color: #faebcc;
}
.panel-warning > .panel-heading .badge {
  color: #fcf8e3;
  background-color: #8a6d3b;
}
.panel-warning > .panel-footer + .panel-collapse > .panel-body {
  border-bottom-color: #faebcc;
}
.panel-danger {
  border-color: #ebccd1;
}
.panel-danger > .panel-heading {
  color: #a94442;
  background-color: #f2dede;
  border-color: #ebccd1;
}
.panel-danger > .panel-heading + .panel-collapse > .panel-body {
  border-top-color: #ebccd1;
}
.panel-danger > .panel-heading .badge {
  color: #f2dede;
  background-color: #a94442;
}
.panel-danger > .panel-footer + .panel-collapse > .panel-body {
  border-bottom-color: #ebccd1;
}
.embed-responsive {
  position: relative;
  display: block;
  height: 0;
  padding: 0;
  overflow: hidden;
}
.embed-responsive .embed-responsive-item,
.embed-responsive iframe,
.embed-responsive embed,
.embed-responsive object,
.embed-responsive video {
  position: absolute;
  top: 0;
  left: 0;
  bottom: 0;
  height: 100%;
  width: 100%;
  border: 0;
}
.embed-responsive-16by9 {
  padding-bottom: 56.25%;
}
.embed-responsive-4by3 {
  padding-bottom: 75%;
}
.well {
  min-height: 20px;
  padding: 19px;
  margin-bottom: 20px;
  background-color: #f5f5f5;
  border: 1px solid #e3e3e3;
  border-radius: 2px;
  -webkit-box-shadow: inset 0 1px 1px rgba(0, 0, 0, 0.05);
  box-shadow: inset 0 1px 1px rgba(0, 0, 0, 0.05);
}
.well blockquote {
  border-color: #ddd;
  border-color: rgba(0, 0, 0, 0.15);
}
.well-lg {
  padding: 24px;
  border-radius: 3px;
}
.well-sm {
  padding: 9px;
  border-radius: 1px;
}
.close {
  float: right;
  font-size: 19.5px;
  font-weight: bold;
  line-height: 1;
  color: #000;
  text-shadow: 0 1px 0 #fff;
  opacity: 0.2;
  filter: alpha(opacity=20);
}
.close:hover,
.close:focus {
  color: #000;
  text-decoration: none;
  cursor: pointer;
  opacity: 0.5;
  filter: alpha(opacity=50);
}
button.close {
  padding: 0;
  cursor: pointer;
  background: transparent;
  border: 0;
  -webkit-appearance: none;
}
.modal-open {
  overflow: hidden;
}
.modal {
  display: none;
  overflow: hidden;
  position: fixed;
  top: 0;
  right: 0;
  bottom: 0;
  left: 0;
  z-index: 1050;
  -webkit-overflow-scrolling: touch;
  outline: 0;
}
.modal.fade .modal-dialog {
  -webkit-transform: translate(0, -25%);
  -ms-transform: translate(0, -25%);
  -o-transform: translate(0, -25%);
  transform: translate(0, -25%);
  -webkit-transition: -webkit-transform 0.3s ease-out;
  -moz-transition: -moz-transform 0.3s ease-out;
  -o-transition: -o-transform 0.3s ease-out;
  transition: transform 0.3s ease-out;
}
.modal.in .modal-dialog {
  -webkit-transform: translate(0, 0);
  -ms-transform: translate(0, 0);
  -o-transform: translate(0, 0);
  transform: translate(0, 0);
}
.modal-open .modal {
  overflow-x: hidden;
  overflow-y: auto;
}
.modal-dialog {
  position: relative;
  width: auto;
  margin: 10px;
}
.modal-content {
  position: relative;
  background-color: #fff;
  border: 1px solid #999;
  border: 1px solid rgba(0, 0, 0, 0.2);
  border-radius: 3px;
  -webkit-box-shadow: 0 3px 9px rgba(0, 0, 0, 0.5);
  box-shadow: 0 3px 9px rgba(0, 0, 0, 0.5);
  background-clip: padding-box;
  outline: 0;
}
.modal-backdrop {
  position: fixed;
  top: 0;
  right: 0;
  bottom: 0;
  left: 0;
  z-index: 1040;
  background-color: #000;
}
.modal-backdrop.fade {
  opacity: 0;
  filter: alpha(opacity=0);
}
.modal-backdrop.in {
  opacity: 0.5;
  filter: alpha(opacity=50);
}
.modal-header {
  padding: 15px;
  border-bottom: 1px solid #e5e5e5;
}
.modal-header .close {
  margin-top: -2px;
}
.modal-title {
  margin: 0;
  line-height: 1.42857143;
}
.modal-body {
  position: relative;
  padding: 15px;
}
.modal-footer {
  padding: 15px;
  text-align: right;
  border-top: 1px solid #e5e5e5;
}
.modal-footer .btn + .btn {
  margin-left: 5px;
  margin-bottom: 0;
}
.modal-footer .btn-group .btn + .btn {
  margin-left: -1px;
}
.modal-footer .btn-block + .btn-block {
  margin-left: 0;
}
.modal-scrollbar-measure {
  position: absolute;
  top: -9999px;
  width: 50px;
  height: 50px;
  overflow: scroll;
}
@media (min-width: 768px) {
  .modal-dialog {
    width: 600px;
    margin: 30px auto;
  }
  .modal-content {
    -webkit-box-shadow: 0 5px 15px rgba(0, 0, 0, 0.5);
    box-shadow: 0 5px 15px rgba(0, 0, 0, 0.5);
  }
  .modal-sm {
    width: 300px;
  }
}
@media (min-width: 992px) {
  .modal-lg {
    width: 900px;
  }
}
.tooltip {
  position: absolute;
  z-index: 1070;
  display: block;
  font-family: "Helvetica Neue", Helvetica, Arial, sans-serif;
  font-style: normal;
  font-weight: normal;
  letter-spacing: normal;
  line-break: auto;
  line-height: 1.42857143;
  text-align: left;
  text-align: start;
  text-decoration: none;
  text-shadow: none;
  text-transform: none;
  white-space: normal;
  word-break: normal;
  word-spacing: normal;
  word-wrap: normal;
  font-size: 12px;
  opacity: 0;
  filter: alpha(opacity=0);
}
.tooltip.in {
  opacity: 0.9;
  filter: alpha(opacity=90);
}
.tooltip.top {
  margin-top: -3px;
  padding: 5px 0;
}
.tooltip.right {
  margin-left: 3px;
  padding: 0 5px;
}
.tooltip.bottom {
  margin-top: 3px;
  padding: 5px 0;
}
.tooltip.left {
  margin-left: -3px;
  padding: 0 5px;
}
.tooltip-inner {
  max-width: 200px;
  padding: 3px 8px;
  color: #fff;
  text-align: center;
  background-color: #000;
  border-radius: 2px;
}
.tooltip-arrow {
  position: absolute;
  width: 0;
  height: 0;
  border-color: transparent;
  border-style: solid;
}
.tooltip.top .tooltip-arrow {
  bottom: 0;
  left: 50%;
  margin-left: -5px;
  border-width: 5px 5px 0;
  border-top-color: #000;
}
.tooltip.top-left .tooltip-arrow {
  bottom: 0;
  right: 5px;
  margin-bottom: -5px;
  border-width: 5px 5px 0;
  border-top-color: #000;
}
.tooltip.top-right .tooltip-arrow {
  bottom: 0;
  left: 5px;
  margin-bottom: -5px;
  border-width: 5px 5px 0;
  border-top-color: #000;
}
.tooltip.right .tooltip-arrow {
  top: 50%;
  left: 0;
  margin-top: -5px;
  border-width: 5px 5px 5px 0;
  border-right-color: #000;
}
.tooltip.left .tooltip-arrow {
  top: 50%;
  right: 0;
  margin-top: -5px;
  border-width: 5px 0 5px 5px;
  border-left-color: #000;
}
.tooltip.bottom .tooltip-arrow {
  top: 0;
  left: 50%;
  margin-left: -5px;
  border-width: 0 5px 5px;
  border-bottom-color: #000;
}
.tooltip.bottom-left .tooltip-arrow {
  top: 0;
  right: 5px;
  margin-top: -5px;
  border-width: 0 5px 5px;
  border-bottom-color: #000;
}
.tooltip.bottom-right .tooltip-arrow {
  top: 0;
  left: 5px;
  margin-top: -5px;
  border-width: 0 5px 5px;
  border-bottom-color: #000;
}
.popover {
  position: absolute;
  top: 0;
  left: 0;
  z-index: 1060;
  display: none;
  max-width: 276px;
  padding: 1px;
  font-family: "Helvetica Neue", Helvetica, Arial, sans-serif;
  font-style: normal;
  font-weight: normal;
  letter-spacing: normal;
  line-break: auto;
  line-height: 1.42857143;
  text-align: left;
  text-align: start;
  text-decoration: none;
  text-shadow: none;
  text-transform: none;
  white-space: normal;
  word-break: normal;
  word-spacing: normal;
  word-wrap: normal;
  font-size: 13px;
  background-color: #fff;
  background-clip: padding-box;
  border: 1px solid #ccc;
  border: 1px solid rgba(0, 0, 0, 0.2);
  border-radius: 3px;
  -webkit-box-shadow: 0 5px 10px rgba(0, 0, 0, 0.2);
  box-shadow: 0 5px 10px rgba(0, 0, 0, 0.2);
}
.popover.top {
  margin-top: -10px;
}
.popover.right {
  margin-left: 10px;
}
.popover.bottom {
  margin-top: 10px;
}
.popover.left {
  margin-left: -10px;
}
.popover-title {
  margin: 0;
  padding: 8px 14px;
  font-size: 13px;
  background-color: #f7f7f7;
  border-bottom: 1px solid #ebebeb;
  border-radius: 2px 2px 0 0;
}
.popover-content {
  padding: 9px 14px;
}
.popover > .arrow,
.popover > .arrow:after {
  position: absolute;
  display: block;
  width: 0;
  height: 0;
  border-color: transparent;
  border-style: solid;
}
.popover > .arrow {
  border-width: 11px;
}
.popover > .arrow:after {
  border-width: 10px;
  content: "";
}
.popover.top > .arrow {
  left: 50%;
  margin-left: -11px;
  border-bottom-width: 0;
  border-top-color: #999999;
  border-top-color: rgba(0, 0, 0, 0.25);
  bottom: -11px;
}
.popover.top > .arrow:after {
  content: " ";
  bottom: 1px;
  margin-left: -10px;
  border-bottom-width: 0;
  border-top-color: #fff;
}
.popover.right > .arrow {
  top: 50%;
  left: -11px;
  margin-top: -11px;
  border-left-width: 0;
  border-right-color: #999999;
  border-right-color: rgba(0, 0, 0, 0.25);
}
.popover.right > .arrow:after {
  content: " ";
  left: 1px;
  bottom: -10px;
  border-left-width: 0;
  border-right-color: #fff;
}
.popover.bottom > .arrow {
  left: 50%;
  margin-left: -11px;
  border-top-width: 0;
  border-bottom-color: #999999;
  border-bottom-color: rgba(0, 0, 0, 0.25);
  top: -11px;
}
.popover.bottom > .arrow:after {
  content: " ";
  top: 1px;
  margin-left: -10px;
  border-top-width: 0;
  border-bottom-color: #fff;
}
.popover.left > .arrow {
  top: 50%;
  right: -11px;
  margin-top: -11px;
  border-right-width: 0;
  border-left-color: #999999;
  border-left-color: rgba(0, 0, 0, 0.25);
}
.popover.left > .arrow:after {
  content: " ";
  right: 1px;
  border-right-width: 0;
  border-left-color: #fff;
  bottom: -10px;
}
.carousel {
  position: relative;
}
.carousel-inner {
  position: relative;
  overflow: hidden;
  width: 100%;
}
.carousel-inner > .item {
  display: none;
  position: relative;
  -webkit-transition: 0.6s ease-in-out left;
  -o-transition: 0.6s ease-in-out left;
  transition: 0.6s ease-in-out left;
}
.carousel-inner > .item > img,
.carousel-inner > .item > a > img {
  line-height: 1;
}
@media all and (transform-3d), (-webkit-transform-3d) {
  .carousel-inner > .item {
    -webkit-transition: -webkit-transform 0.6s ease-in-out;
    -moz-transition: -moz-transform 0.6s ease-in-out;
    -o-transition: -o-transform 0.6s ease-in-out;
    transition: transform 0.6s ease-in-out;
    -webkit-backface-visibility: hidden;
    -moz-backface-visibility: hidden;
    backface-visibility: hidden;
    -webkit-perspective: 1000px;
    -moz-perspective: 1000px;
    perspective: 1000px;
  }
  .carousel-inner > .item.next,
  .carousel-inner > .item.active.right {
    -webkit-transform: translate3d(100%, 0, 0);
    transform: translate3d(100%, 0, 0);
    left: 0;
  }
  .carousel-inner > .item.prev,
  .carousel-inner > .item.active.left {
    -webkit-transform: translate3d(-100%, 0, 0);
    transform: translate3d(-100%, 0, 0);
    left: 0;
  }
  .carousel-inner > .item.next.left,
  .carousel-inner > .item.prev.right,
  .carousel-inner > .item.active {
    -webkit-transform: translate3d(0, 0, 0);
    transform: translate3d(0, 0, 0);
    left: 0;
  }
}
.carousel-inner > .active,
.carousel-inner > .next,
.carousel-inner > .prev {
  display: block;
}
.carousel-inner > .active {
  left: 0;
}
.carousel-inner > .next,
.carousel-inner > .prev {
  position: absolute;
  top: 0;
  width: 100%;
}
.carousel-inner > .next {
  left: 100%;
}
.carousel-inner > .prev {
  left: -100%;
}
.carousel-inner > .next.left,
.carousel-inner > .prev.right {
  left: 0;
}
.carousel-inner > .active.left {
  left: -100%;
}
.carousel-inner > .active.right {
  left: 100%;
}
.carousel-control {
  position: absolute;
  top: 0;
  left: 0;
  bottom: 0;
  width: 15%;
  opacity: 0.5;
  filter: alpha(opacity=50);
  font-size: 20px;
  color: #fff;
  text-align: center;
  text-shadow: 0 1px 2px rgba(0, 0, 0, 0.6);
  background-color: rgba(0, 0, 0, 0);
}
.carousel-control.left {
  background-image: -webkit-linear-gradient(left, rgba(0, 0, 0, 0.5) 0%, rgba(0, 0, 0, 0.0001) 100%);
  background-image: -o-linear-gradient(left, rgba(0, 0, 0, 0.5) 0%, rgba(0, 0, 0, 0.0001) 100%);
  background-image: linear-gradient(to right, rgba(0, 0, 0, 0.5) 0%, rgba(0, 0, 0, 0.0001) 100%);
  background-repeat: repeat-x;
  filter: progid:DXImageTransform.Microsoft.gradient(startColorstr='#80000000', endColorstr='#00000000', GradientType=1);
}
.carousel-control.right {
  left: auto;
  right: 0;
  background-image: -webkit-linear-gradient(left, rgba(0, 0, 0, 0.0001) 0%, rgba(0, 0, 0, 0.5) 100%);
  background-image: -o-linear-gradient(left, rgba(0, 0, 0, 0.0001) 0%, rgba(0, 0, 0, 0.5) 100%);
  background-image: linear-gradient(to right, rgba(0, 0, 0, 0.0001) 0%, rgba(0, 0, 0, 0.5) 100%);
  background-repeat: repeat-x;
  filter: progid:DXImageTransform.Microsoft.gradient(startColorstr='#00000000', endColorstr='#80000000', GradientType=1);
}
.carousel-control:hover,
.carousel-control:focus {
  outline: 0;
  color: #fff;
  text-decoration: none;
  opacity: 0.9;
  filter: alpha(opacity=90);
}
.carousel-control .icon-prev,
.carousel-control .icon-next,
.carousel-control .glyphicon-chevron-left,
.carousel-control .glyphicon-chevron-right {
  position: absolute;
  top: 50%;
  margin-top: -10px;
  z-index: 5;
  display: inline-block;
}
.carousel-control .icon-prev,
.carousel-control .glyphicon-chevron-left {
  left: 50%;
  margin-left: -10px;
}
.carousel-control .icon-next,
.carousel-control .glyphicon-chevron-right {
  right: 50%;
  margin-right: -10px;
}
.carousel-control .icon-prev,
.carousel-control .icon-next {
  width: 20px;
  height: 20px;
  line-height: 1;
  font-family: serif;
}
.carousel-control .icon-prev:before {
  content: '\2039';
}
.carousel-control .icon-next:before {
  content: '\203a';
}
.carousel-indicators {
  position: absolute;
  bottom: 10px;
  left: 50%;
  z-index: 15;
  width: 60%;
  margin-left: -30%;
  padding-left: 0;
  list-style: none;
  text-align: center;
}
.carousel-indicators li {
  display: inline-block;
  width: 10px;
  height: 10px;
  margin: 1px;
  text-indent: -999px;
  border: 1px solid #fff;
  border-radius: 10px;
  cursor: pointer;
  background-color: #000 \9;
  background-color: rgba(0, 0, 0, 0);
}
.carousel-indicators .active {
  margin: 0;
  width: 12px;
  height: 12px;
  background-color: #fff;
}
.carousel-caption {
  position: absolute;
  left: 15%;
  right: 15%;
  bottom: 20px;
  z-index: 10;
  padding-top: 20px;
  padding-bottom: 20px;
  color: #fff;
  text-align: center;
  text-shadow: 0 1px 2px rgba(0, 0, 0, 0.6);
}
.carousel-caption .btn {
  text-shadow: none;
}
@media screen and (min-width: 768px) {
  .carousel-control .glyphicon-chevron-left,
  .carousel-control .glyphicon-chevron-right,
  .carousel-control .icon-prev,
  .carousel-control .icon-next {
    width: 30px;
    height: 30px;
    margin-top: -10px;
    font-size: 30px;
  }
  .carousel-control .glyphicon-chevron-left,
  .carousel-control .icon-prev {
    margin-left: -10px;
  }
  .carousel-control .glyphicon-chevron-right,
  .carousel-control .icon-next {
    margin-right: -10px;
  }
  .carousel-caption {
    left: 20%;
    right: 20%;
    padding-bottom: 30px;
  }
  .carousel-indicators {
    bottom: 20px;
  }
}
.clearfix:before,
.clearfix:after,
.dl-horizontal dd:before,
.dl-horizontal dd:after,
.container:before,
.container:after,
.container-fluid:before,
.container-fluid:after,
.row:before,
.row:after,
.form-horizontal .form-group:before,
.form-horizontal .form-group:after,
.btn-toolbar:before,
.btn-toolbar:after,
.btn-group-vertical > .btn-group:before,
.btn-group-vertical > .btn-group:after,
.nav:before,
.nav:after,
.navbar:before,
.navbar:after,
.navbar-header:before,
.navbar-header:after,
.navbar-collapse:before,
.navbar-collapse:after,
.pager:before,
.pager:after,
.panel-body:before,
.panel-body:after,
.modal-header:before,
.modal-header:after,
.modal-footer:before,
.modal-footer:after,
.item_buttons:before,
.item_buttons:after {
  content: " ";
  display: table;
}
.clearfix:after,
.dl-horizontal dd:after,
.container:after,
.container-fluid:after,
.row:after,
.form-horizontal .form-group:after,
.btn-toolbar:after,
.btn-group-vertical > .btn-group:after,
.nav:after,
.navbar:after,
.navbar-header:after,
.navbar-collapse:after,
.pager:after,
.panel-body:after,
.modal-header:after,
.modal-footer:after,
.item_buttons:after {
  clear: both;
}
.center-block {
  display: block;
  margin-left: auto;
  margin-right: auto;
}
.pull-right {
  float: right !important;
}
.pull-left {
  float: left !important;
}
.hide {
  display: none !important;
}
.show {
  display: block !important;
}
.invisible {
  visibility: hidden;
}
.text-hide {
  font: 0/0 a;
  color: transparent;
  text-shadow: none;
  background-color: transparent;
  border: 0;
}
.hidden {
  display: none !important;
}
.affix {
  position: fixed;
}
@-ms-viewport {
  width: device-width;
}
.visible-xs,
.visible-sm,
.visible-md,
.visible-lg {
  display: none !important;
}
.visible-xs-block,
.visible-xs-inline,
.visible-xs-inline-block,
.visible-sm-block,
.visible-sm-inline,
.visible-sm-inline-block,
.visible-md-block,
.visible-md-inline,
.visible-md-inline-block,
.visible-lg-block,
.visible-lg-inline,
.visible-lg-inline-block {
  display: none !important;
}
@media (max-width: 767px) {
  .visible-xs {
    display: block !important;
  }
  table.visible-xs {
    display: table !important;
  }
  tr.visible-xs {
    display: table-row !important;
  }
  th.visible-xs,
  td.visible-xs {
    display: table-cell !important;
  }
}
@media (max-width: 767px) {
  .visible-xs-block {
    display: block !important;
  }
}
@media (max-width: 767px) {
  .visible-xs-inline {
    display: inline !important;
  }
}
@media (max-width: 767px) {
  .visible-xs-inline-block {
    display: inline-block !important;
  }
}
@media (min-width: 768px) and (max-width: 991px) {
  .visible-sm {
    display: block !important;
  }
  table.visible-sm {
    display: table !important;
  }
  tr.visible-sm {
    display: table-row !important;
  }
  th.visible-sm,
  td.visible-sm {
    display: table-cell !important;
  }
}
@media (min-width: 768px) and (max-width: 991px) {
  .visible-sm-block {
    display: block !important;
  }
}
@media (min-width: 768px) and (max-width: 991px) {
  .visible-sm-inline {
    display: inline !important;
  }
}
@media (min-width: 768px) and (max-width: 991px) {
  .visible-sm-inline-block {
    display: inline-block !important;
  }
}
@media (min-width: 992px) and (max-width: 1199px) {
  .visible-md {
    display: block !important;
  }
  table.visible-md {
    display: table !important;
  }
  tr.visible-md {
    display: table-row !important;
  }
  th.visible-md,
  td.visible-md {
    display: table-cell !important;
  }
}
@media (min-width: 992px) and (max-width: 1199px) {
  .visible-md-block {
    display: block !important;
  }
}
@media (min-width: 992px) and (max-width: 1199px) {
  .visible-md-inline {
    display: inline !important;
  }
}
@media (min-width: 992px) and (max-width: 1199px) {
  .visible-md-inline-block {
    display: inline-block !important;
  }
}
@media (min-width: 1200px) {
  .visible-lg {
    display: block !important;
  }
  table.visible-lg {
    display: table !important;
  }
  tr.visible-lg {
    display: table-row !important;
  }
  th.visible-lg,
  td.visible-lg {
    display: table-cell !important;
  }
}
@media (min-width: 1200px) {
  .visible-lg-block {
    display: block !important;
  }
}
@media (min-width: 1200px) {
  .visible-lg-inline {
    display: inline !important;
  }
}
@media (min-width: 1200px) {
  .visible-lg-inline-block {
    display: inline-block !important;
  }
}
@media (max-width: 767px) {
  .hidden-xs {
    display: none !important;
  }
}
@media (min-width: 768px) and (max-width: 991px) {
  .hidden-sm {
    display: none !important;
  }
}
@media (min-width: 992px) and (max-width: 1199px) {
  .hidden-md {
    display: none !important;
  }
}
@media (min-width: 1200px) {
  .hidden-lg {
    display: none !important;
  }
}
.visible-print {
  display: none !important;
}
@media print {
  .visible-print {
    display: block !important;
  }
  table.visible-print {
    display: table !important;
  }
  tr.visible-print {
    display: table-row !important;
  }
  th.visible-print,
  td.visible-print {
    display: table-cell !important;
  }
}
.visible-print-block {
  display: none !important;
}
@media print {
  .visible-print-block {
    display: block !important;
  }
}
.visible-print-inline {
  display: none !important;
}
@media print {
  .visible-print-inline {
    display: inline !important;
  }
}
.visible-print-inline-block {
  display: none !important;
}
@media print {
  .visible-print-inline-block {
    display: inline-block !important;
  }
}
@media print {
  .hidden-print {
    display: none !important;
  }
}
/*!
*
* Font Awesome
*
*/
/*!
 *  Font Awesome 4.7.0 by @davegandy - http://fontawesome.io - @fontawesome
 *  License - http://fontawesome.io/license (Font: SIL OFL 1.1, CSS: MIT License)
 */
/* FONT PATH
 * -------------------------- */
@font-face {
  font-family: 'FontAwesome';
  src: url('../components/font-awesome/fonts/fontawesome-webfont.eot?v=4.7.0');
  src: url('../components/font-awesome/fonts/fontawesome-webfont.eot?#iefix&v=4.7.0') format('embedded-opentype'), url('../components/font-awesome/fonts/fontawesome-webfont.woff2?v=4.7.0') format('woff2'), url('../components/font-awesome/fonts/fontawesome-webfont.woff?v=4.7.0') format('woff'), url('../components/font-awesome/fonts/fontawesome-webfont.ttf?v=4.7.0') format('truetype'), url('../components/font-awesome/fonts/fontawesome-webfont.svg?v=4.7.0#fontawesomeregular') format('svg');
  font-weight: normal;
  font-style: normal;
}
.fa {
  display: inline-block;
  font: normal normal normal 14px/1 FontAwesome;
  font-size: inherit;
  text-rendering: auto;
  -webkit-font-smoothing: antialiased;
  -moz-osx-font-smoothing: grayscale;
}
/* makes the font 33% larger relative to the icon container */
.fa-lg {
  font-size: 1.33333333em;
  line-height: 0.75em;
  vertical-align: -15%;
}
.fa-2x {
  font-size: 2em;
}
.fa-3x {
  font-size: 3em;
}
.fa-4x {
  font-size: 4em;
}
.fa-5x {
  font-size: 5em;
}
.fa-fw {
  width: 1.28571429em;
  text-align: center;
}
.fa-ul {
  padding-left: 0;
  margin-left: 2.14285714em;
  list-style-type: none;
}
.fa-ul > li {
  position: relative;
}
.fa-li {
  position: absolute;
  left: -2.14285714em;
  width: 2.14285714em;
  top: 0.14285714em;
  text-align: center;
}
.fa-li.fa-lg {
  left: -1.85714286em;
}
.fa-border {
  padding: .2em .25em .15em;
  border: solid 0.08em #eee;
  border-radius: .1em;
}
.fa-pull-left {
  float: left;
}
.fa-pull-right {
  float: right;
}
.fa.fa-pull-left {
  margin-right: .3em;
}
.fa.fa-pull-right {
  margin-left: .3em;
}
/* Deprecated as of 4.4.0 */
.pull-right {
  float: right;
}
.pull-left {
  float: left;
}
.fa.pull-left {
  margin-right: .3em;
}
.fa.pull-right {
  margin-left: .3em;
}
.fa-spin {
  -webkit-animation: fa-spin 2s infinite linear;
  animation: fa-spin 2s infinite linear;
}
.fa-pulse {
  -webkit-animation: fa-spin 1s infinite steps(8);
  animation: fa-spin 1s infinite steps(8);
}
@-webkit-keyframes fa-spin {
  0% {
    -webkit-transform: rotate(0deg);
    transform: rotate(0deg);
  }
  100% {
    -webkit-transform: rotate(359deg);
    transform: rotate(359deg);
  }
}
@keyframes fa-spin {
  0% {
    -webkit-transform: rotate(0deg);
    transform: rotate(0deg);
  }
  100% {
    -webkit-transform: rotate(359deg);
    transform: rotate(359deg);
  }
}
.fa-rotate-90 {
  -ms-filter: "progid:DXImageTransform.Microsoft.BasicImage(rotation=1)";
  -webkit-transform: rotate(90deg);
  -ms-transform: rotate(90deg);
  transform: rotate(90deg);
}
.fa-rotate-180 {
  -ms-filter: "progid:DXImageTransform.Microsoft.BasicImage(rotation=2)";
  -webkit-transform: rotate(180deg);
  -ms-transform: rotate(180deg);
  transform: rotate(180deg);
}
.fa-rotate-270 {
  -ms-filter: "progid:DXImageTransform.Microsoft.BasicImage(rotation=3)";
  -webkit-transform: rotate(270deg);
  -ms-transform: rotate(270deg);
  transform: rotate(270deg);
}
.fa-flip-horizontal {
  -ms-filter: "progid:DXImageTransform.Microsoft.BasicImage(rotation=0, mirror=1)";
  -webkit-transform: scale(-1, 1);
  -ms-transform: scale(-1, 1);
  transform: scale(-1, 1);
}
.fa-flip-vertical {
  -ms-filter: "progid:DXImageTransform.Microsoft.BasicImage(rotation=2, mirror=1)";
  -webkit-transform: scale(1, -1);
  -ms-transform: scale(1, -1);
  transform: scale(1, -1);
}
:root .fa-rotate-90,
:root .fa-rotate-180,
:root .fa-rotate-270,
:root .fa-flip-horizontal,
:root .fa-flip-vertical {
  filter: none;
}
.fa-stack {
  position: relative;
  display: inline-block;
  width: 2em;
  height: 2em;
  line-height: 2em;
  vertical-align: middle;
}
.fa-stack-1x,
.fa-stack-2x {
  position: absolute;
  left: 0;
  width: 100%;
  text-align: center;
}
.fa-stack-1x {
  line-height: inherit;
}
.fa-stack-2x {
  font-size: 2em;
}
.fa-inverse {
  color: #fff;
}
/* Font Awesome uses the Unicode Private Use Area (PUA) to ensure screen
   readers do not read off random characters that represent icons */
.fa-glass:before {
  content: "\f000";
}
.fa-music:before {
  content: "\f001";
}
.fa-search:before {
  content: "\f002";
}
.fa-envelope-o:before {
  content: "\f003";
}
.fa-heart:before {
  content: "\f004";
}
.fa-star:before {
  content: "\f005";
}
.fa-star-o:before {
  content: "\f006";
}
.fa-user:before {
  content: "\f007";
}
.fa-film:before {
  content: "\f008";
}
.fa-th-large:before {
  content: "\f009";
}
.fa-th:before {
  content: "\f00a";
}
.fa-th-list:before {
  content: "\f00b";
}
.fa-check:before {
  content: "\f00c";
}
.fa-remove:before,
.fa-close:before,
.fa-times:before {
  content: "\f00d";
}
.fa-search-plus:before {
  content: "\f00e";
}
.fa-search-minus:before {
  content: "\f010";
}
.fa-power-off:before {
  content: "\f011";
}
.fa-signal:before {
  content: "\f012";
}
.fa-gear:before,
.fa-cog:before {
  content: "\f013";
}
.fa-trash-o:before {
  content: "\f014";
}
.fa-home:before {
  content: "\f015";
}
.fa-file-o:before {
  content: "\f016";
}
.fa-clock-o:before {
  content: "\f017";
}
.fa-road:before {
  content: "\f018";
}
.fa-download:before {
  content: "\f019";
}
.fa-arrow-circle-o-down:before {
  content: "\f01a";
}
.fa-arrow-circle-o-up:before {
  content: "\f01b";
}
.fa-inbox:before {
  content: "\f01c";
}
.fa-play-circle-o:before {
  content: "\f01d";
}
.fa-rotate-right:before,
.fa-repeat:before {
  content: "\f01e";
}
.fa-refresh:before {
  content: "\f021";
}
.fa-list-alt:before {
  content: "\f022";
}
.fa-lock:before {
  content: "\f023";
}
.fa-flag:before {
  content: "\f024";
}
.fa-headphones:before {
  content: "\f025";
}
.fa-volume-off:before {
  content: "\f026";
}
.fa-volume-down:before {
  content: "\f027";
}
.fa-volume-up:before {
  content: "\f028";
}
.fa-qrcode:before {
  content: "\f029";
}
.fa-barcode:before {
  content: "\f02a";
}
.fa-tag:before {
  content: "\f02b";
}
.fa-tags:before {
  content: "\f02c";
}
.fa-book:before {
  content: "\f02d";
}
.fa-bookmark:before {
  content: "\f02e";
}
.fa-print:before {
  content: "\f02f";
}
.fa-camera:before {
  content: "\f030";
}
.fa-font:before {
  content: "\f031";
}
.fa-bold:before {
  content: "\f032";
}
.fa-italic:before {
  content: "\f033";
}
.fa-text-height:before {
  content: "\f034";
}
.fa-text-width:before {
  content: "\f035";
}
.fa-align-left:before {
  content: "\f036";
}
.fa-align-center:before {
  content: "\f037";
}
.fa-align-right:before {
  content: "\f038";
}
.fa-align-justify:before {
  content: "\f039";
}
.fa-list:before {
  content: "\f03a";
}
.fa-dedent:before,
.fa-outdent:before {
  content: "\f03b";
}
.fa-indent:before {
  content: "\f03c";
}
.fa-video-camera:before {
  content: "\f03d";
}
.fa-photo:before,
.fa-image:before,
.fa-picture-o:before {
  content: "\f03e";
}
.fa-pencil:before {
  content: "\f040";
}
.fa-map-marker:before {
  content: "\f041";
}
.fa-adjust:before {
  content: "\f042";
}
.fa-tint:before {
  content: "\f043";
}
.fa-edit:before,
.fa-pencil-square-o:before {
  content: "\f044";
}
.fa-share-square-o:before {
  content: "\f045";
}
.fa-check-square-o:before {
  content: "\f046";
}
.fa-arrows:before {
  content: "\f047";
}
.fa-step-backward:before {
  content: "\f048";
}
.fa-fast-backward:before {
  content: "\f049";
}
.fa-backward:before {
  content: "\f04a";
}
.fa-play:before {
  content: "\f04b";
}
.fa-pause:before {
  content: "\f04c";
}
.fa-stop:before {
  content: "\f04d";
}
.fa-forward:before {
  content: "\f04e";
}
.fa-fast-forward:before {
  content: "\f050";
}
.fa-step-forward:before {
  content: "\f051";
}
.fa-eject:before {
  content: "\f052";
}
.fa-chevron-left:before {
  content: "\f053";
}
.fa-chevron-right:before {
  content: "\f054";
}
.fa-plus-circle:before {
  content: "\f055";
}
.fa-minus-circle:before {
  content: "\f056";
}
.fa-times-circle:before {
  content: "\f057";
}
.fa-check-circle:before {
  content: "\f058";
}
.fa-question-circle:before {
  content: "\f059";
}
.fa-info-circle:before {
  content: "\f05a";
}
.fa-crosshairs:before {
  content: "\f05b";
}
.fa-times-circle-o:before {
  content: "\f05c";
}
.fa-check-circle-o:before {
  content: "\f05d";
}
.fa-ban:before {
  content: "\f05e";
}
.fa-arrow-left:before {
  content: "\f060";
}
.fa-arrow-right:before {
  content: "\f061";
}
.fa-arrow-up:before {
  content: "\f062";
}
.fa-arrow-down:before {
  content: "\f063";
}
.fa-mail-forward:before,
.fa-share:before {
  content: "\f064";
}
.fa-expand:before {
  content: "\f065";
}
.fa-compress:before {
  content: "\f066";
}
.fa-plus:before {
  content: "\f067";
}
.fa-minus:before {
  content: "\f068";
}
.fa-asterisk:before {
  content: "\f069";
}
.fa-exclamation-circle:before {
  content: "\f06a";
}
.fa-gift:before {
  content: "\f06b";
}
.fa-leaf:before {
  content: "\f06c";
}
.fa-fire:before {
  content: "\f06d";
}
.fa-eye:before {
  content: "\f06e";
}
.fa-eye-slash:before {
  content: "\f070";
}
.fa-warning:before,
.fa-exclamation-triangle:before {
  content: "\f071";
}
.fa-plane:before {
  content: "\f072";
}
.fa-calendar:before {
  content: "\f073";
}
.fa-random:before {
  content: "\f074";
}
.fa-comment:before {
  content: "\f075";
}
.fa-magnet:before {
  content: "\f076";
}
.fa-chevron-up:before {
  content: "\f077";
}
.fa-chevron-down:before {
  content: "\f078";
}
.fa-retweet:before {
  content: "\f079";
}
.fa-shopping-cart:before {
  content: "\f07a";
}
.fa-folder:before {
  content: "\f07b";
}
.fa-folder-open:before {
  content: "\f07c";
}
.fa-arrows-v:before {
  content: "\f07d";
}
.fa-arrows-h:before {
  content: "\f07e";
}
.fa-bar-chart-o:before,
.fa-bar-chart:before {
  content: "\f080";
}
.fa-twitter-square:before {
  content: "\f081";
}
.fa-facebook-square:before {
  content: "\f082";
}
.fa-camera-retro:before {
  content: "\f083";
}
.fa-key:before {
  content: "\f084";
}
.fa-gears:before,
.fa-cogs:before {
  content: "\f085";
}
.fa-comments:before {
  content: "\f086";
}
.fa-thumbs-o-up:before {
  content: "\f087";
}
.fa-thumbs-o-down:before {
  content: "\f088";
}
.fa-star-half:before {
  content: "\f089";
}
.fa-heart-o:before {
  content: "\f08a";
}
.fa-sign-out:before {
  content: "\f08b";
}
.fa-linkedin-square:before {
  content: "\f08c";
}
.fa-thumb-tack:before {
  content: "\f08d";
}
.fa-external-link:before {
  content: "\f08e";
}
.fa-sign-in:before {
  content: "\f090";
}
.fa-trophy:before {
  content: "\f091";
}
.fa-github-square:before {
  content: "\f092";
}
.fa-upload:before {
  content: "\f093";
}
.fa-lemon-o:before {
  content: "\f094";
}
.fa-phone:before {
  content: "\f095";
}
.fa-square-o:before {
  content: "\f096";
}
.fa-bookmark-o:before {
  content: "\f097";
}
.fa-phone-square:before {
  content: "\f098";
}
.fa-twitter:before {
  content: "\f099";
}
.fa-facebook-f:before,
.fa-facebook:before {
  content: "\f09a";
}
.fa-github:before {
  content: "\f09b";
}
.fa-unlock:before {
  content: "\f09c";
}
.fa-credit-card:before {
  content: "\f09d";
}
.fa-feed:before,
.fa-rss:before {
  content: "\f09e";
}
.fa-hdd-o:before {
  content: "\f0a0";
}
.fa-bullhorn:before {
  content: "\f0a1";
}
.fa-bell:before {
  content: "\f0f3";
}
.fa-certificate:before {
  content: "\f0a3";
}
.fa-hand-o-right:before {
  content: "\f0a4";
}
.fa-hand-o-left:before {
  content: "\f0a5";
}
.fa-hand-o-up:before {
  content: "\f0a6";
}
.fa-hand-o-down:before {
  content: "\f0a7";
}
.fa-arrow-circle-left:before {
  content: "\f0a8";
}
.fa-arrow-circle-right:before {
  content: "\f0a9";
}
.fa-arrow-circle-up:before {
  content: "\f0aa";
}
.fa-arrow-circle-down:before {
  content: "\f0ab";
}
.fa-globe:before {
  content: "\f0ac";
}
.fa-wrench:before {
  content: "\f0ad";
}
.fa-tasks:before {
  content: "\f0ae";
}
.fa-filter:before {
  content: "\f0b0";
}
.fa-briefcase:before {
  content: "\f0b1";
}
.fa-arrows-alt:before {
  content: "\f0b2";
}
.fa-group:before,
.fa-users:before {
  content: "\f0c0";
}
.fa-chain:before,
.fa-link:before {
  content: "\f0c1";
}
.fa-cloud:before {
  content: "\f0c2";
}
.fa-flask:before {
  content: "\f0c3";
}
.fa-cut:before,
.fa-scissors:before {
  content: "\f0c4";
}
.fa-copy:before,
.fa-files-o:before {
  content: "\f0c5";
}
.fa-paperclip:before {
  content: "\f0c6";
}
.fa-save:before,
.fa-floppy-o:before {
  content: "\f0c7";
}
.fa-square:before {
  content: "\f0c8";
}
.fa-navicon:before,
.fa-reorder:before,
.fa-bars:before {
  content: "\f0c9";
}
.fa-list-ul:before {
  content: "\f0ca";
}
.fa-list-ol:before {
  content: "\f0cb";
}
.fa-strikethrough:before {
  content: "\f0cc";
}
.fa-underline:before {
  content: "\f0cd";
}
.fa-table:before {
  content: "\f0ce";
}
.fa-magic:before {
  content: "\f0d0";
}
.fa-truck:before {
  content: "\f0d1";
}
.fa-pinterest:before {
  content: "\f0d2";
}
.fa-pinterest-square:before {
  content: "\f0d3";
}
.fa-google-plus-square:before {
  content: "\f0d4";
}
.fa-google-plus:before {
  content: "\f0d5";
}
.fa-money:before {
  content: "\f0d6";
}
.fa-caret-down:before {
  content: "\f0d7";
}
.fa-caret-up:before {
  content: "\f0d8";
}
.fa-caret-left:before {
  content: "\f0d9";
}
.fa-caret-right:before {
  content: "\f0da";
}
.fa-columns:before {
  content: "\f0db";
}
.fa-unsorted:before,
.fa-sort:before {
  content: "\f0dc";
}
.fa-sort-down:before,
.fa-sort-desc:before {
  content: "\f0dd";
}
.fa-sort-up:before,
.fa-sort-asc:before {
  content: "\f0de";
}
.fa-envelope:before {
  content: "\f0e0";
}
.fa-linkedin:before {
  content: "\f0e1";
}
.fa-rotate-left:before,
.fa-undo:before {
  content: "\f0e2";
}
.fa-legal:before,
.fa-gavel:before {
  content: "\f0e3";
}
.fa-dashboard:before,
.fa-tachometer:before {
  content: "\f0e4";
}
.fa-comment-o:before {
  content: "\f0e5";
}
.fa-comments-o:before {
  content: "\f0e6";
}
.fa-flash:before,
.fa-bolt:before {
  content: "\f0e7";
}
.fa-sitemap:before {
  content: "\f0e8";
}
.fa-umbrella:before {
  content: "\f0e9";
}
.fa-paste:before,
.fa-clipboard:before {
  content: "\f0ea";
}
.fa-lightbulb-o:before {
  content: "\f0eb";
}
.fa-exchange:before {
  content: "\f0ec";
}
.fa-cloud-download:before {
  content: "\f0ed";
}
.fa-cloud-upload:before {
  content: "\f0ee";
}
.fa-user-md:before {
  content: "\f0f0";
}
.fa-stethoscope:before {
  content: "\f0f1";
}
.fa-suitcase:before {
  content: "\f0f2";
}
.fa-bell-o:before {
  content: "\f0a2";
}
.fa-coffee:before {
  content: "\f0f4";
}
.fa-cutlery:before {
  content: "\f0f5";
}
.fa-file-text-o:before {
  content: "\f0f6";
}
.fa-building-o:before {
  content: "\f0f7";
}
.fa-hospital-o:before {
  content: "\f0f8";
}
.fa-ambulance:before {
  content: "\f0f9";
}
.fa-medkit:before {
  content: "\f0fa";
}
.fa-fighter-jet:before {
  content: "\f0fb";
}
.fa-beer:before {
  content: "\f0fc";
}
.fa-h-square:before {
  content: "\f0fd";
}
.fa-plus-square:before {
  content: "\f0fe";
}
.fa-angle-double-left:before {
  content: "\f100";
}
.fa-angle-double-right:before {
  content: "\f101";
}
.fa-angle-double-up:before {
  content: "\f102";
}
.fa-angle-double-down:before {
  content: "\f103";
}
.fa-angle-left:before {
  content: "\f104";
}
.fa-angle-right:before {
  content: "\f105";
}
.fa-angle-up:before {
  content: "\f106";
}
.fa-angle-down:before {
  content: "\f107";
}
.fa-desktop:before {
  content: "\f108";
}
.fa-laptop:before {
  content: "\f109";
}
.fa-tablet:before {
  content: "\f10a";
}
.fa-mobile-phone:before,
.fa-mobile:before {
  content: "\f10b";
}
.fa-circle-o:before {
  content: "\f10c";
}
.fa-quote-left:before {
  content: "\f10d";
}
.fa-quote-right:before {
  content: "\f10e";
}
.fa-spinner:before {
  content: "\f110";
}
.fa-circle:before {
  content: "\f111";
}
.fa-mail-reply:before,
.fa-reply:before {
  content: "\f112";
}
.fa-github-alt:before {
  content: "\f113";
}
.fa-folder-o:before {
  content: "\f114";
}
.fa-folder-open-o:before {
  content: "\f115";
}
.fa-smile-o:before {
  content: "\f118";
}
.fa-frown-o:before {
  content: "\f119";
}
.fa-meh-o:before {
  content: "\f11a";
}
.fa-gamepad:before {
  content: "\f11b";
}
.fa-keyboard-o:before {
  content: "\f11c";
}
.fa-flag-o:before {
  content: "\f11d";
}
.fa-flag-checkered:before {
  content: "\f11e";
}
.fa-terminal:before {
  content: "\f120";
}
.fa-code:before {
  content: "\f121";
}
.fa-mail-reply-all:before,
.fa-reply-all:before {
  content: "\f122";
}
.fa-star-half-empty:before,
.fa-star-half-full:before,
.fa-star-half-o:before {
  content: "\f123";
}
.fa-location-arrow:before {
  content: "\f124";
}
.fa-crop:before {
  content: "\f125";
}
.fa-code-fork:before {
  content: "\f126";
}
.fa-unlink:before,
.fa-chain-broken:before {
  content: "\f127";
}
.fa-question:before {
  content: "\f128";
}
.fa-info:before {
  content: "\f129";
}
.fa-exclamation:before {
  content: "\f12a";
}
.fa-superscript:before {
  content: "\f12b";
}
.fa-subscript:before {
  content: "\f12c";
}
.fa-eraser:before {
  content: "\f12d";
}
.fa-puzzle-piece:before {
  content: "\f12e";
}
.fa-microphone:before {
  content: "\f130";
}
.fa-microphone-slash:before {
  content: "\f131";
}
.fa-shield:before {
  content: "\f132";
}
.fa-calendar-o:before {
  content: "\f133";
}
.fa-fire-extinguisher:before {
  content: "\f134";
}
.fa-rocket:before {
  content: "\f135";
}
.fa-maxcdn:before {
  content: "\f136";
}
.fa-chevron-circle-left:before {
  content: "\f137";
}
.fa-chevron-circle-right:before {
  content: "\f138";
}
.fa-chevron-circle-up:before {
  content: "\f139";
}
.fa-chevron-circle-down:before {
  content: "\f13a";
}
.fa-html5:before {
  content: "\f13b";
}
.fa-css3:before {
  content: "\f13c";
}
.fa-anchor:before {
  content: "\f13d";
}
.fa-unlock-alt:before {
  content: "\f13e";
}
.fa-bullseye:before {
  content: "\f140";
}
.fa-ellipsis-h:before {
  content: "\f141";
}
.fa-ellipsis-v:before {
  content: "\f142";
}
.fa-rss-square:before {
  content: "\f143";
}
.fa-play-circle:before {
  content: "\f144";
}
.fa-ticket:before {
  content: "\f145";
}
.fa-minus-square:before {
  content: "\f146";
}
.fa-minus-square-o:before {
  content: "\f147";
}
.fa-level-up:before {
  content: "\f148";
}
.fa-level-down:before {
  content: "\f149";
}
.fa-check-square:before {
  content: "\f14a";
}
.fa-pencil-square:before {
  content: "\f14b";
}
.fa-external-link-square:before {
  content: "\f14c";
}
.fa-share-square:before {
  content: "\f14d";
}
.fa-compass:before {
  content: "\f14e";
}
.fa-toggle-down:before,
.fa-caret-square-o-down:before {
  content: "\f150";
}
.fa-toggle-up:before,
.fa-caret-square-o-up:before {
  content: "\f151";
}
.fa-toggle-right:before,
.fa-caret-square-o-right:before {
  content: "\f152";
}
.fa-euro:before,
.fa-eur:before {
  content: "\f153";
}
.fa-gbp:before {
  content: "\f154";
}
.fa-dollar:before,
.fa-usd:before {
  content: "\f155";
}
.fa-rupee:before,
.fa-inr:before {
  content: "\f156";
}
.fa-cny:before,
.fa-rmb:before,
.fa-yen:before,
.fa-jpy:before {
  content: "\f157";
}
.fa-ruble:before,
.fa-rouble:before,
.fa-rub:before {
  content: "\f158";
}
.fa-won:before,
.fa-krw:before {
  content: "\f159";
}
.fa-bitcoin:before,
.fa-btc:before {
  content: "\f15a";
}
.fa-file:before {
  content: "\f15b";
}
.fa-file-text:before {
  content: "\f15c";
}
.fa-sort-alpha-asc:before {
  content: "\f15d";
}
.fa-sort-alpha-desc:before {
  content: "\f15e";
}
.fa-sort-amount-asc:before {
  content: "\f160";
}
.fa-sort-amount-desc:before {
  content: "\f161";
}
.fa-sort-numeric-asc:before {
  content: "\f162";
}
.fa-sort-numeric-desc:before {
  content: "\f163";
}
.fa-thumbs-up:before {
  content: "\f164";
}
.fa-thumbs-down:before {
  content: "\f165";
}
.fa-youtube-square:before {
  content: "\f166";
}
.fa-youtube:before {
  content: "\f167";
}
.fa-xing:before {
  content: "\f168";
}
.fa-xing-square:before {
  content: "\f169";
}
.fa-youtube-play:before {
  content: "\f16a";
}
.fa-dropbox:before {
  content: "\f16b";
}
.fa-stack-overflow:before {
  content: "\f16c";
}
.fa-instagram:before {
  content: "\f16d";
}
.fa-flickr:before {
  content: "\f16e";
}
.fa-adn:before {
  content: "\f170";
}
.fa-bitbucket:before {
  content: "\f171";
}
.fa-bitbucket-square:before {
  content: "\f172";
}
.fa-tumblr:before {
  content: "\f173";
}
.fa-tumblr-square:before {
  content: "\f174";
}
.fa-long-arrow-down:before {
  content: "\f175";
}
.fa-long-arrow-up:before {
  content: "\f176";
}
.fa-long-arrow-left:before {
  content: "\f177";
}
.fa-long-arrow-right:before {
  content: "\f178";
}
.fa-apple:before {
  content: "\f179";
}
.fa-windows:before {
  content: "\f17a";
}
.fa-android:before {
  content: "\f17b";
}
.fa-linux:before {
  content: "\f17c";
}
.fa-dribbble:before {
  content: "\f17d";
}
.fa-skype:before {
  content: "\f17e";
}
.fa-foursquare:before {
  content: "\f180";
}
.fa-trello:before {
  content: "\f181";
}
.fa-female:before {
  content: "\f182";
}
.fa-male:before {
  content: "\f183";
}
.fa-gittip:before,
.fa-gratipay:before {
  content: "\f184";
}
.fa-sun-o:before {
  content: "\f185";
}
.fa-moon-o:before {
  content: "\f186";
}
.fa-archive:before {
  content: "\f187";
}
.fa-bug:before {
  content: "\f188";
}
.fa-vk:before {
  content: "\f189";
}
.fa-weibo:before {
  content: "\f18a";
}
.fa-renren:before {
  content: "\f18b";
}
.fa-pagelines:before {
  content: "\f18c";
}
.fa-stack-exchange:before {
  content: "\f18d";
}
.fa-arrow-circle-o-right:before {
  content: "\f18e";
}
.fa-arrow-circle-o-left:before {
  content: "\f190";
}
.fa-toggle-left:before,
.fa-caret-square-o-left:before {
  content: "\f191";
}
.fa-dot-circle-o:before {
  content: "\f192";
}
.fa-wheelchair:before {
  content: "\f193";
}
.fa-vimeo-square:before {
  content: "\f194";
}
.fa-turkish-lira:before,
.fa-try:before {
  content: "\f195";
}
.fa-plus-square-o:before {
  content: "\f196";
}
.fa-space-shuttle:before {
  content: "\f197";
}
.fa-slack:before {
  content: "\f198";
}
.fa-envelope-square:before {
  content: "\f199";
}
.fa-wordpress:before {
  content: "\f19a";
}
.fa-openid:before {
  content: "\f19b";
}
.fa-institution:before,
.fa-bank:before,
.fa-university:before {
  content: "\f19c";
}
.fa-mortar-board:before,
.fa-graduation-cap:before {
  content: "\f19d";
}
.fa-yahoo:before {
  content: "\f19e";
}
.fa-google:before {
  content: "\f1a0";
}
.fa-reddit:before {
  content: "\f1a1";
}
.fa-reddit-square:before {
  content: "\f1a2";
}
.fa-stumbleupon-circle:before {
  content: "\f1a3";
}
.fa-stumbleupon:before {
  content: "\f1a4";
}
.fa-delicious:before {
  content: "\f1a5";
}
.fa-digg:before {
  content: "\f1a6";
}
.fa-pied-piper-pp:before {
  content: "\f1a7";
}
.fa-pied-piper-alt:before {
  content: "\f1a8";
}
.fa-drupal:before {
  content: "\f1a9";
}
.fa-joomla:before {
  content: "\f1aa";
}
.fa-language:before {
  content: "\f1ab";
}
.fa-fax:before {
  content: "\f1ac";
}
.fa-building:before {
  content: "\f1ad";
}
.fa-child:before {
  content: "\f1ae";
}
.fa-paw:before {
  content: "\f1b0";
}
.fa-spoon:before {
  content: "\f1b1";
}
.fa-cube:before {
  content: "\f1b2";
}
.fa-cubes:before {
  content: "\f1b3";
}
.fa-behance:before {
  content: "\f1b4";
}
.fa-behance-square:before {
  content: "\f1b5";
}
.fa-steam:before {
  content: "\f1b6";
}
.fa-steam-square:before {
  content: "\f1b7";
}
.fa-recycle:before {
  content: "\f1b8";
}
.fa-automobile:before,
.fa-car:before {
  content: "\f1b9";
}
.fa-cab:before,
.fa-taxi:before {
  content: "\f1ba";
}
.fa-tree:before {
  content: "\f1bb";
}
.fa-spotify:before {
  content: "\f1bc";
}
.fa-deviantart:before {
  content: "\f1bd";
}
.fa-soundcloud:before {
  content: "\f1be";
}
.fa-database:before {
  content: "\f1c0";
}
.fa-file-pdf-o:before {
  content: "\f1c1";
}
.fa-file-word-o:before {
  content: "\f1c2";
}
.fa-file-excel-o:before {
  content: "\f1c3";
}
.fa-file-powerpoint-o:before {
  content: "\f1c4";
}
.fa-file-photo-o:before,
.fa-file-picture-o:before,
.fa-file-image-o:before {
  content: "\f1c5";
}
.fa-file-zip-o:before,
.fa-file-archive-o:before {
  content: "\f1c6";
}
.fa-file-sound-o:before,
.fa-file-audio-o:before {
  content: "\f1c7";
}
.fa-file-movie-o:before,
.fa-file-video-o:before {
  content: "\f1c8";
}
.fa-file-code-o:before {
  content: "\f1c9";
}
.fa-vine:before {
  content: "\f1ca";
}
.fa-codepen:before {
  content: "\f1cb";
}
.fa-jsfiddle:before {
  content: "\f1cc";
}
.fa-life-bouy:before,
.fa-life-buoy:before,
.fa-life-saver:before,
.fa-support:before,
.fa-life-ring:before {
  content: "\f1cd";
}
.fa-circle-o-notch:before {
  content: "\f1ce";
}
.fa-ra:before,
.fa-resistance:before,
.fa-rebel:before {
  content: "\f1d0";
}
.fa-ge:before,
.fa-empire:before {
  content: "\f1d1";
}
.fa-git-square:before {
  content: "\f1d2";
}
.fa-git:before {
  content: "\f1d3";
}
.fa-y-combinator-square:before,
.fa-yc-square:before,
.fa-hacker-news:before {
  content: "\f1d4";
}
.fa-tencent-weibo:before {
  content: "\f1d5";
}
.fa-qq:before {
  content: "\f1d6";
}
.fa-wechat:before,
.fa-weixin:before {
  content: "\f1d7";
}
.fa-send:before,
.fa-paper-plane:before {
  content: "\f1d8";
}
.fa-send-o:before,
.fa-paper-plane-o:before {
  content: "\f1d9";
}
.fa-history:before {
  content: "\f1da";
}
.fa-circle-thin:before {
  content: "\f1db";
}
.fa-header:before {
  content: "\f1dc";
}
.fa-paragraph:before {
  content: "\f1dd";
}
.fa-sliders:before {
  content: "\f1de";
}
.fa-share-alt:before {
  content: "\f1e0";
}
.fa-share-alt-square:before {
  content: "\f1e1";
}
.fa-bomb:before {
  content: "\f1e2";
}
.fa-soccer-ball-o:before,
.fa-futbol-o:before {
  content: "\f1e3";
}
.fa-tty:before {
  content: "\f1e4";
}
.fa-binoculars:before {
  content: "\f1e5";
}
.fa-plug:before {
  content: "\f1e6";
}
.fa-slideshare:before {
  content: "\f1e7";
}
.fa-twitch:before {
  content: "\f1e8";
}
.fa-yelp:before {
  content: "\f1e9";
}
.fa-newspaper-o:before {
  content: "\f1ea";
}
.fa-wifi:before {
  content: "\f1eb";
}
.fa-calculator:before {
  content: "\f1ec";
}
.fa-paypal:before {
  content: "\f1ed";
}
.fa-google-wallet:before {
  content: "\f1ee";
}
.fa-cc-visa:before {
  content: "\f1f0";
}
.fa-cc-mastercard:before {
  content: "\f1f1";
}
.fa-cc-discover:before {
  content: "\f1f2";
}
.fa-cc-amex:before {
  content: "\f1f3";
}
.fa-cc-paypal:before {
  content: "\f1f4";
}
.fa-cc-stripe:before {
  content: "\f1f5";
}
.fa-bell-slash:before {
  content: "\f1f6";
}
.fa-bell-slash-o:before {
  content: "\f1f7";
}
.fa-trash:before {
  content: "\f1f8";
}
.fa-copyright:before {
  content: "\f1f9";
}
.fa-at:before {
  content: "\f1fa";
}
.fa-eyedropper:before {
  content: "\f1fb";
}
.fa-paint-brush:before {
  content: "\f1fc";
}
.fa-birthday-cake:before {
  content: "\f1fd";
}
.fa-area-chart:before {
  content: "\f1fe";
}
.fa-pie-chart:before {
  content: "\f200";
}
.fa-line-chart:before {
  content: "\f201";
}
.fa-lastfm:before {
  content: "\f202";
}
.fa-lastfm-square:before {
  content: "\f203";
}
.fa-toggle-off:before {
  content: "\f204";
}
.fa-toggle-on:before {
  content: "\f205";
}
.fa-bicycle:before {
  content: "\f206";
}
.fa-bus:before {
  content: "\f207";
}
.fa-ioxhost:before {
  content: "\f208";
}
.fa-angellist:before {
  content: "\f209";
}
.fa-cc:before {
  content: "\f20a";
}
.fa-shekel:before,
.fa-sheqel:before,
.fa-ils:before {
  content: "\f20b";
}
.fa-meanpath:before {
  content: "\f20c";
}
.fa-buysellads:before {
  content: "\f20d";
}
.fa-connectdevelop:before {
  content: "\f20e";
}
.fa-dashcube:before {
  content: "\f210";
}
.fa-forumbee:before {
  content: "\f211";
}
.fa-leanpub:before {
  content: "\f212";
}
.fa-sellsy:before {
  content: "\f213";
}
.fa-shirtsinbulk:before {
  content: "\f214";
}
.fa-simplybuilt:before {
  content: "\f215";
}
.fa-skyatlas:before {
  content: "\f216";
}
.fa-cart-plus:before {
  content: "\f217";
}
.fa-cart-arrow-down:before {
  content: "\f218";
}
.fa-diamond:before {
  content: "\f219";
}
.fa-ship:before {
  content: "\f21a";
}
.fa-user-secret:before {
  content: "\f21b";
}
.fa-motorcycle:before {
  content: "\f21c";
}
.fa-street-view:before {
  content: "\f21d";
}
.fa-heartbeat:before {
  content: "\f21e";
}
.fa-venus:before {
  content: "\f221";
}
.fa-mars:before {
  content: "\f222";
}
.fa-mercury:before {
  content: "\f223";
}
.fa-intersex:before,
.fa-transgender:before {
  content: "\f224";
}
.fa-transgender-alt:before {
  content: "\f225";
}
.fa-venus-double:before {
  content: "\f226";
}
.fa-mars-double:before {
  content: "\f227";
}
.fa-venus-mars:before {
  content: "\f228";
}
.fa-mars-stroke:before {
  content: "\f229";
}
.fa-mars-stroke-v:before {
  content: "\f22a";
}
.fa-mars-stroke-h:before {
  content: "\f22b";
}
.fa-neuter:before {
  content: "\f22c";
}
.fa-genderless:before {
  content: "\f22d";
}
.fa-facebook-official:before {
  content: "\f230";
}
.fa-pinterest-p:before {
  content: "\f231";
}
.fa-whatsapp:before {
  content: "\f232";
}
.fa-server:before {
  content: "\f233";
}
.fa-user-plus:before {
  content: "\f234";
}
.fa-user-times:before {
  content: "\f235";
}
.fa-hotel:before,
.fa-bed:before {
  content: "\f236";
}
.fa-viacoin:before {
  content: "\f237";
}
.fa-train:before {
  content: "\f238";
}
.fa-subway:before {
  content: "\f239";
}
.fa-medium:before {
  content: "\f23a";
}
.fa-yc:before,
.fa-y-combinator:before {
  content: "\f23b";
}
.fa-optin-monster:before {
  content: "\f23c";
}
.fa-opencart:before {
  content: "\f23d";
}
.fa-expeditedssl:before {
  content: "\f23e";
}
.fa-battery-4:before,
.fa-battery:before,
.fa-battery-full:before {
  content: "\f240";
}
.fa-battery-3:before,
.fa-battery-three-quarters:before {
  content: "\f241";
}
.fa-battery-2:before,
.fa-battery-half:before {
  content: "\f242";
}
.fa-battery-1:before,
.fa-battery-quarter:before {
  content: "\f243";
}
.fa-battery-0:before,
.fa-battery-empty:before {
  content: "\f244";
}
.fa-mouse-pointer:before {
  content: "\f245";
}
.fa-i-cursor:before {
  content: "\f246";
}
.fa-object-group:before {
  content: "\f247";
}
.fa-object-ungroup:before {
  content: "\f248";
}
.fa-sticky-note:before {
  content: "\f249";
}
.fa-sticky-note-o:before {
  content: "\f24a";
}
.fa-cc-jcb:before {
  content: "\f24b";
}
.fa-cc-diners-club:before {
  content: "\f24c";
}
.fa-clone:before {
  content: "\f24d";
}
.fa-balance-scale:before {
  content: "\f24e";
}
.fa-hourglass-o:before {
  content: "\f250";
}
.fa-hourglass-1:before,
.fa-hourglass-start:before {
  content: "\f251";
}
.fa-hourglass-2:before,
.fa-hourglass-half:before {
  content: "\f252";
}
.fa-hourglass-3:before,
.fa-hourglass-end:before {
  content: "\f253";
}
.fa-hourglass:before {
  content: "\f254";
}
.fa-hand-grab-o:before,
.fa-hand-rock-o:before {
  content: "\f255";
}
.fa-hand-stop-o:before,
.fa-hand-paper-o:before {
  content: "\f256";
}
.fa-hand-scissors-o:before {
  content: "\f257";
}
.fa-hand-lizard-o:before {
  content: "\f258";
}
.fa-hand-spock-o:before {
  content: "\f259";
}
.fa-hand-pointer-o:before {
  content: "\f25a";
}
.fa-hand-peace-o:before {
  content: "\f25b";
}
.fa-trademark:before {
  content: "\f25c";
}
.fa-registered:before {
  content: "\f25d";
}
.fa-creative-commons:before {
  content: "\f25e";
}
.fa-gg:before {
  content: "\f260";
}
.fa-gg-circle:before {
  content: "\f261";
}
.fa-tripadvisor:before {
  content: "\f262";
}
.fa-odnoklassniki:before {
  content: "\f263";
}
.fa-odnoklassniki-square:before {
  content: "\f264";
}
.fa-get-pocket:before {
  content: "\f265";
}
.fa-wikipedia-w:before {
  content: "\f266";
}
.fa-safari:before {
  content: "\f267";
}
.fa-chrome:before {
  content: "\f268";
}
.fa-firefox:before {
  content: "\f269";
}
.fa-opera:before {
  content: "\f26a";
}
.fa-internet-explorer:before {
  content: "\f26b";
}
.fa-tv:before,
.fa-television:before {
  content: "\f26c";
}
.fa-contao:before {
  content: "\f26d";
}
.fa-500px:before {
  content: "\f26e";
}
.fa-amazon:before {
  content: "\f270";
}
.fa-calendar-plus-o:before {
  content: "\f271";
}
.fa-calendar-minus-o:before {
  content: "\f272";
}
.fa-calendar-times-o:before {
  content: "\f273";
}
.fa-calendar-check-o:before {
  content: "\f274";
}
.fa-industry:before {
  content: "\f275";
}
.fa-map-pin:before {
  content: "\f276";
}
.fa-map-signs:before {
  content: "\f277";
}
.fa-map-o:before {
  content: "\f278";
}
.fa-map:before {
  content: "\f279";
}
.fa-commenting:before {
  content: "\f27a";
}
.fa-commenting-o:before {
  content: "\f27b";
}
.fa-houzz:before {
  content: "\f27c";
}
.fa-vimeo:before {
  content: "\f27d";
}
.fa-black-tie:before {
  content: "\f27e";
}
.fa-fonticons:before {
  content: "\f280";
}
.fa-reddit-alien:before {
  content: "\f281";
}
.fa-edge:before {
  content: "\f282";
}
.fa-credit-card-alt:before {
  content: "\f283";
}
.fa-codiepie:before {
  content: "\f284";
}
.fa-modx:before {
  content: "\f285";
}
.fa-fort-awesome:before {
  content: "\f286";
}
.fa-usb:before {
  content: "\f287";
}
.fa-product-hunt:before {
  content: "\f288";
}
.fa-mixcloud:before {
  content: "\f289";
}
.fa-scribd:before {
  content: "\f28a";
}
.fa-pause-circle:before {
  content: "\f28b";
}
.fa-pause-circle-o:before {
  content: "\f28c";
}
.fa-stop-circle:before {
  content: "\f28d";
}
.fa-stop-circle-o:before {
  content: "\f28e";
}
.fa-shopping-bag:before {
  content: "\f290";
}
.fa-shopping-basket:before {
  content: "\f291";
}
.fa-hashtag:before {
  content: "\f292";
}
.fa-bluetooth:before {
  content: "\f293";
}
.fa-bluetooth-b:before {
  content: "\f294";
}
.fa-percent:before {
  content: "\f295";
}
.fa-gitlab:before {
  content: "\f296";
}
.fa-wpbeginner:before {
  content: "\f297";
}
.fa-wpforms:before {
  content: "\f298";
}
.fa-envira:before {
  content: "\f299";
}
.fa-universal-access:before {
  content: "\f29a";
}
.fa-wheelchair-alt:before {
  content: "\f29b";
}
.fa-question-circle-o:before {
  content: "\f29c";
}
.fa-blind:before {
  content: "\f29d";
}
.fa-audio-description:before {
  content: "\f29e";
}
.fa-volume-control-phone:before {
  content: "\f2a0";
}
.fa-braille:before {
  content: "\f2a1";
}
.fa-assistive-listening-systems:before {
  content: "\f2a2";
}
.fa-asl-interpreting:before,
.fa-american-sign-language-interpreting:before {
  content: "\f2a3";
}
.fa-deafness:before,
.fa-hard-of-hearing:before,
.fa-deaf:before {
  content: "\f2a4";
}
.fa-glide:before {
  content: "\f2a5";
}
.fa-glide-g:before {
  content: "\f2a6";
}
.fa-signing:before,
.fa-sign-language:before {
  content: "\f2a7";
}
.fa-low-vision:before {
  content: "\f2a8";
}
.fa-viadeo:before {
  content: "\f2a9";
}
.fa-viadeo-square:before {
  content: "\f2aa";
}
.fa-snapchat:before {
  content: "\f2ab";
}
.fa-snapchat-ghost:before {
  content: "\f2ac";
}
.fa-snapchat-square:before {
  content: "\f2ad";
}
.fa-pied-piper:before {
  content: "\f2ae";
}
.fa-first-order:before {
  content: "\f2b0";
}
.fa-yoast:before {
  content: "\f2b1";
}
.fa-themeisle:before {
  content: "\f2b2";
}
.fa-google-plus-circle:before,
.fa-google-plus-official:before {
  content: "\f2b3";
}
.fa-fa:before,
.fa-font-awesome:before {
  content: "\f2b4";
}
.fa-handshake-o:before {
  content: "\f2b5";
}
.fa-envelope-open:before {
  content: "\f2b6";
}
.fa-envelope-open-o:before {
  content: "\f2b7";
}
.fa-linode:before {
  content: "\f2b8";
}
.fa-address-book:before {
  content: "\f2b9";
}
.fa-address-book-o:before {
  content: "\f2ba";
}
.fa-vcard:before,
.fa-address-card:before {
  content: "\f2bb";
}
.fa-vcard-o:before,
.fa-address-card-o:before {
  content: "\f2bc";
}
.fa-user-circle:before {
  content: "\f2bd";
}
.fa-user-circle-o:before {
  content: "\f2be";
}
.fa-user-o:before {
  content: "\f2c0";
}
.fa-id-badge:before {
  content: "\f2c1";
}
.fa-drivers-license:before,
.fa-id-card:before {
  content: "\f2c2";
}
.fa-drivers-license-o:before,
.fa-id-card-o:before {
  content: "\f2c3";
}
.fa-quora:before {
  content: "\f2c4";
}
.fa-free-code-camp:before {
  content: "\f2c5";
}
.fa-telegram:before {
  content: "\f2c6";
}
.fa-thermometer-4:before,
.fa-thermometer:before,
.fa-thermometer-full:before {
  content: "\f2c7";
}
.fa-thermometer-3:before,
.fa-thermometer-three-quarters:before {
  content: "\f2c8";
}
.fa-thermometer-2:before,
.fa-thermometer-half:before {
  content: "\f2c9";
}
.fa-thermometer-1:before,
.fa-thermometer-quarter:before {
  content: "\f2ca";
}
.fa-thermometer-0:before,
.fa-thermometer-empty:before {
  content: "\f2cb";
}
.fa-shower:before {
  content: "\f2cc";
}
.fa-bathtub:before,
.fa-s15:before,
.fa-bath:before {
  content: "\f2cd";
}
.fa-podcast:before {
  content: "\f2ce";
}
.fa-window-maximize:before {
  content: "\f2d0";
}
.fa-window-minimize:before {
  content: "\f2d1";
}
.fa-window-restore:before {
  content: "\f2d2";
}
.fa-times-rectangle:before,
.fa-window-close:before {
  content: "\f2d3";
}
.fa-times-rectangle-o:before,
.fa-window-close-o:before {
  content: "\f2d4";
}
.fa-bandcamp:before {
  content: "\f2d5";
}
.fa-grav:before {
  content: "\f2d6";
}
.fa-etsy:before {
  content: "\f2d7";
}
.fa-imdb:before {
  content: "\f2d8";
}
.fa-ravelry:before {
  content: "\f2d9";
}
.fa-eercast:before {
  content: "\f2da";
}
.fa-microchip:before {
  content: "\f2db";
}
.fa-snowflake-o:before {
  content: "\f2dc";
}
.fa-superpowers:before {
  content: "\f2dd";
}
.fa-wpexplorer:before {
  content: "\f2de";
}
.fa-meetup:before {
  content: "\f2e0";
}
.sr-only {
  position: absolute;
  width: 1px;
  height: 1px;
  padding: 0;
  margin: -1px;
  overflow: hidden;
  clip: rect(0, 0, 0, 0);
  border: 0;
}
.sr-only-focusable:active,
.sr-only-focusable:focus {
  position: static;
  width: auto;
  height: auto;
  margin: 0;
  overflow: visible;
  clip: auto;
}
.sr-only-focusable:active,
.sr-only-focusable:focus {
  position: static;
  width: auto;
  height: auto;
  margin: 0;
  overflow: visible;
  clip: auto;
}
/*!
*
* IPython base
*
*/
.modal.fade .modal-dialog {
  -webkit-transform: translate(0, 0);
  -ms-transform: translate(0, 0);
  -o-transform: translate(0, 0);
  transform: translate(0, 0);
}
code {
  color: #000;
}
pre {
  font-size: inherit;
  line-height: inherit;
}
label {
  font-weight: normal;
}
/* Make the page background atleast 100% the height of the view port */
/* Make the page itself atleast 70% the height of the view port */
.border-box-sizing {
  box-sizing: border-box;
  -moz-box-sizing: border-box;
  -webkit-box-sizing: border-box;
}
.corner-all {
  border-radius: 2px;
}
.no-padding {
  padding: 0px;
}
/* Flexible box model classes */
/* Taken from Alex Russell http://infrequently.org/2009/08/css-3-progress/ */
/* This file is a compatability layer.  It allows the usage of flexible box 
model layouts accross multiple browsers, including older browsers.  The newest,
universal implementation of the flexible box model is used when available (see
`Modern browsers` comments below).  Browsers that are known to implement this 
new spec completely include:

    Firefox 28.0+
    Chrome 29.0+
    Internet Explorer 11+ 
    Opera 17.0+

Browsers not listed, including Safari, are supported via the styling under the
`Old browsers` comments below.
*/
.hbox {
  /* Old browsers */
  display: -webkit-box;
  -webkit-box-orient: horizontal;
  -webkit-box-align: stretch;
  display: -moz-box;
  -moz-box-orient: horizontal;
  -moz-box-align: stretch;
  display: box;
  box-orient: horizontal;
  box-align: stretch;
  /* Modern browsers */
  display: flex;
  flex-direction: row;
  align-items: stretch;
}
.hbox > * {
  /* Old browsers */
  -webkit-box-flex: 0;
  -moz-box-flex: 0;
  box-flex: 0;
  /* Modern browsers */
  flex: none;
}
.vbox {
  /* Old browsers */
  display: -webkit-box;
  -webkit-box-orient: vertical;
  -webkit-box-align: stretch;
  display: -moz-box;
  -moz-box-orient: vertical;
  -moz-box-align: stretch;
  display: box;
  box-orient: vertical;
  box-align: stretch;
  /* Modern browsers */
  display: flex;
  flex-direction: column;
  align-items: stretch;
}
.vbox > * {
  /* Old browsers */
  -webkit-box-flex: 0;
  -moz-box-flex: 0;
  box-flex: 0;
  /* Modern browsers */
  flex: none;
}
.hbox.reverse,
.vbox.reverse,
.reverse {
  /* Old browsers */
  -webkit-box-direction: reverse;
  -moz-box-direction: reverse;
  box-direction: reverse;
  /* Modern browsers */
  flex-direction: row-reverse;
}
.hbox.box-flex0,
.vbox.box-flex0,
.box-flex0 {
  /* Old browsers */
  -webkit-box-flex: 0;
  -moz-box-flex: 0;
  box-flex: 0;
  /* Modern browsers */
  flex: none;
  width: auto;
}
.hbox.box-flex1,
.vbox.box-flex1,
.box-flex1 {
  /* Old browsers */
  -webkit-box-flex: 1;
  -moz-box-flex: 1;
  box-flex: 1;
  /* Modern browsers */
  flex: 1;
}
.hbox.box-flex,
.vbox.box-flex,
.box-flex {
  /* Old browsers */
  /* Old browsers */
  -webkit-box-flex: 1;
  -moz-box-flex: 1;
  box-flex: 1;
  /* Modern browsers */
  flex: 1;
}
.hbox.box-flex2,
.vbox.box-flex2,
.box-flex2 {
  /* Old browsers */
  -webkit-box-flex: 2;
  -moz-box-flex: 2;
  box-flex: 2;
  /* Modern browsers */
  flex: 2;
}
.box-group1 {
  /*  Deprecated */
  -webkit-box-flex-group: 1;
  -moz-box-flex-group: 1;
  box-flex-group: 1;
}
.box-group2 {
  /* Deprecated */
  -webkit-box-flex-group: 2;
  -moz-box-flex-group: 2;
  box-flex-group: 2;
}
.hbox.start,
.vbox.start,
.start {
  /* Old browsers */
  -webkit-box-pack: start;
  -moz-box-pack: start;
  box-pack: start;
  /* Modern browsers */
  justify-content: flex-start;
}
.hbox.end,
.vbox.end,
.end {
  /* Old browsers */
  -webkit-box-pack: end;
  -moz-box-pack: end;
  box-pack: end;
  /* Modern browsers */
  justify-content: flex-end;
}
.hbox.center,
.vbox.center,
.center {
  /* Old browsers */
  -webkit-box-pack: center;
  -moz-box-pack: center;
  box-pack: center;
  /* Modern browsers */
  justify-content: center;
}
.hbox.baseline,
.vbox.baseline,
.baseline {
  /* Old browsers */
  -webkit-box-pack: baseline;
  -moz-box-pack: baseline;
  box-pack: baseline;
  /* Modern browsers */
  justify-content: baseline;
}
.hbox.stretch,
.vbox.stretch,
.stretch {
  /* Old browsers */
  -webkit-box-pack: stretch;
  -moz-box-pack: stretch;
  box-pack: stretch;
  /* Modern browsers */
  justify-content: stretch;
}
.hbox.align-start,
.vbox.align-start,
.align-start {
  /* Old browsers */
  -webkit-box-align: start;
  -moz-box-align: start;
  box-align: start;
  /* Modern browsers */
  align-items: flex-start;
}
.hbox.align-end,
.vbox.align-end,
.align-end {
  /* Old browsers */
  -webkit-box-align: end;
  -moz-box-align: end;
  box-align: end;
  /* Modern browsers */
  align-items: flex-end;
}
.hbox.align-center,
.vbox.align-center,
.align-center {
  /* Old browsers */
  -webkit-box-align: center;
  -moz-box-align: center;
  box-align: center;
  /* Modern browsers */
  align-items: center;
}
.hbox.align-baseline,
.vbox.align-baseline,
.align-baseline {
  /* Old browsers */
  -webkit-box-align: baseline;
  -moz-box-align: baseline;
  box-align: baseline;
  /* Modern browsers */
  align-items: baseline;
}
.hbox.align-stretch,
.vbox.align-stretch,
.align-stretch {
  /* Old browsers */
  -webkit-box-align: stretch;
  -moz-box-align: stretch;
  box-align: stretch;
  /* Modern browsers */
  align-items: stretch;
}
div.error {
  margin: 2em;
  text-align: center;
}
div.error > h1 {
  font-size: 500%;
  line-height: normal;
}
div.error > p {
  font-size: 200%;
  line-height: normal;
}
div.traceback-wrapper {
  text-align: left;
  max-width: 800px;
  margin: auto;
}
div.traceback-wrapper pre.traceback {
  max-height: 600px;
  overflow: auto;
}
/**
 * Primary styles
 *
 * Author: Jupyter Development Team
 */
body {
  background-color: #fff;
  /* This makes sure that the body covers the entire window and needs to
       be in a different element than the display: box in wrapper below */
  position: absolute;
  left: 0px;
  right: 0px;
  top: 0px;
  bottom: 0px;
  overflow: visible;
}
body > #header {
  /* Initially hidden to prevent FLOUC */
  display: none;
  background-color: #fff;
  /* Display over codemirror */
  position: relative;
  z-index: 100;
}
body > #header #header-container {
  display: flex;
  flex-direction: row;
  justify-content: space-between;
  padding: 5px;
  padding-bottom: 5px;
  padding-top: 5px;
  box-sizing: border-box;
  -moz-box-sizing: border-box;
  -webkit-box-sizing: border-box;
}
body > #header .header-bar {
  width: 100%;
  height: 1px;
  background: #e7e7e7;
  margin-bottom: -1px;
}
@media print {
  body > #header {
    display: none !important;
  }
}
#header-spacer {
  width: 100%;
  visibility: hidden;
}
@media print {
  #header-spacer {
    display: none;
  }
}
#ipython_notebook {
  padding-left: 0px;
  padding-top: 1px;
  padding-bottom: 1px;
}
[dir="rtl"] #ipython_notebook {
  margin-right: 10px;
  margin-left: 0;
}
[dir="rtl"] #ipython_notebook.pull-left {
  float: right !important;
  float: right;
}
.flex-spacer {
  flex: 1;
}
#noscript {
  width: auto;
  padding-top: 16px;
  padding-bottom: 16px;
  text-align: center;
  font-size: 22px;
  color: red;
  font-weight: bold;
}
#ipython_notebook img {
  height: 28px;
}
#site {
  width: 100%;
  display: none;
  box-sizing: border-box;
  -moz-box-sizing: border-box;
  -webkit-box-sizing: border-box;
  overflow: auto;
}
@media print {
  #site {
    height: auto !important;
  }
}
/* Smaller buttons */
.ui-button .ui-button-text {
  padding: 0.2em 0.8em;
  font-size: 77%;
}
input.ui-button {
  padding: 0.3em 0.9em;
}
span#kernel_logo_widget {
  margin: 0 10px;
}
span#login_widget {
  float: right;
}
[dir="rtl"] span#login_widget {
  float: left;
}
span#login_widget > .button,
#logout {
  color: #333;
  background-color: #fff;
  border-color: #ccc;
}
span#login_widget > .button:focus,
#logout:focus,
span#login_widget > .button.focus,
#logout.focus {
  color: #333;
  background-color: #e6e6e6;
  border-color: #8c8c8c;
}
span#login_widget > .button:hover,
#logout:hover {
  color: #333;
  background-color: #e6e6e6;
  border-color: #adadad;
}
span#login_widget > .button:active,
#logout:active,
span#login_widget > .button.active,
#logout.active,
.open > .dropdown-togglespan#login_widget > .button,
.open > .dropdown-toggle#logout {
  color: #333;
  background-color: #e6e6e6;
  border-color: #adadad;
}
span#login_widget > .button:active:hover,
#logout:active:hover,
span#login_widget > .button.active:hover,
#logout.active:hover,
.open > .dropdown-togglespan#login_widget > .button:hover,
.open > .dropdown-toggle#logout:hover,
span#login_widget > .button:active:focus,
#logout:active:focus,
span#login_widget > .button.active:focus,
#logout.active:focus,
.open > .dropdown-togglespan#login_widget > .button:focus,
.open > .dropdown-toggle#logout:focus,
span#login_widget > .button:active.focus,
#logout:active.focus,
span#login_widget > .button.active.focus,
#logout.active.focus,
.open > .dropdown-togglespan#login_widget > .button.focus,
.open > .dropdown-toggle#logout.focus {
  color: #333;
  background-color: #d4d4d4;
  border-color: #8c8c8c;
}
span#login_widget > .button:active,
#logout:active,
span#login_widget > .button.active,
#logout.active,
.open > .dropdown-togglespan#login_widget > .button,
.open > .dropdown-toggle#logout {
  background-image: none;
}
span#login_widget > .button.disabled:hover,
#logout.disabled:hover,
span#login_widget > .button[disabled]:hover,
#logout[disabled]:hover,
fieldset[disabled] span#login_widget > .button:hover,
fieldset[disabled] #logout:hover,
span#login_widget > .button.disabled:focus,
#logout.disabled:focus,
span#login_widget > .button[disabled]:focus,
#logout[disabled]:focus,
fieldset[disabled] span#login_widget > .button:focus,
fieldset[disabled] #logout:focus,
span#login_widget > .button.disabled.focus,
#logout.disabled.focus,
span#login_widget > .button[disabled].focus,
#logout[disabled].focus,
fieldset[disabled] span#login_widget > .button.focus,
fieldset[disabled] #logout.focus {
  background-color: #fff;
  border-color: #ccc;
}
span#login_widget > .button .badge,
#logout .badge {
  color: #fff;
  background-color: #333;
}
.nav-header {
  text-transform: none;
}
#header > span {
  margin-top: 10px;
}
.modal_stretch .modal-dialog {
  /* Old browsers */
  display: -webkit-box;
  -webkit-box-orient: vertical;
  -webkit-box-align: stretch;
  display: -moz-box;
  -moz-box-orient: vertical;
  -moz-box-align: stretch;
  display: box;
  box-orient: vertical;
  box-align: stretch;
  /* Modern browsers */
  display: flex;
  flex-direction: column;
  align-items: stretch;
  min-height: 80vh;
}
.modal_stretch .modal-dialog .modal-body {
  max-height: calc(100vh - 200px);
  overflow: auto;
  flex: 1;
}
.modal-header {
  cursor: move;
}
@media (min-width: 768px) {
  .modal .modal-dialog {
    width: 700px;
  }
}
@media (min-width: 768px) {
  select.form-control {
    margin-left: 12px;
    margin-right: 12px;
  }
}
/*!
*
* IPython auth
*
*/
.center-nav {
  display: inline-block;
  margin-bottom: -4px;
}
[dir="rtl"] .center-nav form.pull-left {
  float: right !important;
  float: right;
}
[dir="rtl"] .center-nav .navbar-text {
  float: right;
}
[dir="rtl"] .navbar-inner {
  text-align: right;
}
[dir="rtl"] div.text-left {
  text-align: right;
}
/*!
*
* IPython tree view
*
*/
/* We need an invisible input field on top of the sentense*/
/* "Drag file onto the list ..." */
.alternate_upload {
  background-color: none;
  display: inline;
}
.alternate_upload.form {
  padding: 0;
  margin: 0;
}
.alternate_upload input.fileinput {
  position: absolute;
  display: block;
  width: 100%;
  height: 100%;
  overflow: hidden;
  cursor: pointer;
  opacity: 0;
  z-index: 2;
}
.alternate_upload .btn-xs > input.fileinput {
  margin: -1px -5px;
}
.alternate_upload .btn-upload {
  position: relative;
  height: 22px;
}
::-webkit-file-upload-button {
  cursor: pointer;
}
/**
 * Primary styles
 *
 * Author: Jupyter Development Team
 */
ul#tabs {
  margin-bottom: 4px;
}
ul#tabs a {
  padding-top: 6px;
  padding-bottom: 4px;
}
[dir="rtl"] ul#tabs.nav-tabs > li {
  float: right;
}
[dir="rtl"] ul#tabs.nav.nav-tabs {
  padding-right: 0;
}
ul.breadcrumb a:focus,
ul.breadcrumb a:hover {
  text-decoration: none;
}
ul.breadcrumb i.icon-home {
  font-size: 16px;
  margin-right: 4px;
}
ul.breadcrumb span {
  color: #5e5e5e;
}
.list_toolbar {
  padding: 4px 0 4px 0;
  vertical-align: middle;
}
.list_toolbar .tree-buttons {
  padding-top: 1px;
}
[dir="rtl"] .list_toolbar .tree-buttons .pull-right {
  float: left !important;
  float: left;
}
[dir="rtl"] .list_toolbar .col-sm-4,
[dir="rtl"] .list_toolbar .col-sm-8 {
  float: right;
}
.dynamic-buttons {
  padding-top: 3px;
  display: inline-block;
}
.list_toolbar [class*="span"] {
  min-height: 24px;
}
.list_header {
  font-weight: bold;
  background-color: #EEE;
}
.list_placeholder {
  font-weight: bold;
  padding-top: 4px;
  padding-bottom: 4px;
  padding-left: 7px;
  padding-right: 7px;
}
.list_container {
  margin-top: 4px;
  margin-bottom: 20px;
  border: 1px solid #ddd;
  border-radius: 2px;
}
.list_container > div {
  border-bottom: 1px solid #ddd;
}
.list_container > div:hover .list-item {
  background-color: red;
}
.list_container > div:last-child {
  border: none;
}
.list_item:hover .list_item {
  background-color: #ddd;
}
.list_item a {
  text-decoration: none;
}
.list_item:hover {
  background-color: #fafafa;
}
.list_header > div,
.list_item > div {
  padding-top: 4px;
  padding-bottom: 4px;
  padding-left: 7px;
  padding-right: 7px;
  line-height: 22px;
}
.list_header > div input,
.list_item > div input {
  margin-right: 7px;
  margin-left: 14px;
  vertical-align: text-bottom;
  line-height: 22px;
  position: relative;
  top: -1px;
}
.list_header > div .item_link,
.list_item > div .item_link {
  margin-left: -1px;
  vertical-align: baseline;
  line-height: 22px;
}
[dir="rtl"] .list_item > div input {
  margin-right: 0;
}
.new-file input[type=checkbox] {
  visibility: hidden;
}
.item_name {
  line-height: 22px;
  height: 24px;
}
.item_icon {
  font-size: 14px;
  color: #5e5e5e;
  margin-right: 7px;
  margin-left: 7px;
  line-height: 22px;
  vertical-align: baseline;
}
.item_modified {
  margin-right: 7px;
  margin-left: 7px;
}
[dir="rtl"] .item_modified.pull-right {
  float: left !important;
  float: left;
}
.item_buttons {
  line-height: 1em;
  margin-left: -5px;
}
.item_buttons .btn,
.item_buttons .btn-group,
.item_buttons .input-group {
  float: left;
}
.item_buttons > .btn,
.item_buttons > .btn-group,
.item_buttons > .input-group {
  margin-left: 5px;
}
.item_buttons .btn {
  min-width: 13ex;
}
.item_buttons .running-indicator {
  padding-top: 4px;
  color: #5cb85c;
}
.item_buttons .kernel-name {
  padding-top: 4px;
  color: #5bc0de;
  margin-right: 7px;
  float: left;
}
[dir="rtl"] .item_buttons.pull-right {
  float: left !important;
  float: left;
}
[dir="rtl"] .item_buttons .kernel-name {
  margin-left: 7px;
  float: right;
}
.toolbar_info {
  height: 24px;
  line-height: 24px;
}
.list_item input:not([type=checkbox]) {
  padding-top: 3px;
  padding-bottom: 3px;
  height: 22px;
  line-height: 14px;
  margin: 0px;
}
.highlight_text {
  color: blue;
}
#project_name {
  display: inline-block;
  padding-left: 7px;
  margin-left: -2px;
}
#project_name > .breadcrumb {
  padding: 0px;
  margin-bottom: 0px;
  background-color: transparent;
  font-weight: bold;
}
.sort_button {
  display: inline-block;
  padding-left: 7px;
}
[dir="rtl"] .sort_button.pull-right {
  float: left !important;
  float: left;
}
#tree-selector {
  padding-right: 0px;
}
#button-select-all {
  min-width: 50px;
}
[dir="rtl"] #button-select-all.btn {
  float: right ;
}
#select-all {
  margin-left: 7px;
  margin-right: 2px;
  margin-top: 2px;
  height: 16px;
}
[dir="rtl"] #select-all.pull-left {
  float: right !important;
  float: right;
}
.menu_icon {
  margin-right: 2px;
}
.tab-content .row {
  margin-left: 0px;
  margin-right: 0px;
}
.folder_icon:before {
  display: inline-block;
  font: normal normal normal 14px/1 FontAwesome;
  font-size: inherit;
  text-rendering: auto;
  -webkit-font-smoothing: antialiased;
  -moz-osx-font-smoothing: grayscale;
  content: "\f114";
}
.folder_icon:before.fa-pull-left {
  margin-right: .3em;
}
.folder_icon:before.fa-pull-right {
  margin-left: .3em;
}
.folder_icon:before.pull-left {
  margin-right: .3em;
}
.folder_icon:before.pull-right {
  margin-left: .3em;
}
.notebook_icon:before {
  display: inline-block;
  font: normal normal normal 14px/1 FontAwesome;
  font-size: inherit;
  text-rendering: auto;
  -webkit-font-smoothing: antialiased;
  -moz-osx-font-smoothing: grayscale;
  content: "\f02d";
  position: relative;
  top: -1px;
}
.notebook_icon:before.fa-pull-left {
  margin-right: .3em;
}
.notebook_icon:before.fa-pull-right {
  margin-left: .3em;
}
.notebook_icon:before.pull-left {
  margin-right: .3em;
}
.notebook_icon:before.pull-right {
  margin-left: .3em;
}
.running_notebook_icon:before {
  display: inline-block;
  font: normal normal normal 14px/1 FontAwesome;
  font-size: inherit;
  text-rendering: auto;
  -webkit-font-smoothing: antialiased;
  -moz-osx-font-smoothing: grayscale;
  content: "\f02d";
  position: relative;
  top: -1px;
  color: #5cb85c;
}
.running_notebook_icon:before.fa-pull-left {
  margin-right: .3em;
}
.running_notebook_icon:before.fa-pull-right {
  margin-left: .3em;
}
.running_notebook_icon:before.pull-left {
  margin-right: .3em;
}
.running_notebook_icon:before.pull-right {
  margin-left: .3em;
}
.file_icon:before {
  display: inline-block;
  font: normal normal normal 14px/1 FontAwesome;
  font-size: inherit;
  text-rendering: auto;
  -webkit-font-smoothing: antialiased;
  -moz-osx-font-smoothing: grayscale;
  content: "\f016";
  position: relative;
  top: -2px;
}
.file_icon:before.fa-pull-left {
  margin-right: .3em;
}
.file_icon:before.fa-pull-right {
  margin-left: .3em;
}
.file_icon:before.pull-left {
  margin-right: .3em;
}
.file_icon:before.pull-right {
  margin-left: .3em;
}
#notebook_toolbar .pull-right {
  padding-top: 0px;
  margin-right: -1px;
}
ul#new-menu {
  left: auto;
  right: 0;
}
#new-menu .dropdown-header {
  font-size: 10px;
  border-bottom: 1px solid #e5e5e5;
  padding: 0 0 3px;
  margin: -3px 20px 0;
}
.kernel-menu-icon {
  padding-right: 12px;
  width: 24px;
  content: "\f096";
}
.kernel-menu-icon:before {
  content: "\f096";
}
.kernel-menu-icon-current:before {
  content: "\f00c";
}
#tab_content {
  padding-top: 20px;
}
#running .panel-group .panel {
  margin-top: 3px;
  margin-bottom: 1em;
}
#running .panel-group .panel .panel-heading {
  background-color: #EEE;
  padding-top: 4px;
  padding-bottom: 4px;
  padding-left: 7px;
  padding-right: 7px;
  line-height: 22px;
}
#running .panel-group .panel .panel-heading a:focus,
#running .panel-group .panel .panel-heading a:hover {
  text-decoration: none;
}
#running .panel-group .panel .panel-body {
  padding: 0px;
}
#running .panel-group .panel .panel-body .list_container {
  margin-top: 0px;
  margin-bottom: 0px;
  border: 0px;
  border-radius: 0px;
}
#running .panel-group .panel .panel-body .list_container .list_item {
  border-bottom: 1px solid #ddd;
}
#running .panel-group .panel .panel-body .list_container .list_item:last-child {
  border-bottom: 0px;
}
.delete-button {
  display: none;
}
.duplicate-button {
  display: none;
}
.rename-button {
  display: none;
}
.move-button {
  display: none;
}
.download-button {
  display: none;
}
.shutdown-button {
  display: none;
}
.dynamic-instructions {
  display: inline-block;
  padding-top: 4px;
}
/*!
*
* IPython text editor webapp
*
*/
.selected-keymap i.fa {
  padding: 0px 5px;
}
.selected-keymap i.fa:before {
  content: "\f00c";
}
#mode-menu {
  overflow: auto;
  max-height: 20em;
}
.edit_app #header {
  -webkit-box-shadow: 0px 0px 12px 1px rgba(87, 87, 87, 0.2);
  box-shadow: 0px 0px 12px 1px rgba(87, 87, 87, 0.2);
}
.edit_app #menubar .navbar {
  /* Use a negative 1 bottom margin, so the border overlaps the border of the
    header */
  margin-bottom: -1px;
}
.dirty-indicator {
  display: inline-block;
  font: normal normal normal 14px/1 FontAwesome;
  font-size: inherit;
  text-rendering: auto;
  -webkit-font-smoothing: antialiased;
  -moz-osx-font-smoothing: grayscale;
  width: 20px;
}
.dirty-indicator.fa-pull-left {
  margin-right: .3em;
}
.dirty-indicator.fa-pull-right {
  margin-left: .3em;
}
.dirty-indicator.pull-left {
  margin-right: .3em;
}
.dirty-indicator.pull-right {
  margin-left: .3em;
}
.dirty-indicator-dirty {
  display: inline-block;
  font: normal normal normal 14px/1 FontAwesome;
  font-size: inherit;
  text-rendering: auto;
  -webkit-font-smoothing: antialiased;
  -moz-osx-font-smoothing: grayscale;
  width: 20px;
}
.dirty-indicator-dirty.fa-pull-left {
  margin-right: .3em;
}
.dirty-indicator-dirty.fa-pull-right {
  margin-left: .3em;
}
.dirty-indicator-dirty.pull-left {
  margin-right: .3em;
}
.dirty-indicator-dirty.pull-right {
  margin-left: .3em;
}
.dirty-indicator-clean {
  display: inline-block;
  font: normal normal normal 14px/1 FontAwesome;
  font-size: inherit;
  text-rendering: auto;
  -webkit-font-smoothing: antialiased;
  -moz-osx-font-smoothing: grayscale;
  width: 20px;
}
.dirty-indicator-clean.fa-pull-left {
  margin-right: .3em;
}
.dirty-indicator-clean.fa-pull-right {
  margin-left: .3em;
}
.dirty-indicator-clean.pull-left {
  margin-right: .3em;
}
.dirty-indicator-clean.pull-right {
  margin-left: .3em;
}
.dirty-indicator-clean:before {
  display: inline-block;
  font: normal normal normal 14px/1 FontAwesome;
  font-size: inherit;
  text-rendering: auto;
  -webkit-font-smoothing: antialiased;
  -moz-osx-font-smoothing: grayscale;
  content: "\f00c";
}
.dirty-indicator-clean:before.fa-pull-left {
  margin-right: .3em;
}
.dirty-indicator-clean:before.fa-pull-right {
  margin-left: .3em;
}
.dirty-indicator-clean:before.pull-left {
  margin-right: .3em;
}
.dirty-indicator-clean:before.pull-right {
  margin-left: .3em;
}
#filename {
  font-size: 16pt;
  display: table;
  padding: 0px 5px;
}
#current-mode {
  padding-left: 5px;
  padding-right: 5px;
}
#texteditor-backdrop {
  padding-top: 20px;
  padding-bottom: 20px;
}
@media not print {
  #texteditor-backdrop {
    background-color: #EEE;
  }
}
@media print {
  #texteditor-backdrop #texteditor-container .CodeMirror-gutter,
  #texteditor-backdrop #texteditor-container .CodeMirror-gutters {
    background-color: #fff;
  }
}
@media not print {
  #texteditor-backdrop #texteditor-container .CodeMirror-gutter,
  #texteditor-backdrop #texteditor-container .CodeMirror-gutters {
    background-color: #fff;
  }
}
@media not print {
  #texteditor-backdrop #texteditor-container {
    padding: 0px;
    background-color: #fff;
    -webkit-box-shadow: 0px 0px 12px 1px rgba(87, 87, 87, 0.2);
    box-shadow: 0px 0px 12px 1px rgba(87, 87, 87, 0.2);
  }
}
.CodeMirror-dialog {
  background-color: #fff;
}
/*!
*
* IPython notebook
*
*/
/* CSS font colors for translated ANSI escape sequences */
/* The color values are a mix of
   http://www.xcolors.net/dl/baskerville-ivorylight and
   http://www.xcolors.net/dl/euphrasia */
.ansi-black-fg {
  color: #3E424D;
}
.ansi-black-bg {
  background-color: #3E424D;
}
.ansi-black-intense-fg {
  color: #282C36;
}
.ansi-black-intense-bg {
  background-color: #282C36;
}
.ansi-red-fg {
  color: #E75C58;
}
.ansi-red-bg {
  background-color: #E75C58;
}
.ansi-red-intense-fg {
  color: #B22B31;
}
.ansi-red-intense-bg {
  background-color: #B22B31;
}
.ansi-green-fg {
  color: #00A250;
}
.ansi-green-bg {
  background-color: #00A250;
}
.ansi-green-intense-fg {
  color: #007427;
}
.ansi-green-intense-bg {
  background-color: #007427;
}
.ansi-yellow-fg {
  color: #DDB62B;
}
.ansi-yellow-bg {
  background-color: #DDB62B;
}
.ansi-yellow-intense-fg {
  color: #B27D12;
}
.ansi-yellow-intense-bg {
  background-color: #B27D12;
}
.ansi-blue-fg {
  color: #208FFB;
}
.ansi-blue-bg {
  background-color: #208FFB;
}
.ansi-blue-intense-fg {
  color: #0065CA;
}
.ansi-blue-intense-bg {
  background-color: #0065CA;
}
.ansi-magenta-fg {
  color: #D160C4;
}
.ansi-magenta-bg {
  background-color: #D160C4;
}
.ansi-magenta-intense-fg {
  color: #A03196;
}
.ansi-magenta-intense-bg {
  background-color: #A03196;
}
.ansi-cyan-fg {
  color: #60C6C8;
}
.ansi-cyan-bg {
  background-color: #60C6C8;
}
.ansi-cyan-intense-fg {
  color: #258F8F;
}
.ansi-cyan-intense-bg {
  background-color: #258F8F;
}
.ansi-white-fg {
  color: #C5C1B4;
}
.ansi-white-bg {
  background-color: #C5C1B4;
}
.ansi-white-intense-fg {
  color: #A1A6B2;
}
.ansi-white-intense-bg {
  background-color: #A1A6B2;
}
.ansi-default-inverse-fg {
  color: #FFFFFF;
}
.ansi-default-inverse-bg {
  background-color: #000000;
}
.ansi-bold {
  font-weight: bold;
}
.ansi-underline {
  text-decoration: underline;
}
/* The following styles are deprecated an will be removed in a future version */
.ansibold {
  font-weight: bold;
}
.ansi-inverse {
  outline: 0.5px dotted;
}
/* use dark versions for foreground, to improve visibility */
.ansiblack {
  color: black;
}
.ansired {
  color: darkred;
}
.ansigreen {
  color: darkgreen;
}
.ansiyellow {
  color: #c4a000;
}
.ansiblue {
  color: darkblue;
}
.ansipurple {
  color: darkviolet;
}
.ansicyan {
  color: steelblue;
}
.ansigray {
  color: gray;
}
/* and light for background, for the same reason */
.ansibgblack {
  background-color: black;
}
.ansibgred {
  background-color: red;
}
.ansibggreen {
  background-color: green;
}
.ansibgyellow {
  background-color: yellow;
}
.ansibgblue {
  background-color: blue;
}
.ansibgpurple {
  background-color: magenta;
}
.ansibgcyan {
  background-color: cyan;
}
.ansibggray {
  background-color: gray;
}
div.cell {
  /* Old browsers */
  display: -webkit-box;
  -webkit-box-orient: vertical;
  -webkit-box-align: stretch;
  display: -moz-box;
  -moz-box-orient: vertical;
  -moz-box-align: stretch;
  display: box;
  box-orient: vertical;
  box-align: stretch;
  /* Modern browsers */
  display: flex;
  flex-direction: column;
  align-items: stretch;
  border-radius: 2px;
  box-sizing: border-box;
  -moz-box-sizing: border-box;
  -webkit-box-sizing: border-box;
  border-width: 1px;
  border-style: solid;
  border-color: transparent;
  width: 100%;
  padding: 5px;
  /* This acts as a spacer between cells, that is outside the border */
  margin: 0px;
  outline: none;
  position: relative;
  overflow: visible;
}
div.cell:before {
  position: absolute;
  display: block;
  top: -1px;
  left: -1px;
  width: 5px;
  height: calc(100% +  2px);
  content: '';
  background: transparent;
}
div.cell.jupyter-soft-selected {
  border-left-color: #E3F2FD;
  border-left-width: 1px;
  padding-left: 5px;
  border-right-color: #E3F2FD;
  border-right-width: 1px;
  background: #E3F2FD;
}
@media print {
  div.cell.jupyter-soft-selected {
    border-color: transparent;
  }
}
div.cell.selected,
div.cell.selected.jupyter-soft-selected {
  border-color: #ababab;
}
div.cell.selected:before,
div.cell.selected.jupyter-soft-selected:before {
  position: absolute;
  display: block;
  top: -1px;
  left: -1px;
  width: 5px;
  height: calc(100% +  2px);
  content: '';
  background: #42A5F5;
}
@media print {
  div.cell.selected,
  div.cell.selected.jupyter-soft-selected {
    border-color: transparent;
  }
}
.edit_mode div.cell.selected {
  border-color: #66BB6A;
}
.edit_mode div.cell.selected:before {
  position: absolute;
  display: block;
  top: -1px;
  left: -1px;
  width: 5px;
  height: calc(100% +  2px);
  content: '';
  background: #66BB6A;
}
@media print {
  .edit_mode div.cell.selected {
    border-color: transparent;
  }
}
.prompt {
  /* This needs to be wide enough for 3 digit prompt numbers: In[100]: */
  min-width: 14ex;
  /* This padding is tuned to match the padding on the CodeMirror editor. */
  padding: 0.4em;
  margin: 0px;
  font-family: monospace;
  text-align: right;
  /* This has to match that of the the CodeMirror class line-height below */
  line-height: 1.21429em;
  /* Don't highlight prompt number selection */
  -webkit-touch-callout: none;
  -webkit-user-select: none;
  -khtml-user-select: none;
  -moz-user-select: none;
  -ms-user-select: none;
  user-select: none;
  /* Use default cursor */
  cursor: default;
}
@media (max-width: 540px) {
  .prompt {
    text-align: left;
  }
}
div.inner_cell {
  min-width: 0;
  /* Old browsers */
  display: -webkit-box;
  -webkit-box-orient: vertical;
  -webkit-box-align: stretch;
  display: -moz-box;
  -moz-box-orient: vertical;
  -moz-box-align: stretch;
  display: box;
  box-orient: vertical;
  box-align: stretch;
  /* Modern browsers */
  display: flex;
  flex-direction: column;
  align-items: stretch;
  /* Old browsers */
  -webkit-box-flex: 1;
  -moz-box-flex: 1;
  box-flex: 1;
  /* Modern browsers */
  flex: 1;
}
/* input_area and input_prompt must match in top border and margin for alignment */
div.input_area {
  border: 1px solid #cfcfcf;
  border-radius: 2px;
  background: #f7f7f7;
  line-height: 1.21429em;
}
/* This is needed so that empty prompt areas can collapse to zero height when there
   is no content in the output_subarea and the prompt. The main purpose of this is
   to make sure that empty JavaScript output_subareas have no height. */
div.prompt:empty {
  padding-top: 0;
  padding-bottom: 0;
}
div.unrecognized_cell {
  padding: 5px 5px 5px 0px;
  /* Old browsers */
  display: -webkit-box;
  -webkit-box-orient: horizontal;
  -webkit-box-align: stretch;
  display: -moz-box;
  -moz-box-orient: horizontal;
  -moz-box-align: stretch;
  display: box;
  box-orient: horizontal;
  box-align: stretch;
  /* Modern browsers */
  display: flex;
  flex-direction: row;
  align-items: stretch;
}
div.unrecognized_cell .inner_cell {
  border-radius: 2px;
  padding: 5px;
  font-weight: bold;
  color: red;
  border: 1px solid #cfcfcf;
  background: #eaeaea;
}
div.unrecognized_cell .inner_cell a {
  color: inherit;
  text-decoration: none;
}
div.unrecognized_cell .inner_cell a:hover {
  color: inherit;
  text-decoration: none;
}
@media (max-width: 540px) {
  div.unrecognized_cell > div.prompt {
    display: none;
  }
}
div.code_cell {
  /* avoid page breaking on code cells when printing */
}
@media print {
  div.code_cell {
    page-break-inside: avoid;
  }
}
/* any special styling for code cells that are currently running goes here */
div.input {
  page-break-inside: avoid;
  /* Old browsers */
  display: -webkit-box;
  -webkit-box-orient: horizontal;
  -webkit-box-align: stretch;
  display: -moz-box;
  -moz-box-orient: horizontal;
  -moz-box-align: stretch;
  display: box;
  box-orient: horizontal;
  box-align: stretch;
  /* Modern browsers */
  display: flex;
  flex-direction: row;
  align-items: stretch;
}
@media (max-width: 540px) {
  div.input {
    /* Old browsers */
    display: -webkit-box;
    -webkit-box-orient: vertical;
    -webkit-box-align: stretch;
    display: -moz-box;
    -moz-box-orient: vertical;
    -moz-box-align: stretch;
    display: box;
    box-orient: vertical;
    box-align: stretch;
    /* Modern browsers */
    display: flex;
    flex-direction: column;
    align-items: stretch;
  }
}
/* input_area and input_prompt must match in top border and margin for alignment */
div.input_prompt {
  color: #303F9F;
  border-top: 1px solid transparent;
}
div.input_area > div.highlight {
  margin: 0.4em;
  border: none;
  padding: 0px;
  background-color: transparent;
}
div.input_area > div.highlight > pre {
  margin: 0px;
  border: none;
  padding: 0px;
  background-color: transparent;
}
/* The following gets added to the <head> if it is detected that the user has a
 * monospace font with inconsistent normal/bold/italic height.  See
 * notebookmain.js.  Such fonts will have keywords vertically offset with
 * respect to the rest of the text.  The user should select a better font.
 * See: https://github.com/ipython/ipython/issues/1503
 *
 * .CodeMirror span {
 *      vertical-align: bottom;
 * }
 */
.CodeMirror {
  line-height: 1.21429em;
  /* Changed from 1em to our global default */
  font-size: 14px;
  height: auto;
  /* Changed to auto to autogrow */
  background: none;
  /* Changed from white to allow our bg to show through */
}
.CodeMirror-scroll {
  /*  The CodeMirror docs are a bit fuzzy on if overflow-y should be hidden or visible.*/
  /*  We have found that if it is visible, vertical scrollbars appear with font size changes.*/
  overflow-y: hidden;
  overflow-x: auto;
}
.CodeMirror-lines {
  /* In CM2, this used to be 0.4em, but in CM3 it went to 4px. We need the em value because */
  /* we have set a different line-height and want this to scale with that. */
  /* Note that this should set vertical padding only, since CodeMirror assumes
       that horizontal padding will be set on CodeMirror pre */
  padding: 0.4em 0;
}
.CodeMirror-linenumber {
  padding: 0 8px 0 4px;
}
.CodeMirror-gutters {
  border-bottom-left-radius: 2px;
  border-top-left-radius: 2px;
}
.CodeMirror pre {
  /* In CM3 this went to 4px from 0 in CM2. This sets horizontal padding only,
    use .CodeMirror-lines for vertical */
  padding: 0 0.4em;
  border: 0;
  border-radius: 0;
}
.CodeMirror-cursor {
  border-left: 1.4px solid black;
}
@media screen and (min-width: 2138px) and (max-width: 4319px) {
  .CodeMirror-cursor {
    border-left: 2px solid black;
  }
}
@media screen and (min-width: 4320px) {
  .CodeMirror-cursor {
    border-left: 4px solid black;
  }
}
/*

Original style from softwaremaniacs.org (c) Ivan Sagalaev <Maniac@SoftwareManiacs.Org>
Adapted from GitHub theme

*/
.highlight-base {
  color: #000;
}
.highlight-variable {
  color: #000;
}
.highlight-variable-2 {
  color: #1a1a1a;
}
.highlight-variable-3 {
  color: #333333;
}
.highlight-string {
  color: #BA2121;
}
.highlight-comment {
  color: #408080;
  font-style: italic;
}
.highlight-number {
  color: #080;
}
.highlight-atom {
  color: #88F;
}
.highlight-keyword {
  color: #008000;
  font-weight: bold;
}
.highlight-builtin {
  color: #008000;
}
.highlight-error {
  color: #f00;
}
.highlight-operator {
  color: #AA22FF;
  font-weight: bold;
}
.highlight-meta {
  color: #AA22FF;
}
/* previously not defined, copying from default codemirror */
.highlight-def {
  color: #00f;
}
.highlight-string-2 {
  color: #f50;
}
.highlight-qualifier {
  color: #555;
}
.highlight-bracket {
  color: #997;
}
.highlight-tag {
  color: #170;
}
.highlight-attribute {
  color: #00c;
}
.highlight-header {
  color: blue;
}
.highlight-quote {
  color: #090;
}
.highlight-link {
  color: #00c;
}
/* apply the same style to codemirror */
.cm-s-ipython span.cm-keyword {
  color: #008000;
  font-weight: bold;
}
.cm-s-ipython span.cm-atom {
  color: #88F;
}
.cm-s-ipython span.cm-number {
  color: #080;
}
.cm-s-ipython span.cm-def {
  color: #00f;
}
.cm-s-ipython span.cm-variable {
  color: #000;
}
.cm-s-ipython span.cm-operator {
  color: #AA22FF;
  font-weight: bold;
}
.cm-s-ipython span.cm-variable-2 {
  color: #1a1a1a;
}
.cm-s-ipython span.cm-variable-3 {
  color: #333333;
}
.cm-s-ipython span.cm-comment {
  color: #408080;
  font-style: italic;
}
.cm-s-ipython span.cm-string {
  color: #BA2121;
}
.cm-s-ipython span.cm-string-2 {
  color: #f50;
}
.cm-s-ipython span.cm-meta {
  color: #AA22FF;
}
.cm-s-ipython span.cm-qualifier {
  color: #555;
}
.cm-s-ipython span.cm-builtin {
  color: #008000;
}
.cm-s-ipython span.cm-bracket {
  color: #997;
}
.cm-s-ipython span.cm-tag {
  color: #170;
}
.cm-s-ipython span.cm-attribute {
  color: #00c;
}
.cm-s-ipython span.cm-header {
  color: blue;
}
.cm-s-ipython span.cm-quote {
  color: #090;
}
.cm-s-ipython span.cm-link {
  color: #00c;
}
.cm-s-ipython span.cm-error {
  color: #f00;
}
.cm-s-ipython span.cm-tab {
  background: url(data:image/png;base64,iVBORw0KGgoAAAANSUhEUgAAADAAAAAMCAYAAAAkuj5RAAAAAXNSR0IArs4c6QAAAGFJREFUSMft1LsRQFAQheHPowAKoACx3IgEKtaEHujDjORSgWTH/ZOdnZOcM/sgk/kFFWY0qV8foQwS4MKBCS3qR6ixBJvElOobYAtivseIE120FaowJPN75GMu8j/LfMwNjh4HUpwg4LUAAAAASUVORK5CYII=);
  background-position: right;
  background-repeat: no-repeat;
}
div.output_wrapper {
  /* this position must be relative to enable descendents to be absolute within it */
  position: relative;
  /* Old browsers */
  display: -webkit-box;
  -webkit-box-orient: vertical;
  -webkit-box-align: stretch;
  display: -moz-box;
  -moz-box-orient: vertical;
  -moz-box-align: stretch;
  display: box;
  box-orient: vertical;
  box-align: stretch;
  /* Modern browsers */
  display: flex;
  flex-direction: column;
  align-items: stretch;
  z-index: 1;
}
/* class for the output area when it should be height-limited */
div.output_scroll {
  /* ideally, this would be max-height, but FF barfs all over that */
  height: 24em;
  /* FF needs this *and the wrapper* to specify full width, or it will shrinkwrap */
  width: 100%;
  overflow: auto;
  border-radius: 2px;
  -webkit-box-shadow: inset 0 2px 8px rgba(0, 0, 0, 0.8);
  box-shadow: inset 0 2px 8px rgba(0, 0, 0, 0.8);
  display: block;
}
/* output div while it is collapsed */
div.output_collapsed {
  margin: 0px;
  padding: 0px;
  /* Old browsers */
  display: -webkit-box;
  -webkit-box-orient: vertical;
  -webkit-box-align: stretch;
  display: -moz-box;
  -moz-box-orient: vertical;
  -moz-box-align: stretch;
  display: box;
  box-orient: vertical;
  box-align: stretch;
  /* Modern browsers */
  display: flex;
  flex-direction: column;
  align-items: stretch;
}
div.out_prompt_overlay {
  height: 100%;
  padding: 0px 0.4em;
  position: absolute;
  border-radius: 2px;
}
div.out_prompt_overlay:hover {
  /* use inner shadow to get border that is computed the same on WebKit/FF */
  -webkit-box-shadow: inset 0 0 1px #000;
  box-shadow: inset 0 0 1px #000;
  background: rgba(240, 240, 240, 0.5);
}
div.output_prompt {
  color: #D84315;
}
/* This class is the outer container of all output sections. */
div.output_area {
  padding: 0px;
  page-break-inside: avoid;
  /* Old browsers */
  display: -webkit-box;
  -webkit-box-orient: horizontal;
  -webkit-box-align: stretch;
  display: -moz-box;
  -moz-box-orient: horizontal;
  -moz-box-align: stretch;
  display: box;
  box-orient: horizontal;
  box-align: stretch;
  /* Modern browsers */
  display: flex;
  flex-direction: row;
  align-items: stretch;
}
div.output_area .MathJax_Display {
  text-align: left !important;
}
div.output_area .rendered_html table {
  margin-left: 0;
  margin-right: 0;
}
div.output_area .rendered_html img {
  margin-left: 0;
  margin-right: 0;
}
div.output_area img,
div.output_area svg {
  max-width: 100%;
  height: auto;
}
div.output_area img.unconfined,
div.output_area svg.unconfined {
  max-width: none;
}
div.output_area .mglyph > img {
  max-width: none;
}
/* This is needed to protect the pre formating from global settings such
   as that of bootstrap */
.output {
  /* Old browsers */
  display: -webkit-box;
  -webkit-box-orient: vertical;
  -webkit-box-align: stretch;
  display: -moz-box;
  -moz-box-orient: vertical;
  -moz-box-align: stretch;
  display: box;
  box-orient: vertical;
  box-align: stretch;
  /* Modern browsers */
  display: flex;
  flex-direction: column;
  align-items: stretch;
}
@media (max-width: 540px) {
  div.output_area {
    /* Old browsers */
    display: -webkit-box;
    -webkit-box-orient: vertical;
    -webkit-box-align: stretch;
    display: -moz-box;
    -moz-box-orient: vertical;
    -moz-box-align: stretch;
    display: box;
    box-orient: vertical;
    box-align: stretch;
    /* Modern browsers */
    display: flex;
    flex-direction: column;
    align-items: stretch;
  }
}
div.output_area pre {
  margin: 0;
  padding: 1px 0 1px 0;
  border: 0;
  vertical-align: baseline;
  color: black;
  background-color: transparent;
  border-radius: 0;
}
/* This class is for the output subarea inside the output_area and after
   the prompt div. */
div.output_subarea {
  overflow-x: auto;
  padding: 0.4em;
  /* Old browsers */
  -webkit-box-flex: 1;
  -moz-box-flex: 1;
  box-flex: 1;
  /* Modern browsers */
  flex: 1;
  max-width: calc(100% - 14ex);
}
div.output_scroll div.output_subarea {
  overflow-x: visible;
}
/* The rest of the output_* classes are for special styling of the different
   output types */
/* all text output has this class: */
div.output_text {
  text-align: left;
  color: #000;
  /* This has to match that of the the CodeMirror class line-height below */
  line-height: 1.21429em;
}
/* stdout/stderr are 'text' as well as 'stream', but execute_result/error are *not* streams */
div.output_stderr {
  background: #fdd;
  /* very light red background for stderr */
}
div.output_latex {
  text-align: left;
}
/* Empty output_javascript divs should have no height */
div.output_javascript:empty {
  padding: 0;
}
.js-error {
  color: darkred;
}
/* raw_input styles */
div.raw_input_container {
  line-height: 1.21429em;
  padding-top: 5px;
}
pre.raw_input_prompt {
  /* nothing needed here. */
}
input.raw_input {
  font-family: monospace;
  font-size: inherit;
  color: inherit;
  width: auto;
  /* make sure input baseline aligns with prompt */
  vertical-align: baseline;
  /* padding + margin = 0.5em between prompt and cursor */
  padding: 0em 0.25em;
  margin: 0em 0.25em;
}
input.raw_input:focus {
  box-shadow: none;
}
p.p-space {
  margin-bottom: 10px;
}
div.output_unrecognized {
  padding: 5px;
  font-weight: bold;
  color: red;
}
div.output_unrecognized a {
  color: inherit;
  text-decoration: none;
}
div.output_unrecognized a:hover {
  color: inherit;
  text-decoration: none;
}
.rendered_html {
  color: #000;
  /* any extras will just be numbers: */
}
.rendered_html em {
  font-style: italic;
}
.rendered_html strong {
  font-weight: bold;
}
.rendered_html u {
  text-decoration: underline;
}
.rendered_html :link {
  text-decoration: underline;
}
.rendered_html :visited {
  text-decoration: underline;
}
.rendered_html h1 {
  font-size: 185.7%;
  margin: 1.08em 0 0 0;
  font-weight: bold;
  line-height: 1.0;
}
.rendered_html h2 {
  font-size: 157.1%;
  margin: 1.27em 0 0 0;
  font-weight: bold;
  line-height: 1.0;
}
.rendered_html h3 {
  font-size: 128.6%;
  margin: 1.55em 0 0 0;
  font-weight: bold;
  line-height: 1.0;
}
.rendered_html h4 {
  font-size: 100%;
  margin: 2em 0 0 0;
  font-weight: bold;
  line-height: 1.0;
}
.rendered_html h5 {
  font-size: 100%;
  margin: 2em 0 0 0;
  font-weight: bold;
  line-height: 1.0;
  font-style: italic;
}
.rendered_html h6 {
  font-size: 100%;
  margin: 2em 0 0 0;
  font-weight: bold;
  line-height: 1.0;
  font-style: italic;
}
.rendered_html h1:first-child {
  margin-top: 0.538em;
}
.rendered_html h2:first-child {
  margin-top: 0.636em;
}
.rendered_html h3:first-child {
  margin-top: 0.777em;
}
.rendered_html h4:first-child {
  margin-top: 1em;
}
.rendered_html h5:first-child {
  margin-top: 1em;
}
.rendered_html h6:first-child {
  margin-top: 1em;
}
.rendered_html ul:not(.list-inline),
.rendered_html ol:not(.list-inline) {
  padding-left: 2em;
}
.rendered_html ul {
  list-style: disc;
}
.rendered_html ul ul {
  list-style: square;
  margin-top: 0;
}
.rendered_html ul ul ul {
  list-style: circle;
}
.rendered_html ol {
  list-style: decimal;
}
.rendered_html ol ol {
  list-style: upper-alpha;
  margin-top: 0;
}
.rendered_html ol ol ol {
  list-style: lower-alpha;
}
.rendered_html ol ol ol ol {
  list-style: lower-roman;
}
.rendered_html ol ol ol ol ol {
  list-style: decimal;
}
.rendered_html * + ul {
  margin-top: 1em;
}
.rendered_html * + ol {
  margin-top: 1em;
}
.rendered_html hr {
  color: black;
  background-color: black;
}
.rendered_html pre {
  margin: 1em 2em;
  padding: 0px;
  background-color: #fff;
}
.rendered_html code {
  background-color: #eff0f1;
}
.rendered_html p code {
  padding: 1px 5px;
}
.rendered_html pre code {
  background-color: #fff;
}
.rendered_html pre,
.rendered_html code {
  border: 0;
  color: #000;
  font-size: 100%;
}
.rendered_html blockquote {
  margin: 1em 2em;
}
.rendered_html table {
  margin-left: auto;
  margin-right: auto;
  border: none;
  border-collapse: collapse;
  border-spacing: 0;
  color: black;
  font-size: 12px;
  table-layout: fixed;
}
.rendered_html thead {
  border-bottom: 1px solid black;
  vertical-align: bottom;
}
.rendered_html tr,
.rendered_html th,
.rendered_html td {
  text-align: right;
  vertical-align: middle;
  padding: 0.5em 0.5em;
  line-height: normal;
  white-space: normal;
  max-width: none;
  border: none;
}
.rendered_html th {
  font-weight: bold;
}
.rendered_html tbody tr:nth-child(odd) {
  background: #f5f5f5;
}
.rendered_html tbody tr:hover {
  background: rgba(66, 165, 245, 0.2);
}
.rendered_html * + table {
  margin-top: 1em;
}
.rendered_html p {
  text-align: left;
}
.rendered_html * + p {
  margin-top: 1em;
}
.rendered_html img {
  display: block;
  margin-left: auto;
  margin-right: auto;
}
.rendered_html * + img {
  margin-top: 1em;
}
.rendered_html img,
.rendered_html svg {
  max-width: 100%;
  height: auto;
}
.rendered_html img.unconfined,
.rendered_html svg.unconfined {
  max-width: none;
}
.rendered_html .alert {
  margin-bottom: initial;
}
.rendered_html * + .alert {
  margin-top: 1em;
}
[dir="rtl"] .rendered_html p {
  text-align: right;
}
div.text_cell {
  /* Old browsers */
  display: -webkit-box;
  -webkit-box-orient: horizontal;
  -webkit-box-align: stretch;
  display: -moz-box;
  -moz-box-orient: horizontal;
  -moz-box-align: stretch;
  display: box;
  box-orient: horizontal;
  box-align: stretch;
  /* Modern browsers */
  display: flex;
  flex-direction: row;
  align-items: stretch;
}
@media (max-width: 540px) {
  div.text_cell > div.prompt {
    display: none;
  }
}
div.text_cell_render {
  /*font-family: "Helvetica Neue", Arial, Helvetica, Geneva, sans-serif;*/
  outline: none;
  resize: none;
  width: inherit;
  border-style: none;
  padding: 0.5em 0.5em 0.5em 0.4em;
  color: #000;
  box-sizing: border-box;
  -moz-box-sizing: border-box;
  -webkit-box-sizing: border-box;
}
a.anchor-link:link {
  text-decoration: none;
  padding: 0px 20px;
  visibility: hidden;
}
h1:hover .anchor-link,
h2:hover .anchor-link,
h3:hover .anchor-link,
h4:hover .anchor-link,
h5:hover .anchor-link,
h6:hover .anchor-link {
  visibility: visible;
}
.text_cell.rendered .input_area {
  display: none;
}
.text_cell.rendered .rendered_html {
  overflow-x: auto;
  overflow-y: hidden;
}
.text_cell.rendered .rendered_html tr,
.text_cell.rendered .rendered_html th,
.text_cell.rendered .rendered_html td {
  max-width: none;
}
.text_cell.unrendered .text_cell_render {
  display: none;
}
.text_cell .dropzone .input_area {
  border: 2px dashed #bababa;
  margin: -1px;
}
.cm-header-1,
.cm-header-2,
.cm-header-3,
.cm-header-4,
.cm-header-5,
.cm-header-6 {
  font-weight: bold;
  font-family: "Helvetica Neue", Helvetica, Arial, sans-serif;
}
.cm-header-1 {
  font-size: 185.7%;
}
.cm-header-2 {
  font-size: 157.1%;
}
.cm-header-3 {
  font-size: 128.6%;
}
.cm-header-4 {
  font-size: 110%;
}
.cm-header-5 {
  font-size: 100%;
  font-style: italic;
}
.cm-header-6 {
  font-size: 100%;
  font-style: italic;
}
/*!
*
* IPython notebook webapp
*
*/
@media (max-width: 767px) {
  .notebook_app {
    padding-left: 0px;
    padding-right: 0px;
  }
}
#ipython-main-app {
  box-sizing: border-box;
  -moz-box-sizing: border-box;
  -webkit-box-sizing: border-box;
  height: 100%;
}
div#notebook_panel {
  margin: 0px;
  padding: 0px;
  box-sizing: border-box;
  -moz-box-sizing: border-box;
  -webkit-box-sizing: border-box;
  height: 100%;
}
div#notebook {
  font-size: 14px;
  line-height: 20px;
  overflow-y: hidden;
  overflow-x: auto;
  width: 100%;
  /* This spaces the page away from the edge of the notebook area */
  padding-top: 20px;
  margin: 0px;
  outline: none;
  box-sizing: border-box;
  -moz-box-sizing: border-box;
  -webkit-box-sizing: border-box;
  min-height: 100%;
}
@media not print {
  #notebook-container {
    padding: 15px;
    background-color: #fff;
    min-height: 0;
    -webkit-box-shadow: 0px 0px 12px 1px rgba(87, 87, 87, 0.2);
    box-shadow: 0px 0px 12px 1px rgba(87, 87, 87, 0.2);
  }
}
@media print {
  #notebook-container {
    width: 100%;
  }
}
div.ui-widget-content {
  border: 1px solid #ababab;
  outline: none;
}
pre.dialog {
  background-color: #f7f7f7;
  border: 1px solid #ddd;
  border-radius: 2px;
  padding: 0.4em;
  padding-left: 2em;
}
p.dialog {
  padding: 0.2em;
}
/* Word-wrap output correctly.  This is the CSS3 spelling, though Firefox seems
   to not honor it correctly.  Webkit browsers (Chrome, rekonq, Safari) do.
 */
pre,
code,
kbd,
samp {
  white-space: pre-wrap;
}
#fonttest {
  font-family: monospace;
}
p {
  margin-bottom: 0;
}
.end_space {
  min-height: 100px;
  transition: height .2s ease;
}
.notebook_app > #header {
  -webkit-box-shadow: 0px 0px 12px 1px rgba(87, 87, 87, 0.2);
  box-shadow: 0px 0px 12px 1px rgba(87, 87, 87, 0.2);
}
@media not print {
  .notebook_app {
    background-color: #EEE;
  }
}
kbd {
  border-style: solid;
  border-width: 1px;
  box-shadow: none;
  margin: 2px;
  padding-left: 2px;
  padding-right: 2px;
  padding-top: 1px;
  padding-bottom: 1px;
}
.jupyter-keybindings {
  padding: 1px;
  line-height: 24px;
  border-bottom: 1px solid gray;
}
.jupyter-keybindings input {
  margin: 0;
  padding: 0;
  border: none;
}
.jupyter-keybindings i {
  padding: 6px;
}
.well code {
  background-color: #ffffff;
  border-color: #ababab;
  border-width: 1px;
  border-style: solid;
  padding: 2px;
  padding-top: 1px;
  padding-bottom: 1px;
}
/* CSS for the cell toolbar */
.celltoolbar {
  border: thin solid #CFCFCF;
  border-bottom: none;
  background: #EEE;
  border-radius: 2px 2px 0px 0px;
  width: 100%;
  height: 29px;
  padding-right: 4px;
  /* Old browsers */
  display: -webkit-box;
  -webkit-box-orient: horizontal;
  -webkit-box-align: stretch;
  display: -moz-box;
  -moz-box-orient: horizontal;
  -moz-box-align: stretch;
  display: box;
  box-orient: horizontal;
  box-align: stretch;
  /* Modern browsers */
  display: flex;
  flex-direction: row;
  align-items: stretch;
  /* Old browsers */
  -webkit-box-pack: end;
  -moz-box-pack: end;
  box-pack: end;
  /* Modern browsers */
  justify-content: flex-end;
  display: -webkit-flex;
}
@media print {
  .celltoolbar {
    display: none;
  }
}
.ctb_hideshow {
  display: none;
  vertical-align: bottom;
}
/* ctb_show is added to the ctb_hideshow div to show the cell toolbar.
   Cell toolbars are only shown when the ctb_global_show class is also set.
*/
.ctb_global_show .ctb_show.ctb_hideshow {
  display: block;
}
.ctb_global_show .ctb_show + .input_area,
.ctb_global_show .ctb_show + div.text_cell_input,
.ctb_global_show .ctb_show ~ div.text_cell_render {
  border-top-right-radius: 0px;
  border-top-left-radius: 0px;
}
.ctb_global_show .ctb_show ~ div.text_cell_render {
  border: 1px solid #cfcfcf;
}
.celltoolbar {
  font-size: 87%;
  padding-top: 3px;
}
.celltoolbar select {
  display: block;
  width: 100%;
  height: 32px;
  padding: 6px 12px;
  font-size: 13px;
  line-height: 1.42857143;
  color: #555555;
  background-color: #fff;
  background-image: none;
  border: 1px solid #ccc;
  border-radius: 2px;
  -webkit-box-shadow: inset 0 1px 1px rgba(0, 0, 0, 0.075);
  box-shadow: inset 0 1px 1px rgba(0, 0, 0, 0.075);
  -webkit-transition: border-color ease-in-out .15s, box-shadow ease-in-out .15s;
  -o-transition: border-color ease-in-out .15s, box-shadow ease-in-out .15s;
  transition: border-color ease-in-out .15s, box-shadow ease-in-out .15s;
  height: 30px;
  padding: 5px 10px;
  font-size: 12px;
  line-height: 1.5;
  border-radius: 1px;
  width: inherit;
  font-size: inherit;
  height: 22px;
  padding: 0px;
  display: inline-block;
}
.celltoolbar select:focus {
  border-color: #66afe9;
  outline: 0;
  -webkit-box-shadow: inset 0 1px 1px rgba(0,0,0,.075), 0 0 8px rgba(102, 175, 233, 0.6);
  box-shadow: inset 0 1px 1px rgba(0,0,0,.075), 0 0 8px rgba(102, 175, 233, 0.6);
}
.celltoolbar select::-moz-placeholder {
  color: #999;
  opacity: 1;
}
.celltoolbar select:-ms-input-placeholder {
  color: #999;
}
.celltoolbar select::-webkit-input-placeholder {
  color: #999;
}
.celltoolbar select::-ms-expand {
  border: 0;
  background-color: transparent;
}
.celltoolbar select[disabled],
.celltoolbar select[readonly],
fieldset[disabled] .celltoolbar select {
  background-color: #eeeeee;
  opacity: 1;
}
.celltoolbar select[disabled],
fieldset[disabled] .celltoolbar select {
  cursor: not-allowed;
}
textarea.celltoolbar select {
  height: auto;
}
select.celltoolbar select {
  height: 30px;
  line-height: 30px;
}
textarea.celltoolbar select,
select[multiple].celltoolbar select {
  height: auto;
}
.celltoolbar label {
  margin-left: 5px;
  margin-right: 5px;
}
.tags_button_container {
  width: 100%;
  display: flex;
}
.tag-container {
  display: flex;
  flex-direction: row;
  flex-grow: 1;
  overflow: hidden;
  position: relative;
}
.tag-container > * {
  margin: 0 4px;
}
.remove-tag-btn {
  margin-left: 4px;
}
.tags-input {
  display: flex;
}
.cell-tag:last-child:after {
  content: "";
  position: absolute;
  right: 0;
  width: 40px;
  height: 100%;
  /* Fade to background color of cell toolbar */
  background: linear-gradient(to right, rgba(0, 0, 0, 0), #EEE);
}
.tags-input > * {
  margin-left: 4px;
}
.cell-tag,
.tags-input input,
.tags-input button {
  display: block;
  width: 100%;
  height: 32px;
  padding: 6px 12px;
  font-size: 13px;
  line-height: 1.42857143;
  color: #555555;
  background-color: #fff;
  background-image: none;
  border: 1px solid #ccc;
  border-radius: 2px;
  -webkit-box-shadow: inset 0 1px 1px rgba(0, 0, 0, 0.075);
  box-shadow: inset 0 1px 1px rgba(0, 0, 0, 0.075);
  -webkit-transition: border-color ease-in-out .15s, box-shadow ease-in-out .15s;
  -o-transition: border-color ease-in-out .15s, box-shadow ease-in-out .15s;
  transition: border-color ease-in-out .15s, box-shadow ease-in-out .15s;
  height: 30px;
  padding: 5px 10px;
  font-size: 12px;
  line-height: 1.5;
  border-radius: 1px;
  box-shadow: none;
  width: inherit;
  font-size: inherit;
  height: 22px;
  line-height: 22px;
  padding: 0px 4px;
  display: inline-block;
}
.cell-tag:focus,
.tags-input input:focus,
.tags-input button:focus {
  border-color: #66afe9;
  outline: 0;
  -webkit-box-shadow: inset 0 1px 1px rgba(0,0,0,.075), 0 0 8px rgba(102, 175, 233, 0.6);
  box-shadow: inset 0 1px 1px rgba(0,0,0,.075), 0 0 8px rgba(102, 175, 233, 0.6);
}
.cell-tag::-moz-placeholder,
.tags-input input::-moz-placeholder,
.tags-input button::-moz-placeholder {
  color: #999;
  opacity: 1;
}
.cell-tag:-ms-input-placeholder,
.tags-input input:-ms-input-placeholder,
.tags-input button:-ms-input-placeholder {
  color: #999;
}
.cell-tag::-webkit-input-placeholder,
.tags-input input::-webkit-input-placeholder,
.tags-input button::-webkit-input-placeholder {
  color: #999;
}
.cell-tag::-ms-expand,
.tags-input input::-ms-expand,
.tags-input button::-ms-expand {
  border: 0;
  background-color: transparent;
}
.cell-tag[disabled],
.tags-input input[disabled],
.tags-input button[disabled],
.cell-tag[readonly],
.tags-input input[readonly],
.tags-input button[readonly],
fieldset[disabled] .cell-tag,
fieldset[disabled] .tags-input input,
fieldset[disabled] .tags-input button {
  background-color: #eeeeee;
  opacity: 1;
}
.cell-tag[disabled],
.tags-input input[disabled],
.tags-input button[disabled],
fieldset[disabled] .cell-tag,
fieldset[disabled] .tags-input input,
fieldset[disabled] .tags-input button {
  cursor: not-allowed;
}
textarea.cell-tag,
textarea.tags-input input,
textarea.tags-input button {
  height: auto;
}
select.cell-tag,
select.tags-input input,
select.tags-input button {
  height: 30px;
  line-height: 30px;
}
textarea.cell-tag,
textarea.tags-input input,
textarea.tags-input button,
select[multiple].cell-tag,
select[multiple].tags-input input,
select[multiple].tags-input button {
  height: auto;
}
.cell-tag,
.tags-input button {
  padding: 0px 4px;
}
.cell-tag {
  background-color: #fff;
  white-space: nowrap;
}
.tags-input input[type=text]:focus {
  outline: none;
  box-shadow: none;
  border-color: #ccc;
}
.completions {
  position: absolute;
  z-index: 110;
  overflow: hidden;
  border: 1px solid #ababab;
  border-radius: 2px;
  -webkit-box-shadow: 0px 6px 10px -1px #adadad;
  box-shadow: 0px 6px 10px -1px #adadad;
  line-height: 1;
}
.completions select {
  background: white;
  outline: none;
  border: none;
  padding: 0px;
  margin: 0px;
  overflow: auto;
  font-family: monospace;
  font-size: 110%;
  color: #000;
  width: auto;
}
.completions select option.context {
  color: #286090;
}
#kernel_logo_widget .current_kernel_logo {
  display: none;
  margin-top: -1px;
  margin-bottom: -1px;
  width: 32px;
  height: 32px;
}
[dir="rtl"] #kernel_logo_widget {
  float: left !important;
  float: left;
}
.modal .modal-body .move-path {
  display: flex;
  flex-direction: row;
  justify-content: space;
  align-items: center;
}
.modal .modal-body .move-path .server-root {
  padding-right: 20px;
}
.modal .modal-body .move-path .path-input {
  flex: 1;
}
#menubar {
  box-sizing: border-box;
  -moz-box-sizing: border-box;
  -webkit-box-sizing: border-box;
  margin-top: 1px;
}
#menubar .navbar {
  border-top: 1px;
  border-radius: 0px 0px 2px 2px;
  margin-bottom: 0px;
}
#menubar .navbar-toggle {
  float: left;
  padding-top: 7px;
  padding-bottom: 7px;
  border: none;
}
#menubar .navbar-collapse {
  clear: left;
}
[dir="rtl"] #menubar .navbar-toggle {
  float: right;
}
[dir="rtl"] #menubar .navbar-collapse {
  clear: right;
}
[dir="rtl"] #menubar .navbar-nav {
  float: right;
}
[dir="rtl"] #menubar .nav {
  padding-right: 0px;
}
[dir="rtl"] #menubar .navbar-nav > li {
  float: right;
}
[dir="rtl"] #menubar .navbar-right {
  float: left !important;
}
[dir="rtl"] ul.dropdown-menu {
  text-align: right;
  left: auto;
}
[dir="rtl"] ul#new-menu.dropdown-menu {
  right: auto;
  left: 0;
}
.nav-wrapper {
  border-bottom: 1px solid #e7e7e7;
}
i.menu-icon {
  padding-top: 4px;
}
[dir="rtl"] i.menu-icon.pull-right {
  float: left !important;
  float: left;
}
ul#help_menu li a {
  overflow: hidden;
  padding-right: 2.2em;
}
ul#help_menu li a i {
  margin-right: -1.2em;
}
[dir="rtl"] ul#help_menu li a {
  padding-left: 2.2em;
}
[dir="rtl"] ul#help_menu li a i {
  margin-right: 0;
  margin-left: -1.2em;
}
[dir="rtl"] ul#help_menu li a i.pull-right {
  float: left !important;
  float: left;
}
.dropdown-submenu {
  position: relative;
}
.dropdown-submenu > .dropdown-menu {
  top: 0;
  left: 100%;
  margin-top: -6px;
  margin-left: -1px;
}
[dir="rtl"] .dropdown-submenu > .dropdown-menu {
  right: 100%;
  margin-right: -1px;
}
.dropdown-submenu:hover > .dropdown-menu {
  display: block;
}
.dropdown-submenu > a:after {
  display: inline-block;
  font: normal normal normal 14px/1 FontAwesome;
  font-size: inherit;
  text-rendering: auto;
  -webkit-font-smoothing: antialiased;
  -moz-osx-font-smoothing: grayscale;
  display: block;
  content: "\f0da";
  float: right;
  color: #333333;
  margin-top: 2px;
  margin-right: -10px;
}
.dropdown-submenu > a:after.fa-pull-left {
  margin-right: .3em;
}
.dropdown-submenu > a:after.fa-pull-right {
  margin-left: .3em;
}
.dropdown-submenu > a:after.pull-left {
  margin-right: .3em;
}
.dropdown-submenu > a:after.pull-right {
  margin-left: .3em;
}
[dir="rtl"] .dropdown-submenu > a:after {
  float: left;
  content: "\f0d9";
  margin-right: 0;
  margin-left: -10px;
}
.dropdown-submenu:hover > a:after {
  color: #262626;
}
.dropdown-submenu.pull-left {
  float: none;
}
.dropdown-submenu.pull-left > .dropdown-menu {
  left: -100%;
  margin-left: 10px;
}
#notification_area {
  float: right !important;
  float: right;
  z-index: 10;
}
[dir="rtl"] #notification_area {
  float: left !important;
  float: left;
}
.indicator_area {
  float: right !important;
  float: right;
  color: #777;
  margin-left: 5px;
  margin-right: 5px;
  width: 11px;
  z-index: 10;
  text-align: center;
  width: auto;
}
[dir="rtl"] .indicator_area {
  float: left !important;
  float: left;
}
#kernel_indicator {
  float: right !important;
  float: right;
  color: #777;
  margin-left: 5px;
  margin-right: 5px;
  width: 11px;
  z-index: 10;
  text-align: center;
  width: auto;
  border-left: 1px solid;
}
#kernel_indicator .kernel_indicator_name {
  padding-left: 5px;
  padding-right: 5px;
}
[dir="rtl"] #kernel_indicator {
  float: left !important;
  float: left;
  border-left: 0;
  border-right: 1px solid;
}
#modal_indicator {
  float: right !important;
  float: right;
  color: #777;
  margin-left: 5px;
  margin-right: 5px;
  width: 11px;
  z-index: 10;
  text-align: center;
  width: auto;
}
[dir="rtl"] #modal_indicator {
  float: left !important;
  float: left;
}
#readonly-indicator {
  float: right !important;
  float: right;
  color: #777;
  margin-left: 5px;
  margin-right: 5px;
  width: 11px;
  z-index: 10;
  text-align: center;
  width: auto;
  margin-top: 2px;
  margin-bottom: 0px;
  margin-left: 0px;
  margin-right: 0px;
  display: none;
}
.modal_indicator:before {
  width: 1.28571429em;
  text-align: center;
}
.edit_mode .modal_indicator:before {
  display: inline-block;
  font: normal normal normal 14px/1 FontAwesome;
  font-size: inherit;
  text-rendering: auto;
  -webkit-font-smoothing: antialiased;
  -moz-osx-font-smoothing: grayscale;
  content: "\f040";
}
.edit_mode .modal_indicator:before.fa-pull-left {
  margin-right: .3em;
}
.edit_mode .modal_indicator:before.fa-pull-right {
  margin-left: .3em;
}
.edit_mode .modal_indicator:before.pull-left {
  margin-right: .3em;
}
.edit_mode .modal_indicator:before.pull-right {
  margin-left: .3em;
}
.command_mode .modal_indicator:before {
  display: inline-block;
  font: normal normal normal 14px/1 FontAwesome;
  font-size: inherit;
  text-rendering: auto;
  -webkit-font-smoothing: antialiased;
  -moz-osx-font-smoothing: grayscale;
  content: ' ';
}
.command_mode .modal_indicator:before.fa-pull-left {
  margin-right: .3em;
}
.command_mode .modal_indicator:before.fa-pull-right {
  margin-left: .3em;
}
.command_mode .modal_indicator:before.pull-left {
  margin-right: .3em;
}
.command_mode .modal_indicator:before.pull-right {
  margin-left: .3em;
}
.kernel_idle_icon:before {
  display: inline-block;
  font: normal normal normal 14px/1 FontAwesome;
  font-size: inherit;
  text-rendering: auto;
  -webkit-font-smoothing: antialiased;
  -moz-osx-font-smoothing: grayscale;
  content: "\f10c";
}
.kernel_idle_icon:before.fa-pull-left {
  margin-right: .3em;
}
.kernel_idle_icon:before.fa-pull-right {
  margin-left: .3em;
}
.kernel_idle_icon:before.pull-left {
  margin-right: .3em;
}
.kernel_idle_icon:before.pull-right {
  margin-left: .3em;
}
.kernel_busy_icon:before {
  display: inline-block;
  font: normal normal normal 14px/1 FontAwesome;
  font-size: inherit;
  text-rendering: auto;
  -webkit-font-smoothing: antialiased;
  -moz-osx-font-smoothing: grayscale;
  content: "\f111";
}
.kernel_busy_icon:before.fa-pull-left {
  margin-right: .3em;
}
.kernel_busy_icon:before.fa-pull-right {
  margin-left: .3em;
}
.kernel_busy_icon:before.pull-left {
  margin-right: .3em;
}
.kernel_busy_icon:before.pull-right {
  margin-left: .3em;
}
.kernel_dead_icon:before {
  display: inline-block;
  font: normal normal normal 14px/1 FontAwesome;
  font-size: inherit;
  text-rendering: auto;
  -webkit-font-smoothing: antialiased;
  -moz-osx-font-smoothing: grayscale;
  content: "\f1e2";
}
.kernel_dead_icon:before.fa-pull-left {
  margin-right: .3em;
}
.kernel_dead_icon:before.fa-pull-right {
  margin-left: .3em;
}
.kernel_dead_icon:before.pull-left {
  margin-right: .3em;
}
.kernel_dead_icon:before.pull-right {
  margin-left: .3em;
}
.kernel_disconnected_icon:before {
  display: inline-block;
  font: normal normal normal 14px/1 FontAwesome;
  font-size: inherit;
  text-rendering: auto;
  -webkit-font-smoothing: antialiased;
  -moz-osx-font-smoothing: grayscale;
  content: "\f127";
}
.kernel_disconnected_icon:before.fa-pull-left {
  margin-right: .3em;
}
.kernel_disconnected_icon:before.fa-pull-right {
  margin-left: .3em;
}
.kernel_disconnected_icon:before.pull-left {
  margin-right: .3em;
}
.kernel_disconnected_icon:before.pull-right {
  margin-left: .3em;
}
.notification_widget {
  color: #777;
  z-index: 10;
  background: rgba(240, 240, 240, 0.5);
  margin-right: 4px;
  color: #333;
  background-color: #fff;
  border-color: #ccc;
}
.notification_widget:focus,
.notification_widget.focus {
  color: #333;
  background-color: #e6e6e6;
  border-color: #8c8c8c;
}
.notification_widget:hover {
  color: #333;
  background-color: #e6e6e6;
  border-color: #adadad;
}
.notification_widget:active,
.notification_widget.active,
.open > .dropdown-toggle.notification_widget {
  color: #333;
  background-color: #e6e6e6;
  border-color: #adadad;
}
.notification_widget:active:hover,
.notification_widget.active:hover,
.open > .dropdown-toggle.notification_widget:hover,
.notification_widget:active:focus,
.notification_widget.active:focus,
.open > .dropdown-toggle.notification_widget:focus,
.notification_widget:active.focus,
.notification_widget.active.focus,
.open > .dropdown-toggle.notification_widget.focus {
  color: #333;
  background-color: #d4d4d4;
  border-color: #8c8c8c;
}
.notification_widget:active,
.notification_widget.active,
.open > .dropdown-toggle.notification_widget {
  background-image: none;
}
.notification_widget.disabled:hover,
.notification_widget[disabled]:hover,
fieldset[disabled] .notification_widget:hover,
.notification_widget.disabled:focus,
.notification_widget[disabled]:focus,
fieldset[disabled] .notification_widget:focus,
.notification_widget.disabled.focus,
.notification_widget[disabled].focus,
fieldset[disabled] .notification_widget.focus {
  background-color: #fff;
  border-color: #ccc;
}
.notification_widget .badge {
  color: #fff;
  background-color: #333;
}
.notification_widget.warning {
  color: #fff;
  background-color: #f0ad4e;
  border-color: #eea236;
}
.notification_widget.warning:focus,
.notification_widget.warning.focus {
  color: #fff;
  background-color: #ec971f;
  border-color: #985f0d;
}
.notification_widget.warning:hover {
  color: #fff;
  background-color: #ec971f;
  border-color: #d58512;
}
.notification_widget.warning:active,
.notification_widget.warning.active,
.open > .dropdown-toggle.notification_widget.warning {
  color: #fff;
  background-color: #ec971f;
  border-color: #d58512;
}
.notification_widget.warning:active:hover,
.notification_widget.warning.active:hover,
.open > .dropdown-toggle.notification_widget.warning:hover,
.notification_widget.warning:active:focus,
.notification_widget.warning.active:focus,
.open > .dropdown-toggle.notification_widget.warning:focus,
.notification_widget.warning:active.focus,
.notification_widget.warning.active.focus,
.open > .dropdown-toggle.notification_widget.warning.focus {
  color: #fff;
  background-color: #d58512;
  border-color: #985f0d;
}
.notification_widget.warning:active,
.notification_widget.warning.active,
.open > .dropdown-toggle.notification_widget.warning {
  background-image: none;
}
.notification_widget.warning.disabled:hover,
.notification_widget.warning[disabled]:hover,
fieldset[disabled] .notification_widget.warning:hover,
.notification_widget.warning.disabled:focus,
.notification_widget.warning[disabled]:focus,
fieldset[disabled] .notification_widget.warning:focus,
.notification_widget.warning.disabled.focus,
.notification_widget.warning[disabled].focus,
fieldset[disabled] .notification_widget.warning.focus {
  background-color: #f0ad4e;
  border-color: #eea236;
}
.notification_widget.warning .badge {
  color: #f0ad4e;
  background-color: #fff;
}
.notification_widget.success {
  color: #fff;
  background-color: #5cb85c;
  border-color: #4cae4c;
}
.notification_widget.success:focus,
.notification_widget.success.focus {
  color: #fff;
  background-color: #449d44;
  border-color: #255625;
}
.notification_widget.success:hover {
  color: #fff;
  background-color: #449d44;
  border-color: #398439;
}
.notification_widget.success:active,
.notification_widget.success.active,
.open > .dropdown-toggle.notification_widget.success {
  color: #fff;
  background-color: #449d44;
  border-color: #398439;
}
.notification_widget.success:active:hover,
.notification_widget.success.active:hover,
.open > .dropdown-toggle.notification_widget.success:hover,
.notification_widget.success:active:focus,
.notification_widget.success.active:focus,
.open > .dropdown-toggle.notification_widget.success:focus,
.notification_widget.success:active.focus,
.notification_widget.success.active.focus,
.open > .dropdown-toggle.notification_widget.success.focus {
  color: #fff;
  background-color: #398439;
  border-color: #255625;
}
.notification_widget.success:active,
.notification_widget.success.active,
.open > .dropdown-toggle.notification_widget.success {
  background-image: none;
}
.notification_widget.success.disabled:hover,
.notification_widget.success[disabled]:hover,
fieldset[disabled] .notification_widget.success:hover,
.notification_widget.success.disabled:focus,
.notification_widget.success[disabled]:focus,
fieldset[disabled] .notification_widget.success:focus,
.notification_widget.success.disabled.focus,
.notification_widget.success[disabled].focus,
fieldset[disabled] .notification_widget.success.focus {
  background-color: #5cb85c;
  border-color: #4cae4c;
}
.notification_widget.success .badge {
  color: #5cb85c;
  background-color: #fff;
}
.notification_widget.info {
  color: #fff;
  background-color: #5bc0de;
  border-color: #46b8da;
}
.notification_widget.info:focus,
.notification_widget.info.focus {
  color: #fff;
  background-color: #31b0d5;
  border-color: #1b6d85;
}
.notification_widget.info:hover {
  color: #fff;
  background-color: #31b0d5;
  border-color: #269abc;
}
.notification_widget.info:active,
.notification_widget.info.active,
.open > .dropdown-toggle.notification_widget.info {
  color: #fff;
  background-color: #31b0d5;
  border-color: #269abc;
}
.notification_widget.info:active:hover,
.notification_widget.info.active:hover,
.open > .dropdown-toggle.notification_widget.info:hover,
.notification_widget.info:active:focus,
.notification_widget.info.active:focus,
.open > .dropdown-toggle.notification_widget.info:focus,
.notification_widget.info:active.focus,
.notification_widget.info.active.focus,
.open > .dropdown-toggle.notification_widget.info.focus {
  color: #fff;
  background-color: #269abc;
  border-color: #1b6d85;
}
.notification_widget.info:active,
.notification_widget.info.active,
.open > .dropdown-toggle.notification_widget.info {
  background-image: none;
}
.notification_widget.info.disabled:hover,
.notification_widget.info[disabled]:hover,
fieldset[disabled] .notification_widget.info:hover,
.notification_widget.info.disabled:focus,
.notification_widget.info[disabled]:focus,
fieldset[disabled] .notification_widget.info:focus,
.notification_widget.info.disabled.focus,
.notification_widget.info[disabled].focus,
fieldset[disabled] .notification_widget.info.focus {
  background-color: #5bc0de;
  border-color: #46b8da;
}
.notification_widget.info .badge {
  color: #5bc0de;
  background-color: #fff;
}
.notification_widget.danger {
  color: #fff;
  background-color: #d9534f;
  border-color: #d43f3a;
}
.notification_widget.danger:focus,
.notification_widget.danger.focus {
  color: #fff;
  background-color: #c9302c;
  border-color: #761c19;
}
.notification_widget.danger:hover {
  color: #fff;
  background-color: #c9302c;
  border-color: #ac2925;
}
.notification_widget.danger:active,
.notification_widget.danger.active,
.open > .dropdown-toggle.notification_widget.danger {
  color: #fff;
  background-color: #c9302c;
  border-color: #ac2925;
}
.notification_widget.danger:active:hover,
.notification_widget.danger.active:hover,
.open > .dropdown-toggle.notification_widget.danger:hover,
.notification_widget.danger:active:focus,
.notification_widget.danger.active:focus,
.open > .dropdown-toggle.notification_widget.danger:focus,
.notification_widget.danger:active.focus,
.notification_widget.danger.active.focus,
.open > .dropdown-toggle.notification_widget.danger.focus {
  color: #fff;
  background-color: #ac2925;
  border-color: #761c19;
}
.notification_widget.danger:active,
.notification_widget.danger.active,
.open > .dropdown-toggle.notification_widget.danger {
  background-image: none;
}
.notification_widget.danger.disabled:hover,
.notification_widget.danger[disabled]:hover,
fieldset[disabled] .notification_widget.danger:hover,
.notification_widget.danger.disabled:focus,
.notification_widget.danger[disabled]:focus,
fieldset[disabled] .notification_widget.danger:focus,
.notification_widget.danger.disabled.focus,
.notification_widget.danger[disabled].focus,
fieldset[disabled] .notification_widget.danger.focus {
  background-color: #d9534f;
  border-color: #d43f3a;
}
.notification_widget.danger .badge {
  color: #d9534f;
  background-color: #fff;
}
div#pager {
  background-color: #fff;
  font-size: 14px;
  line-height: 20px;
  overflow: hidden;
  display: none;
  position: fixed;
  bottom: 0px;
  width: 100%;
  max-height: 50%;
  padding-top: 8px;
  -webkit-box-shadow: 0px 0px 12px 1px rgba(87, 87, 87, 0.2);
  box-shadow: 0px 0px 12px 1px rgba(87, 87, 87, 0.2);
  /* Display over codemirror */
  z-index: 100;
  /* Hack which prevents jquery ui resizable from changing top. */
  top: auto !important;
}
div#pager pre {
  line-height: 1.21429em;
  color: #000;
  background-color: #f7f7f7;
  padding: 0.4em;
}
div#pager #pager-button-area {
  position: absolute;
  top: 8px;
  right: 20px;
}
div#pager #pager-contents {
  position: relative;
  overflow: auto;
  width: 100%;
  height: 100%;
}
div#pager #pager-contents #pager-container {
  position: relative;
  padding: 15px 0px;
  box-sizing: border-box;
  -moz-box-sizing: border-box;
  -webkit-box-sizing: border-box;
}
div#pager .ui-resizable-handle {
  top: 0px;
  height: 8px;
  background: #f7f7f7;
  border-top: 1px solid #cfcfcf;
  border-bottom: 1px solid #cfcfcf;
  /* This injects handle bars (a short, wide = symbol) for 
        the resize handle. */
}
div#pager .ui-resizable-handle::after {
  content: '';
  top: 2px;
  left: 50%;
  height: 3px;
  width: 30px;
  margin-left: -15px;
  position: absolute;
  border-top: 1px solid #cfcfcf;
}
.quickhelp {
  /* Old browsers */
  display: -webkit-box;
  -webkit-box-orient: horizontal;
  -webkit-box-align: stretch;
  display: -moz-box;
  -moz-box-orient: horizontal;
  -moz-box-align: stretch;
  display: box;
  box-orient: horizontal;
  box-align: stretch;
  /* Modern browsers */
  display: flex;
  flex-direction: row;
  align-items: stretch;
  line-height: 1.8em;
}
.shortcut_key {
  display: inline-block;
  width: 21ex;
  text-align: right;
  font-family: monospace;
}
.shortcut_descr {
  display: inline-block;
  /* Old browsers */
  -webkit-box-flex: 1;
  -moz-box-flex: 1;
  box-flex: 1;
  /* Modern browsers */
  flex: 1;
}
span.save_widget {
  height: 30px;
  margin-top: 4px;
  display: flex;
  justify-content: flex-start;
  align-items: baseline;
  width: 50%;
  flex: 1;
}
span.save_widget span.filename {
  height: 100%;
  line-height: 1em;
  margin-left: 16px;
  border: none;
  font-size: 146.5%;
  text-overflow: ellipsis;
  overflow: hidden;
  white-space: nowrap;
  border-radius: 2px;
}
span.save_widget span.filename:hover {
  background-color: #e6e6e6;
}
[dir="rtl"] span.save_widget.pull-left {
  float: right !important;
  float: right;
}
[dir="rtl"] span.save_widget span.filename {
  margin-left: 0;
  margin-right: 16px;
}
span.checkpoint_status,
span.autosave_status {
  font-size: small;
  white-space: nowrap;
  padding: 0 5px;
}
@media (max-width: 767px) {
  span.save_widget {
    font-size: small;
    padding: 0 0 0 5px;
  }
  span.checkpoint_status,
  span.autosave_status {
    display: none;
  }
}
@media (min-width: 768px) and (max-width: 991px) {
  span.checkpoint_status {
    display: none;
  }
  span.autosave_status {
    font-size: x-small;
  }
}
.toolbar {
  padding: 0px;
  margin-left: -5px;
  margin-top: 2px;
  margin-bottom: 5px;
  box-sizing: border-box;
  -moz-box-sizing: border-box;
  -webkit-box-sizing: border-box;
}
.toolbar select,
.toolbar label {
  width: auto;
  vertical-align: middle;
  margin-right: 2px;
  margin-bottom: 0px;
  display: inline;
  font-size: 92%;
  margin-left: 0.3em;
  margin-right: 0.3em;
  padding: 0px;
  padding-top: 3px;
}
.toolbar .btn {
  padding: 2px 8px;
}
.toolbar .btn-group {
  margin-top: 0px;
  margin-left: 5px;
}
.toolbar-btn-label {
  margin-left: 6px;
}
#maintoolbar {
  margin-bottom: -3px;
  margin-top: -8px;
  border: 0px;
  min-height: 27px;
  margin-left: 0px;
  padding-top: 11px;
  padding-bottom: 3px;
}
#maintoolbar .navbar-text {
  float: none;
  vertical-align: middle;
  text-align: right;
  margin-left: 5px;
  margin-right: 0px;
  margin-top: 0px;
}
.select-xs {
  height: 24px;
}
[dir="rtl"] .btn-group > .btn,
.btn-group-vertical > .btn {
  float: right;
}
.pulse,
.dropdown-menu > li > a.pulse,
li.pulse > a.dropdown-toggle,
li.pulse.open > a.dropdown-toggle {
  background-color: #F37626;
  color: white;
}
/**
 * Primary styles
 *
 * Author: Jupyter Development Team
 */
/** WARNING IF YOU ARE EDITTING THIS FILE, if this is a .css file, It has a lot
 * of chance of beeing generated from the ../less/[samename].less file, you can
 * try to get back the less file by reverting somme commit in history
 **/
/*
 * We'll try to get something pretty, so we
 * have some strange css to have the scroll bar on
 * the left with fix button on the top right of the tooltip
 */
@-moz-keyframes fadeOut {
  from {
    opacity: 1;
  }
  to {
    opacity: 0;
  }
}
@-webkit-keyframes fadeOut {
  from {
    opacity: 1;
  }
  to {
    opacity: 0;
  }
}
@-moz-keyframes fadeIn {
  from {
    opacity: 0;
  }
  to {
    opacity: 1;
  }
}
@-webkit-keyframes fadeIn {
  from {
    opacity: 0;
  }
  to {
    opacity: 1;
  }
}
/*properties of tooltip after "expand"*/
.bigtooltip {
  overflow: auto;
  height: 200px;
  -webkit-transition-property: height;
  -webkit-transition-duration: 500ms;
  -moz-transition-property: height;
  -moz-transition-duration: 500ms;
  transition-property: height;
  transition-duration: 500ms;
}
/*properties of tooltip before "expand"*/
.smalltooltip {
  -webkit-transition-property: height;
  -webkit-transition-duration: 500ms;
  -moz-transition-property: height;
  -moz-transition-duration: 500ms;
  transition-property: height;
  transition-duration: 500ms;
  text-overflow: ellipsis;
  overflow: hidden;
  height: 80px;
}
.tooltipbuttons {
  position: absolute;
  padding-right: 15px;
  top: 0px;
  right: 0px;
}
.tooltiptext {
  /*avoid the button to overlap on some docstring*/
  padding-right: 30px;
}
.ipython_tooltip {
  max-width: 700px;
  /*fade-in animation when inserted*/
  -webkit-animation: fadeOut 400ms;
  -moz-animation: fadeOut 400ms;
  animation: fadeOut 400ms;
  -webkit-animation: fadeIn 400ms;
  -moz-animation: fadeIn 400ms;
  animation: fadeIn 400ms;
  vertical-align: middle;
  background-color: #f7f7f7;
  overflow: visible;
  border: #ababab 1px solid;
  outline: none;
  padding: 3px;
  margin: 0px;
  padding-left: 7px;
  font-family: monospace;
  min-height: 50px;
  -moz-box-shadow: 0px 6px 10px -1px #adadad;
  -webkit-box-shadow: 0px 6px 10px -1px #adadad;
  box-shadow: 0px 6px 10px -1px #adadad;
  border-radius: 2px;
  position: absolute;
  z-index: 1000;
}
.ipython_tooltip a {
  float: right;
}
.ipython_tooltip .tooltiptext pre {
  border: 0;
  border-radius: 0;
  font-size: 100%;
  background-color: #f7f7f7;
}
.pretooltiparrow {
  left: 0px;
  margin: 0px;
  top: -16px;
  width: 40px;
  height: 16px;
  overflow: hidden;
  position: absolute;
}
.pretooltiparrow:before {
  background-color: #f7f7f7;
  border: 1px #ababab solid;
  z-index: 11;
  content: "";
  position: absolute;
  left: 15px;
  top: 10px;
  width: 25px;
  height: 25px;
  -webkit-transform: rotate(45deg);
  -moz-transform: rotate(45deg);
  -ms-transform: rotate(45deg);
  -o-transform: rotate(45deg);
}
ul.typeahead-list i {
  margin-left: -10px;
  width: 18px;
}
[dir="rtl"] ul.typeahead-list i {
  margin-left: 0;
  margin-right: -10px;
}
ul.typeahead-list {
  max-height: 80vh;
  overflow: auto;
}
ul.typeahead-list > li > a {
  /** Firefox bug **/
  /* see https://github.com/jupyter/notebook/issues/559 */
  white-space: normal;
}
ul.typeahead-list  > li > a.pull-right {
  float: left !important;
  float: left;
}
[dir="rtl"] .typeahead-list {
  text-align: right;
}
.cmd-palette .modal-body {
  padding: 7px;
}
.cmd-palette form {
  background: white;
}
.cmd-palette input {
  outline: none;
}
.no-shortcut {
  min-width: 20px;
  color: transparent;
}
[dir="rtl"] .no-shortcut.pull-right {
  float: left !important;
  float: left;
}
[dir="rtl"] .command-shortcut.pull-right {
  float: left !important;
  float: left;
}
.command-shortcut:before {
  content: "(command mode)";
  padding-right: 3px;
  color: #777777;
}
.edit-shortcut:before {
  content: "(edit)";
  padding-right: 3px;
  color: #777777;
}
[dir="rtl"] .edit-shortcut.pull-right {
  float: left !important;
  float: left;
}
#find-and-replace #replace-preview .match,
#find-and-replace #replace-preview .insert {
  background-color: #BBDEFB;
  border-color: #90CAF9;
  border-style: solid;
  border-width: 1px;
  border-radius: 0px;
}
[dir="ltr"] #find-and-replace .input-group-btn + .form-control {
  border-left: none;
}
[dir="rtl"] #find-and-replace .input-group-btn + .form-control {
  border-right: none;
}
#find-and-replace #replace-preview .replace .match {
  background-color: #FFCDD2;
  border-color: #EF9A9A;
  border-radius: 0px;
}
#find-and-replace #replace-preview .replace .insert {
  background-color: #C8E6C9;
  border-color: #A5D6A7;
  border-radius: 0px;
}
#find-and-replace #replace-preview {
  max-height: 60vh;
  overflow: auto;
}
#find-and-replace #replace-preview pre {
  padding: 5px 10px;
}
.terminal-app {
  background: #EEE;
}
.terminal-app #header {
  background: #fff;
  -webkit-box-shadow: 0px 0px 12px 1px rgba(87, 87, 87, 0.2);
  box-shadow: 0px 0px 12px 1px rgba(87, 87, 87, 0.2);
}
.terminal-app .terminal {
  width: 100%;
  float: left;
  font-family: monospace;
  color: white;
  background: black;
  padding: 0.4em;
  border-radius: 2px;
  -webkit-box-shadow: 0px 0px 12px 1px rgba(87, 87, 87, 0.4);
  box-shadow: 0px 0px 12px 1px rgba(87, 87, 87, 0.4);
}
.terminal-app .terminal,
.terminal-app .terminal dummy-screen {
  line-height: 1em;
  font-size: 14px;
}
.terminal-app .terminal .xterm-rows {
  padding: 10px;
}
.terminal-app .terminal-cursor {
  color: black;
  background: white;
}
.terminal-app #terminado-container {
  margin-top: 20px;
}
/*# sourceMappingURL=style.min.css.map */
    </style>
<style type="text/css">
    .highlight .hll { background-color: #ffffcc }
.highlight  { background: #f8f8f8; }
.highlight .c { color: #408080; font-style: italic } /* Comment */
.highlight .err { border: 1px solid #FF0000 } /* Error */
.highlight .k { color: #008000; font-weight: bold } /* Keyword */
.highlight .o { color: #666666 } /* Operator */
.highlight .ch { color: #408080; font-style: italic } /* Comment.Hashbang */
.highlight .cm { color: #408080; font-style: italic } /* Comment.Multiline */
.highlight .cp { color: #BC7A00 } /* Comment.Preproc */
.highlight .cpf { color: #408080; font-style: italic } /* Comment.PreprocFile */
.highlight .c1 { color: #408080; font-style: italic } /* Comment.Single */
.highlight .cs { color: #408080; font-style: italic } /* Comment.Special */
.highlight .gd { color: #A00000 } /* Generic.Deleted */
.highlight .ge { font-style: italic } /* Generic.Emph */
.highlight .gr { color: #FF0000 } /* Generic.Error */
.highlight .gh { color: #000080; font-weight: bold } /* Generic.Heading */
.highlight .gi { color: #00A000 } /* Generic.Inserted */
.highlight .go { color: #888888 } /* Generic.Output */
.highlight .gp { color: #000080; font-weight: bold } /* Generic.Prompt */
.highlight .gs { font-weight: bold } /* Generic.Strong */
.highlight .gu { color: #800080; font-weight: bold } /* Generic.Subheading */
.highlight .gt { color: #0044DD } /* Generic.Traceback */
.highlight .kc { color: #008000; font-weight: bold } /* Keyword.Constant */
.highlight .kd { color: #008000; font-weight: bold } /* Keyword.Declaration */
.highlight .kn { color: #008000; font-weight: bold } /* Keyword.Namespace */
.highlight .kp { color: #008000 } /* Keyword.Pseudo */
.highlight .kr { color: #008000; font-weight: bold } /* Keyword.Reserved */
.highlight .kt { color: #B00040 } /* Keyword.Type */
.highlight .m { color: #666666 } /* Literal.Number */
.highlight .s { color: #BA2121 } /* Literal.String */
.highlight .na { color: #7D9029 } /* Name.Attribute */
.highlight .nb { color: #008000 } /* Name.Builtin */
.highlight .nc { color: #0000FF; font-weight: bold } /* Name.Class */
.highlight .no { color: #880000 } /* Name.Constant */
.highlight .nd { color: #AA22FF } /* Name.Decorator */
.highlight .ni { color: #999999; font-weight: bold } /* Name.Entity */
.highlight .ne { color: #D2413A; font-weight: bold } /* Name.Exception */
.highlight .nf { color: #0000FF } /* Name.Function */
.highlight .nl { color: #A0A000 } /* Name.Label */
.highlight .nn { color: #0000FF; font-weight: bold } /* Name.Namespace */
.highlight .nt { color: #008000; font-weight: bold } /* Name.Tag */
.highlight .nv { color: #19177C } /* Name.Variable */
.highlight .ow { color: #AA22FF; font-weight: bold } /* Operator.Word */
.highlight .w { color: #bbbbbb } /* Text.Whitespace */
.highlight .mb { color: #666666 } /* Literal.Number.Bin */
.highlight .mf { color: #666666 } /* Literal.Number.Float */
.highlight .mh { color: #666666 } /* Literal.Number.Hex */
.highlight .mi { color: #666666 } /* Literal.Number.Integer */
.highlight .mo { color: #666666 } /* Literal.Number.Oct */
.highlight .sa { color: #BA2121 } /* Literal.String.Affix */
.highlight .sb { color: #BA2121 } /* Literal.String.Backtick */
.highlight .sc { color: #BA2121 } /* Literal.String.Char */
.highlight .dl { color: #BA2121 } /* Literal.String.Delimiter */
.highlight .sd { color: #BA2121; font-style: italic } /* Literal.String.Doc */
.highlight .s2 { color: #BA2121 } /* Literal.String.Double */
.highlight .se { color: #BB6622; font-weight: bold } /* Literal.String.Escape */
.highlight .sh { color: #BA2121 } /* Literal.String.Heredoc */
.highlight .si { color: #BB6688; font-weight: bold } /* Literal.String.Interpol */
.highlight .sx { color: #008000 } /* Literal.String.Other */
.highlight .sr { color: #BB6688 } /* Literal.String.Regex */
.highlight .s1 { color: #BA2121 } /* Literal.String.Single */
.highlight .ss { color: #19177C } /* Literal.String.Symbol */
.highlight .bp { color: #008000 } /* Name.Builtin.Pseudo */
.highlight .fm { color: #0000FF } /* Name.Function.Magic */
.highlight .vc { color: #19177C } /* Name.Variable.Class */
.highlight .vg { color: #19177C } /* Name.Variable.Global */
.highlight .vi { color: #19177C } /* Name.Variable.Instance */
.highlight .vm { color: #19177C } /* Name.Variable.Magic */
.highlight .il { color: #666666 } /* Literal.Number.Integer.Long */
    </style>


<style type="text/css">
/* Overrides of notebook CSS for static HTML export */
body {
  overflow: visible;
  padding: 8px;
}

div#notebook {
  overflow: visible;
  border-top: none;
}@media print {
  div.cell {
    display: block;
    page-break-inside: avoid;
  } 
  div.output_wrapper { 
    display: block;
    page-break-inside: avoid; 
  }
  div.output { 
    display: block;
    page-break-inside: avoid; 
  }
}
</style>

<!-- Custom stylesheet, it must be in the same directory as the html file -->
<link rel="stylesheet" href="custom.css">

<!-- Loading mathjax macro -->
<!-- Load mathjax -->
    <script src="https://cdnjs.cloudflare.com/ajax/libs/mathjax/2.7.5/latest.js?config=TeX-AMS_HTML"></script>
    <!-- MathJax configuration -->
    <script type="text/x-mathjax-config">
    MathJax.Hub.Config({
        tex2jax: {
            inlineMath: [ ['$','$'], ["\\(","\\)"] ],
            displayMath: [ ['$$','$$'], ["\\[","\\]"] ],
            processEscapes: true,
            processEnvironments: true
        },
        // Center justify equations in code and markdown cells. Elsewhere
        // we use CSS to left justify single line equations in code cells.
        displayAlign: 'center',
        "HTML-CSS": {
            styles: {'.MathJax_Display': {"margin": 0}},
            linebreaks: { automatic: true }
        }
    });
    </script>
    <!-- End of mathjax configuration --></head>
<body>
  <div tabindex="-1" id="notebook" class="border-box-sizing">
    <div class="container" id="notebook-container">

<div class="cell border-box-sizing code_cell rendered">
<div class="input">
<div class="prompt input_prompt">In&nbsp;[2]:</div>
<div class="inner_cell">
    <div class="input_area">
<div class=" highlight hl-ipython3"><pre><span></span><span class="kn">import</span> <span class="nn">pandas</span> <span class="k">as</span> <span class="nn">pd</span>
</pre></div>

    </div>
</div>
</div>

</div>
<div class="cell border-box-sizing code_cell rendered">
<div class="input">
<div class="prompt input_prompt">In&nbsp;[3]:</div>
<div class="inner_cell">
    <div class="input_area">
<div class=" highlight hl-ipython3"><pre><span></span><span class="kn">import</span> <span class="nn">matplotlib.pyplot</span> <span class="k">as</span> <span class="nn">plt</span>
<span class="o">%</span> <span class="n">matpllotlib</span> <span class="n">inline</span>
</pre></div>

    </div>
</div>
</div>

<div class="output_wrapper">
<div class="output">


<div class="output_area">

    <div class="prompt"></div>


<div class="output_subarea output_stream output_stderr output_text">
<pre>UsageError: Line magic function `%` not found.
</pre>
</div>
</div>

</div>
</div>

</div>
<div class="cell border-box-sizing code_cell rendered">
<div class="input">
<div class="prompt input_prompt">In&nbsp;[4]:</div>
<div class="inner_cell">
    <div class="input_area">
<div class=" highlight hl-ipython3"><pre><span></span><span class="n">data</span> <span class="o">=</span> <span class="n">pd</span><span class="o">.</span><span class="n">read_csv</span><span class="p">(</span><span class="s1">&#39;Advertising.csv&#39;</span><span class="p">)</span>
</pre></div>

    </div>
</div>
</div>

</div>
<div class="cell border-box-sizing code_cell rendered">
<div class="input">
<div class="prompt input_prompt">In&nbsp;[5]:</div>
<div class="inner_cell">
    <div class="input_area">
<div class=" highlight hl-ipython3"><pre><span></span><span class="n">data</span><span class="o">.</span><span class="n">head</span><span class="p">()</span>
</pre></div>

    </div>
</div>
</div>

<div class="output_wrapper">
<div class="output">


<div class="output_area">

    <div class="prompt output_prompt">Out[5]:</div>



<div class="output_html rendered_html output_subarea output_execute_result">
<div>
<style scoped>
    .dataframe tbody tr th:only-of-type {
        vertical-align: middle;
    }

    .dataframe tbody tr th {
        vertical-align: top;
    }

    .dataframe thead th {
        text-align: right;
    }
</style>
<table border="1" class="dataframe">
  <thead>
    <tr style="text-align: right;">
      <th></th>
      <th>Unnamed: 0</th>
      <th>TV</th>
      <th>radio</th>
      <th>newspaper</th>
      <th>sales</th>
    </tr>
  </thead>
  <tbody>
    <tr>
      <th>0</th>
      <td>1</td>
      <td>230.1</td>
      <td>37.8</td>
      <td>69.2</td>
      <td>22.1</td>
    </tr>
    <tr>
      <th>1</th>
      <td>2</td>
      <td>44.5</td>
      <td>39.3</td>
      <td>45.1</td>
      <td>10.4</td>
    </tr>
    <tr>
      <th>2</th>
      <td>3</td>
      <td>17.2</td>
      <td>45.9</td>
      <td>69.3</td>
      <td>9.3</td>
    </tr>
    <tr>
      <th>3</th>
      <td>4</td>
      <td>151.5</td>
      <td>41.3</td>
      <td>58.5</td>
      <td>18.5</td>
    </tr>
    <tr>
      <th>4</th>
      <td>5</td>
      <td>180.8</td>
      <td>10.8</td>
      <td>58.4</td>
      <td>12.9</td>
    </tr>
  </tbody>
</table>
</div>
</div>

</div>

</div>
</div>

</div>
<div class="cell border-box-sizing code_cell rendered">
<div class="input">
<div class="prompt input_prompt">In&nbsp;[6]:</div>
<div class="inner_cell">
    <div class="input_area">
<div class=" highlight hl-ipython3"><pre><span></span><span class="n">data</span><span class="o">.</span><span class="n">tail</span><span class="p">()</span>
</pre></div>

    </div>
</div>
</div>

<div class="output_wrapper">
<div class="output">


<div class="output_area">

    <div class="prompt output_prompt">Out[6]:</div>



<div class="output_html rendered_html output_subarea output_execute_result">
<div>
<style scoped>
    .dataframe tbody tr th:only-of-type {
        vertical-align: middle;
    }

    .dataframe tbody tr th {
        vertical-align: top;
    }

    .dataframe thead th {
        text-align: right;
    }
</style>
<table border="1" class="dataframe">
  <thead>
    <tr style="text-align: right;">
      <th></th>
      <th>Unnamed: 0</th>
      <th>TV</th>
      <th>radio</th>
      <th>newspaper</th>
      <th>sales</th>
    </tr>
  </thead>
  <tbody>
    <tr>
      <th>195</th>
      <td>196</td>
      <td>38.2</td>
      <td>3.7</td>
      <td>13.8</td>
      <td>7.6</td>
    </tr>
    <tr>
      <th>196</th>
      <td>197</td>
      <td>94.2</td>
      <td>4.9</td>
      <td>8.1</td>
      <td>9.7</td>
    </tr>
    <tr>
      <th>197</th>
      <td>198</td>
      <td>177.0</td>
      <td>9.3</td>
      <td>6.4</td>
      <td>12.8</td>
    </tr>
    <tr>
      <th>198</th>
      <td>199</td>
      <td>283.6</td>
      <td>42.0</td>
      <td>66.2</td>
      <td>25.5</td>
    </tr>
    <tr>
      <th>199</th>
      <td>200</td>
      <td>232.1</td>
      <td>8.6</td>
      <td>8.7</td>
      <td>13.4</td>
    </tr>
  </tbody>
</table>
</div>
</div>

</div>

</div>
</div>

</div>
<div class="cell border-box-sizing code_cell rendered">
<div class="input">
<div class="prompt input_prompt">In&nbsp;[7]:</div>
<div class="inner_cell">
    <div class="input_area">
<div class=" highlight hl-ipython3"><pre><span></span><span class="n">data</span><span class="o">.</span><span class="n">info</span><span class="p">()</span>
</pre></div>

    </div>
</div>
</div>

<div class="output_wrapper">
<div class="output">


<div class="output_area">

    <div class="prompt"></div>


<div class="output_subarea output_stream output_stdout output_text">
<pre>&lt;class &#39;pandas.core.frame.DataFrame&#39;&gt;
RangeIndex: 200 entries, 0 to 199
Data columns (total 5 columns):
 #   Column      Non-Null Count  Dtype  
---  ------      --------------  -----  
 0   Unnamed: 0  200 non-null    int64  
 1   TV          200 non-null    float64
 2   radio       200 non-null    float64
 3   newspaper   200 non-null    float64
 4   sales       200 non-null    float64
dtypes: float64(4), int64(1)
memory usage: 7.9 KB
</pre>
</div>
</div>

</div>
</div>

</div>
<div class="cell border-box-sizing code_cell rendered">
<div class="input">
<div class="prompt input_prompt">In&nbsp;[8]:</div>
<div class="inner_cell">
    <div class="input_area">
<div class=" highlight hl-ipython3"><pre><span></span><span class="n">data</span><span class="o">.</span><span class="n">isna</span><span class="p">()</span><span class="o">.</span><span class="n">sum</span><span class="p">()</span>
</pre></div>

    </div>
</div>
</div>

<div class="output_wrapper">
<div class="output">


<div class="output_area">

    <div class="prompt output_prompt">Out[8]:</div>




<div class="output_text output_subarea output_execute_result">
<pre>Unnamed: 0    0
TV            0
radio         0
newspaper     0
sales         0
dtype: int64</pre>
</div>

</div>

</div>
</div>

</div>
<div class="cell border-box-sizing code_cell rendered">
<div class="input">
<div class="prompt input_prompt">In&nbsp;[9]:</div>
<div class="inner_cell">
    <div class="input_area">
<div class=" highlight hl-ipython3"><pre><span></span><span class="n">plt</span><span class="o">.</span><span class="n">scatter</span><span class="p">(</span><span class="n">data</span><span class="p">[</span><span class="s1">&#39;TV&#39;</span><span class="p">],</span><span class="n">data</span><span class="p">[</span><span class="s1">&#39;sales&#39;</span><span class="p">])</span>
</pre></div>

    </div>
</div>
</div>

<div class="output_wrapper">
<div class="output">


<div class="output_area">

    <div class="prompt output_prompt">Out[9]:</div>




<div class="output_text output_subarea output_execute_result">
<pre>&lt;matplotlib.collections.PathCollection at 0x1de4904dc88&gt;</pre>
</div>

</div>

<div class="output_area">

    <div class="prompt"></div>




<div class="output_png output_subarea ">
<img src="data:image/png;base64,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
"
>
</div>

</div>

</div>
</div>

</div>
<div class="cell border-box-sizing code_cell rendered">
<div class="input">
<div class="prompt input_prompt">In&nbsp;[10]:</div>
<div class="inner_cell">
    <div class="input_area">
<div class=" highlight hl-ipython3"><pre><span></span><span class="n">fig</span><span class="p">,</span> <span class="n">axs</span><span class="o">=</span><span class="n">plt</span><span class="o">.</span><span class="n">subplots</span><span class="p">(</span><span class="mi">1</span><span class="p">,</span><span class="mi">3</span><span class="p">,</span><span class="n">sharey</span><span class="o">=</span><span class="kc">True</span><span class="p">)</span>
<span class="n">data</span><span class="o">.</span><span class="n">plot</span><span class="p">(</span><span class="n">kind</span><span class="o">=</span><span class="s1">&#39;scatter&#39;</span><span class="p">,</span><span class="n">x</span><span class="o">=</span><span class="s1">&#39;TV&#39;</span><span class="p">,</span><span class="n">y</span><span class="o">=</span><span class="s1">&#39;sales&#39;</span><span class="p">,</span><span class="n">ax</span><span class="o">=</span><span class="n">axs</span><span class="p">[</span><span class="mi">0</span><span class="p">],</span><span class="n">figsize</span><span class="o">=</span><span class="p">(</span><span class="mi">16</span><span class="p">,</span><span class="mi">8</span><span class="p">))</span>
<span class="n">data</span><span class="o">.</span><span class="n">plot</span><span class="p">(</span><span class="n">kind</span><span class="o">=</span><span class="s1">&#39;hist&#39;</span><span class="p">,</span> <span class="n">x</span><span class="o">=</span><span class="s1">&#39;radio&#39;</span><span class="p">,</span> <span class="n">y</span><span class="o">=</span><span class="s1">&#39;sales&#39;</span><span class="p">,</span> <span class="n">ax</span><span class="o">=</span><span class="n">axs</span><span class="p">[</span><span class="mi">1</span><span class="p">])</span>
<span class="n">data</span><span class="o">.</span><span class="n">plot</span><span class="p">(</span><span class="n">kind</span><span class="o">=</span><span class="s1">&#39;bar&#39;</span><span class="p">,</span> <span class="n">x</span><span class="o">=</span><span class="s1">&#39;newspaper&#39;</span><span class="p">,</span> <span class="n">y</span><span class="o">=</span><span class="s1">&#39;sales&#39;</span><span class="p">,</span> <span class="n">ax</span><span class="o">=</span><span class="n">axs</span><span class="p">[</span><span class="mi">2</span><span class="p">])</span>
</pre></div>

    </div>
</div>
</div>

<div class="output_wrapper">
<div class="output">


<div class="output_area">

    <div class="prompt output_prompt">Out[10]:</div>




<div class="output_text output_subarea output_execute_result">
<pre>&lt;matplotlib.axes._subplots.AxesSubplot at 0x1de49146108&gt;</pre>
</div>

</div>

<div class="output_area">

    <div class="prompt"></div>




<div class="output_png output_subarea ">
<img src="data:image/png;base64,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
"
>
</div>

</div>

</div>
</div>

</div>
<div class="cell border-box-sizing code_cell rendered">
<div class="input">
<div class="prompt input_prompt">In&nbsp;[11]:</div>
<div class="inner_cell">
    <div class="input_area">
<div class=" highlight hl-ipython3"><pre><span></span><span class="c1">#feature_cols = [&#39;TV&#39;]</span>
<span class="n">X</span> <span class="o">=</span> <span class="n">data</span><span class="p">[[</span><span class="s1">&#39;TV&#39;</span><span class="p">]]</span>
<span class="n">y</span> <span class="o">=</span> <span class="n">data</span><span class="p">[[</span><span class="s1">&#39;sales&#39;</span><span class="p">]]</span>
</pre></div>

    </div>
</div>
</div>

</div>
<div class="cell border-box-sizing code_cell rendered">
<div class="input">
<div class="prompt input_prompt">In&nbsp;[12]:</div>
<div class="inner_cell">
    <div class="input_area">
<div class=" highlight hl-ipython3"><pre><span></span><span class="kn">from</span> <span class="nn">sklearn.linear_model</span> <span class="kn">import</span> <span class="n">LinearRegression</span>
<span class="n">regr</span><span class="o">=</span><span class="n">LinearRegression</span><span class="p">()</span>
<span class="n">regr</span><span class="o">.</span><span class="n">fit</span><span class="p">(</span><span class="n">X</span><span class="p">,</span><span class="n">y</span><span class="p">)</span>
</pre></div>

    </div>
</div>
</div>

<div class="output_wrapper">
<div class="output">


<div class="output_area">

    <div class="prompt output_prompt">Out[12]:</div>




<div class="output_text output_subarea output_execute_result">
<pre>LinearRegression(copy_X=True, fit_intercept=True, n_jobs=None, normalize=False)</pre>
</div>

</div>

</div>
</div>

</div>
<div class="cell border-box-sizing code_cell rendered">
<div class="input">
<div class="prompt input_prompt">In&nbsp;[13]:</div>
<div class="inner_cell">
    <div class="input_area">
<div class=" highlight hl-ipython3"><pre><span></span><span class="nb">print</span><span class="p">(</span><span class="n">regr</span><span class="o">.</span><span class="n">intercept_</span><span class="p">)</span>
<span class="nb">print</span><span class="p">(</span><span class="n">regr</span><span class="o">.</span><span class="n">coef_</span><span class="p">)</span>
</pre></div>

    </div>
</div>
</div>

<div class="output_wrapper">
<div class="output">


<div class="output_area">

    <div class="prompt"></div>


<div class="output_subarea output_stream output_stdout output_text">
<pre>[7.03259355]
[[0.04753664]]
</pre>
</div>
</div>

</div>
</div>

</div>
<div class="cell border-box-sizing code_cell rendered">
<div class="input">
<div class="prompt input_prompt">In&nbsp;[14]:</div>
<div class="inner_cell">
    <div class="input_area">
<div class=" highlight hl-ipython3"><pre><span></span><span class="n">predicted_N</span><span class="o">=</span><span class="n">regr</span><span class="o">.</span><span class="n">predict</span><span class="p">(</span><span class="n">X</span><span class="p">)</span>
<span class="n">predicted_N</span>
</pre></div>

    </div>
</div>
</div>

<div class="output_wrapper">
<div class="output">


<div class="output_area">

    <div class="prompt output_prompt">Out[14]:</div>




<div class="output_text output_subarea output_execute_result">
<pre>array([[17.97077451],
       [ 9.14797405],
       [ 7.85022376],
       [14.23439457],
       [15.62721814],
       [ 7.44616232],
       [ 9.76595037],
       [12.74649773],
       [ 7.44140866],
       [16.53041431],
       [10.17476548],
       [17.23871025],
       [ 8.16396559],
       [11.66741599],
       [16.73482186],
       [16.32125309],
       [10.25557777],
       [20.40940417],
       [10.32212907],
       [14.03474068],
       [17.41459582],
       [18.31779199],
       [ 7.6600772 ],
       [17.88520856],
       [ 9.99412625],
       [19.52997632],
       [13.82557947],
       [18.44614092],
       [18.85970969],
       [10.38868036],
       [20.95607553],
       [12.39948025],
       [11.653155  ],
       [19.65832525],
       [11.58185004],
       [20.85149492],
       [19.72012288],
       [10.58358059],
       [ 9.08142275],
       [17.87094757],
       [16.65876324],
       [15.44657891],
       [20.98935118],
       [16.86792445],
       [ 8.22576322],
       [15.35625929],
       [11.2966302 ],
       [18.43663359],
       [17.83291826],
       [10.21279479],
       [16.53041431],
       [11.80527225],
       [17.31952254],
       [15.71278409],
       [19.52046899],
       [16.48763133],
       [ 7.37961102],
       [13.50708398],
       [17.05331735],
       [17.04856369],
       [ 9.57580381],
       [19.45391769],
       [18.4081116 ],
       [11.91460652],
       [13.26464711],
       [10.31262174],
       [ 8.52999772],
       [13.65444756],
       [18.31779199],
       [17.3385372 ],
       [16.49713866],
       [12.25211667],
       [ 8.30657551],
       [13.18383482],
       [17.17691262],
       [ 7.83596277],
       [ 8.33985116],
       [12.76075872],
       [ 7.28929141],
       [12.54684384],
       [10.66439288],
       [18.43187992],
       [10.61210257],
       [10.28409975],
       [17.18166628],
       [16.21667248],
       [10.65963921],
       [12.29489965],
       [11.2300789 ],
       [12.25211667],
       [13.41676436],
       [ 8.39214147],
       [17.38132017],
       [18.95953663],
       [12.13802873],
       [14.79532693],
       [16.4258337 ],
       [15.82211837],
       [20.80395828],
       [13.45954734],
       [17.60474238],
       [21.12245377],
       [20.3523602 ],
       [15.96472829],
       [18.3558213 ],
       [13.58789626],
       [ 8.22100956],
       [11.32990584],
       [ 7.65532354],
       [19.17345152],
       [17.76636696],
       [18.52219954],
       [15.38478127],
       [16.99627338],
       [10.74995883],
       [10.60259525],
       [13.6496939 ],
       [10.66439288],
       [13.00794925],
       [ 7.95480437],
       [13.74952084],
       [ 7.92628239],
       [17.68080101],
       [12.88435399],
       [17.94225253],
       [11.17778859],
       [ 7.40337934],
       [10.84503211],
       [17.50491544],
       [ 9.86577732],
       [ 7.0658692 ],
       [19.63931059],
       [ 7.43190133],
       [17.48114712],
       [ 8.78669558],
       [ 9.32861328],
       [ 8.24953154],
       [20.04337204],
       [ 9.07666909],
       [15.82211837],
       [10.52178296],
       [16.2404408 ],
       [17.51442276],
       [12.00492614],
       [11.60561836],
       [13.7019842 ],
       [18.44614092],
       [18.5935045 ],
       [ 8.83898589],
       [ 9.15748138],
       [20.37612852],
       [12.78452704],
       [16.4258337 ],
       [15.17562006],
       [15.95997462],
       [ 7.22749377],
       [11.49628409],
       [14.15358229],
       [ 7.58877224],
       [13.29316909],
       [15.23266402],
       [11.10648363],
       [15.98849661],
       [14.80483426],
       [12.60388781],
       [18.17993573],
       [ 7.88349941],
       [16.86317079],
       [17.2719859 ],
       [20.54726042],
       [ 9.40942557],
       [14.8523709 ],
       [ 7.9643117 ],
       [15.0377638 ],
       [17.60474238],
       [20.19548929],
       [18.84069503],
       [15.12332975],
       [20.18598196],
       [14.9046612 ],
       [14.47683144],
       [17.41934948],
       [ 9.70415274],
       [20.70413134],
       [19.09739289],
       [16.77760484],
       [13.66395489],
       [16.11684554],
       [20.62807271],
       [ 7.92152873],
       [ 8.91029085],
       [10.6216099 ],
       [ 7.85022376],
       [14.96170517],
       [14.14882862],
       [ 8.84849321],
       [11.51054508],
       [15.44657891],
       [20.51398478],
       [18.06584779]])</pre>
</div>

</div>

</div>
</div>

</div>
<div class="cell border-box-sizing code_cell rendered">
<div class="input">
<div class="prompt input_prompt">In&nbsp;[15]:</div>
<div class="inner_cell">
    <div class="input_area">
<div class=" highlight hl-ipython3"><pre><span></span><span class="n">data</span><span class="o">.</span><span class="n">plot</span><span class="p">(</span><span class="n">kind</span><span class="o">=</span><span class="s1">&#39;scatter&#39;</span><span class="p">,</span> <span class="n">x</span><span class="o">=</span><span class="s1">&#39;TV&#39;</span><span class="p">,</span> <span class="n">y</span><span class="o">=</span><span class="s1">&#39;sales&#39;</span><span class="p">)</span>
<span class="n">plt</span><span class="o">.</span><span class="n">plot</span><span class="p">(</span><span class="n">X</span><span class="p">,</span><span class="n">predicted_N</span><span class="p">,</span><span class="n">c</span><span class="o">=</span><span class="s1">&#39;red&#39;</span><span class="p">)</span>
</pre></div>

    </div>
</div>
</div>

<div class="output_wrapper">
<div class="output">


<div class="output_area">

    <div class="prompt output_prompt">Out[15]:</div>




<div class="output_text output_subarea output_execute_result">
<pre>[&lt;matplotlib.lines.Line2D at 0x1de4ba291c8&gt;]</pre>
</div>

</div>

<div class="output_area">

    <div class="prompt"></div>




<div class="output_png output_subarea ">
<img src="data:image/png;base64,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
"
>
</div>

</div>

</div>
</div>

</div>
<div class="cell border-box-sizing code_cell rendered">
<div class="input">
<div class="prompt input_prompt">In&nbsp;[18]:</div>
<div class="inner_cell">
    <div class="input_area">
<div class=" highlight hl-ipython3"><pre><span></span><span class="n">predicted_N</span><span class="o">=</span><span class="n">regr</span><span class="o">.</span><span class="n">predict</span><span class="p">([[</span><span class="mi">50</span><span class="p">]])</span>
<span class="n">predicted_N</span>
</pre></div>

    </div>
</div>
</div>

<div class="output_wrapper">
<div class="output">


<div class="output_area">

    <div class="prompt output_prompt">Out[18]:</div>




<div class="output_text output_subarea output_execute_result">
<pre>array([[9.40942557]])</pre>
</div>

</div>

</div>
</div>

</div>
<div class="cell border-box-sizing code_cell rendered">
<div class="input">
<div class="prompt input_prompt">In&nbsp;[19]:</div>
<div class="inner_cell">
    <div class="input_area">
<div class=" highlight hl-ipython3"><pre><span></span><span class="n">predicted_N</span><span class="o">=</span><span class="n">regr</span><span class="o">.</span><span class="n">predict</span><span class="p">([[</span><span class="mi">60</span><span class="p">]])</span>
<span class="n">predicted_N</span>
</pre></div>

    </div>
</div>
</div>

<div class="output_wrapper">
<div class="output">


<div class="output_area">

    <div class="prompt output_prompt">Out[19]:</div>




<div class="output_text output_subarea output_execute_result">
<pre>array([[9.88479198]])</pre>
</div>

</div>

</div>
</div>

</div>
<div class="cell border-box-sizing code_cell rendered">
<div class="input">
<div class="prompt input_prompt">In&nbsp;[20]:</div>
<div class="inner_cell">
    <div class="input_area">
<div class=" highlight hl-ipython3"><pre><span></span><span class="n">X_new</span> <span class="o">=</span> <span class="n">pd</span><span class="o">.</span><span class="n">DataFrame</span><span class="p">({</span><span class="s1">&#39;TV&#39;</span><span class="p">:</span> <span class="p">[</span><span class="mi">50</span><span class="p">]})</span>
<span class="n">X_new</span><span class="o">.</span><span class="n">head</span><span class="p">()</span>
</pre></div>

    </div>
</div>
</div>

<div class="output_wrapper">
<div class="output">


<div class="output_area">

    <div class="prompt output_prompt">Out[20]:</div>



<div class="output_html rendered_html output_subarea output_execute_result">
<div>
<style scoped>
    .dataframe tbody tr th:only-of-type {
        vertical-align: middle;
    }

    .dataframe tbody tr th {
        vertical-align: top;
    }

    .dataframe thead th {
        text-align: right;
    }
</style>
<table border="1" class="dataframe">
  <thead>
    <tr style="text-align: right;">
      <th></th>
      <th>TV</th>
    </tr>
  </thead>
  <tbody>
    <tr>
      <th>0</th>
      <td>50</td>
    </tr>
  </tbody>
</table>
</div>
</div>

</div>

</div>
</div>

</div>
<div class="cell border-box-sizing code_cell rendered">
<div class="input">
<div class="prompt input_prompt">In&nbsp;[21]:</div>
<div class="inner_cell">
    <div class="input_area">
<div class=" highlight hl-ipython3"><pre><span></span><span class="n">regr</span><span class="o">.</span><span class="n">predict</span><span class="p">(</span><span class="n">X_new</span><span class="p">)</span>
</pre></div>

    </div>
</div>
</div>

<div class="output_wrapper">
<div class="output">


<div class="output_area">

    <div class="prompt output_prompt">Out[21]:</div>




<div class="output_text output_subarea output_execute_result">
<pre>array([[9.40942557]])</pre>
</div>

</div>

</div>
</div>

</div>
<div class="cell border-box-sizing code_cell rendered">
<div class="input">
<div class="prompt input_prompt">In&nbsp;[&nbsp;]:</div>
<div class="inner_cell">
    <div class="input_area">
<div class=" highlight hl-ipython3"><pre><span></span> 
</pre></div>

    </div>
</div>
</div>

</div>
    </div>
  </div>
</body>

 


</html>
